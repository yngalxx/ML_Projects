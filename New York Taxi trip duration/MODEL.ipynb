{
 "cells": [
  {
   "cell_type": "markdown",
   "metadata": {
    "colab_type": "text",
    "id": "lBNZpyFooVVh"
   },
   "source": [
    "# Imports"
   ]
  },
  {
   "cell_type": "code",
   "execution_count": 313,
   "metadata": {
    "colab": {},
    "colab_type": "code",
    "id": "CE3PgSZFlGEL"
   },
   "outputs": [],
   "source": [
    "# imports\n",
    "%matplotlib inline\n",
    "import matplotlib.pyplot as plt\n",
    "import pandas as pd\n",
    "import numpy as np\n",
    "from tqdm.notebook import tqdm\n",
    "from catboost import CatBoostRegressor, Pool, CatBoostClassifier\n",
    "from sklearn.metrics import r2_score, accuracy_score\n",
    "import seaborn as sns\n",
    "from sklearn.model_selection import train_test_split \n",
    "import math\n",
    "from sklearn.model_selection import RandomizedSearchCV\n",
    "from sklearn.ensemble import RandomForestClassifier\n",
    "from sklearn.utils import shuffle\n",
    "\n",
    "# opcje:\n",
    "import warnings\n",
    "warnings.filterwarnings(\"ignore\")\n",
    "pd.set_option('display.max_rows', 60)\n",
    "pd.set_option('display.max_columns', None)"
   ]
  },
  {
   "cell_type": "markdown",
   "metadata": {
    "colab_type": "text",
    "id": "AJ9Hx_mpx9k4"
   },
   "source": [
    "## Preparing datsets\n",
    "\n",
    "\n"
   ]
  },
  {
   "cell_type": "code",
   "execution_count": 314,
   "metadata": {
    "colab": {},
    "colab_type": "code",
    "id": "ZoLGaC_ojXpw"
   },
   "outputs": [],
   "source": [
    "# Train\n",
    "train = pd.read_csv(\n",
    "    '/Users/alexdrozdz/JupyterNotebook/New_York_City_Taxis/train_processed.csv', \n",
    "    index_col=0)"
   ]
  },
  {
   "cell_type": "code",
   "execution_count": 315,
   "metadata": {
    "colab": {},
    "colab_type": "code",
    "id": "RP412lcRjXqQ"
   },
   "outputs": [],
   "source": [
    "train = train.reindex(\n",
    "    sorted(train.columns), axis=1)"
   ]
  },
  {
   "cell_type": "code",
   "execution_count": 316,
   "metadata": {},
   "outputs": [],
   "source": [
    "train = shuffle(train)"
   ]
  },
  {
   "cell_type": "code",
   "execution_count": 317,
   "metadata": {},
   "outputs": [],
   "source": [
    "test = pd.read_csv(\n",
    "    '/Users/alexdrozdz/JupyterNotebook/New_York_City_Taxis/test_processed.csv', \n",
    "    index_col=0)"
   ]
  },
  {
   "cell_type": "code",
   "execution_count": 318,
   "metadata": {},
   "outputs": [],
   "source": [
    "test = test.reindex(\n",
    "    sorted(test.columns), axis=1)"
   ]
  },
  {
   "cell_type": "markdown",
   "metadata": {
    "colab_type": "text",
    "id": "d0kQ0T_zgWIt"
   },
   "source": [
    "## CatBoost"
   ]
  },
  {
   "cell_type": "code",
   "execution_count": 336,
   "metadata": {
    "colab": {},
    "colab_type": "code",
    "id": "fJ3-iLJLkjv8"
   },
   "outputs": [],
   "source": [
    "X = train"
   ]
  },
  {
   "cell_type": "code",
   "execution_count": 337,
   "metadata": {
    "colab": {},
    "colab_type": "code",
    "id": "wRFn2v7uw0sa"
   },
   "outputs": [],
   "source": [
    "y = np.log1p(X['trip_duration'])"
   ]
  },
  {
   "cell_type": "code",
   "execution_count": 338,
   "metadata": {
    "colab": {},
    "colab_type": "code",
    "id": "q7Q1ubh_jXqu"
   },
   "outputs": [],
   "source": [
    "X = X.drop('trip_duration', axis = 1)\n",
    "X = X.drop('id', axis = 1)"
   ]
  },
  {
   "cell_type": "code",
   "execution_count": 339,
   "metadata": {
    "colab": {},
    "colab_type": "code",
    "id": "wv9hS2a7jXql"
   },
   "outputs": [],
   "source": [
    "X = X.astype('float64')"
   ]
  },
  {
   "cell_type": "code",
   "execution_count": 340,
   "metadata": {},
   "outputs": [],
   "source": [
    "cols = X.columns"
   ]
  },
  {
   "cell_type": "code",
   "execution_count": 341,
   "metadata": {
    "colab": {
     "base_uri": "https://localhost:8080/",
     "height": 34
    },
    "colab_type": "code",
    "executionInfo": {
     "elapsed": 990,
     "status": "ok",
     "timestamp": 1588125628061,
     "user": {
      "displayName": "Alex Drożdż",
      "photoUrl": "https://lh3.googleusercontent.com/a-/AOh14GhC2oRNvVzmhnTV8FqUTw_OAONtJpUptsict6ZqFA=s64",
      "userId": "05078737579387546065"
     },
     "user_tz": -120
    },
    "id": "on2KtOwcjXq4",
    "outputId": "f6f52a2e-3247-4856-b2fb-7868a80ef499"
   },
   "outputs": [
    {
     "data": {
      "text/plain": [
       "(1429538, 41)"
      ]
     },
     "execution_count": 341,
     "metadata": {},
     "output_type": "execute_result"
    }
   ],
   "source": [
    "X.shape"
   ]
  },
  {
   "cell_type": "code",
   "execution_count": 342,
   "metadata": {},
   "outputs": [],
   "source": [
    "X = X.to_numpy()\n",
    "y = y.to_numpy()"
   ]
  },
  {
   "cell_type": "markdown",
   "metadata": {},
   "source": [
    "### Training"
   ]
  },
  {
   "cell_type": "code",
   "execution_count": 343,
   "metadata": {
    "colab": {},
    "colab_type": "code",
    "id": "Wa1mNvoAjXq_"
   },
   "outputs": [],
   "source": [
    "CatTaxi = CatBoostRegressor(iterations=1000,\n",
    "                            metric_period=250,\n",
    "                            depth=10,\n",
    "                            l2_leaf_reg = 0.01,\n",
    "                            loss_function='MAE',\n",
    "                            bootstrap_type='MVS',\n",
    "                            boost_from_average=True,\n",
    "                            grow_policy='Depthwise'\n",
    "                            )"
   ]
  },
  {
   "cell_type": "code",
   "execution_count": 344,
   "metadata": {
    "colab": {
     "base_uri": "https://localhost:8080/",
     "height": 1000
    },
    "colab_type": "code",
    "executionInfo": {
     "elapsed": 377312,
     "status": "ok",
     "timestamp": 1588126205436,
     "user": {
      "displayName": "Alex Drożdż",
      "photoUrl": "https://lh3.googleusercontent.com/a-/AOh14GhC2oRNvVzmhnTV8FqUTw_OAONtJpUptsict6ZqFA=s64",
      "userId": "05078737579387546065"
     },
     "user_tz": -120
    },
    "id": "O7f5jq_4jXrB",
    "outputId": "2aa9c390-c05a-4260-dc1c-1ec3dcabfdd0",
    "scrolled": true
   },
   "outputs": [
    {
     "name": "stdout",
     "output_type": "stream",
     "text": [
      "0:\tlearn: 0.5524103\ttotal: 971ms\tremaining: 16m 9s\n",
      "250:\tlearn: 0.2335969\ttotal: 4m 23s\tremaining: 13m 5s\n",
      "500:\tlearn: 0.2215869\ttotal: 8m 22s\tremaining: 8m 20s\n",
      "750:\tlearn: 0.2136514\ttotal: 12m 45s\tremaining: 4m 13s\n",
      "999:\tlearn: 0.2077604\ttotal: 19m 53s\tremaining: 0us\n"
     ]
    },
    {
     "data": {
      "text/plain": [
       "<catboost.core.CatBoostRegressor at 0x7f8201c36c70>"
      ]
     },
     "execution_count": 344,
     "metadata": {},
     "output_type": "execute_result"
    }
   ],
   "source": [
    "CatTaxi.fit(X, y)"
   ]
  },
  {
   "cell_type": "code",
   "execution_count": 345,
   "metadata": {},
   "outputs": [],
   "source": [
    "def plot_importance(catboost_model, column_names):\n",
    "    \"\"\"\n",
    "    Function created for cotboost models to visualize feature importance. \n",
    "    It shows 20 most important features.\n",
    "    \"\"\"\n",
    "    important_df = pd.DataFrame()\n",
    "    important_df['feature'] = column_names\n",
    "    important_df['importance'] = catboost_model.get_feature_importance()\n",
    "    df_to_plot = important_df.sort_values(\n",
    "        by='importance', \n",
    "        ascending=False).reset_index(drop=True).head(20)\n",
    "    fig = plt.figure(figsize=(17,15))\n",
    "    axes = fig.subplots(ncols=1, nrows=4, sharey=True)\n",
    "    sns.barplot(df_to_plot['feature'][0:5],\n",
    "                df_to_plot['importance'][0:5], ax=axes[0])\n",
    "    sns.barplot(df_to_plot['feature'][5:10],\n",
    "                df_to_plot['importance'][5:10], ax=axes[1])\n",
    "    sns.barplot(df_to_plot['feature'][10:15],\n",
    "                df_to_plot['importance'][10:15], ax=axes[2])\n",
    "    sns.barplot(df_to_plot['feature'][15:20],\n",
    "                df_to_plot['importance'][15:20], ax=axes[3])\n",
    "    for ax in axes:\n",
    "        for p in ax.patches:\n",
    "            ax.annotate(str(round(p.get_height(),2)), \n",
    "                        (p.get_x() * 1.005, p.get_height() * 1.01))"
   ]
  },
  {
   "cell_type": "code",
   "execution_count": 346,
   "metadata": {},
   "outputs": [
    {
     "data": {
      "image/png": "[encoded data removed]",
      "text/plain": [
       "<Figure size 1224x1080 with 4 Axes>"
      ]
     },
     "metadata": {
      "needs_background": "light"
     },
     "output_type": "display_data"
    }
   ],
   "source": [
    "plot_importance(CatTaxi, cols)"
   ]
  },
  {
   "cell_type": "markdown",
   "metadata": {
    "colab_type": "text",
    "id": "CTuQifTvjXrI"
   },
   "source": [
    "## Prediction"
   ]
  },
  {
   "cell_type": "code",
   "execution_count": 347,
   "metadata": {
    "colab": {},
    "colab_type": "code",
    "id": "nwHcMPUHjXsS"
   },
   "outputs": [],
   "source": [
    "test_pred = test.drop('id', axis = 1)"
   ]
  },
  {
   "cell_type": "code",
   "execution_count": 348,
   "metadata": {
    "colab": {},
    "colab_type": "code",
    "id": "PV9w47dHjXsU"
   },
   "outputs": [],
   "source": [
    "test_pred = test_pred.astype('float64')"
   ]
  },
  {
   "cell_type": "code",
   "execution_count": 349,
   "metadata": {
    "colab": {
     "base_uri": "https://localhost:8080/",
     "height": 456
    },
    "colab_type": "code",
    "executionInfo": {
     "elapsed": 1596,
     "status": "ok",
     "timestamp": 1588127144374,
     "user": {
      "displayName": "Alex Drożdż",
      "photoUrl": "https://lh3.googleusercontent.com/a-/AOh14GhC2oRNvVzmhnTV8FqUTw_OAONtJpUptsict6ZqFA=s64",
      "userId": "05078737579387546065"
     },
     "user_tz": -120
    },
    "id": "RUvOo4THjXsV",
    "outputId": "704bcf2c-4d4f-467a-e4b0-fb44afc8a333"
   },
   "outputs": [
    {
     "data": {
      "text/html": [
       "<div>\n",
       "<style scoped>\n",
       "    .dataframe tbody tr th:only-of-type {\n",
       "        vertical-align: middle;\n",
       "    }\n",
       "\n",
       "    .dataframe tbody tr th {\n",
       "        vertical-align: top;\n",
       "    }\n",
       "\n",
       "    .dataframe thead th {\n",
       "        text-align: right;\n",
       "    }\n",
       "</style>\n",
       "<table border=\"1\" class=\"dataframe\">\n",
       "  <thead>\n",
       "    <tr style=\"text-align: right;\">\n",
       "      <th></th>\n",
       "      <th>boarder_cross</th>\n",
       "      <th>day</th>\n",
       "      <th>day_of_the_year</th>\n",
       "      <th>distance</th>\n",
       "      <th>dropoff_latitude</th>\n",
       "      <th>dropoff_longitude</th>\n",
       "      <th>from_outside</th>\n",
       "      <th>full_hour</th>\n",
       "      <th>is_1_(vendor_id)</th>\n",
       "      <th>is_2_(vendor_id)</th>\n",
       "      <th>is_Bronx_(dropoff_boro)</th>\n",
       "      <th>is_Bronx_(pickup_boro)</th>\n",
       "      <th>is_Brooklyn_(dropoff_boro)</th>\n",
       "      <th>is_Brooklyn_(pickup_boro)</th>\n",
       "      <th>is_Friday_(day_of_the_week)</th>\n",
       "      <th>is_Manhattan_(dropoff_boro)</th>\n",
       "      <th>is_Manhattan_(pickup_boro)</th>\n",
       "      <th>is_Monday_(day_of_the_week)</th>\n",
       "      <th>is_Queens_(dropoff_boro)</th>\n",
       "      <th>is_Queens_(pickup_boro)</th>\n",
       "      <th>is_Saturday_(day_of_the_week)</th>\n",
       "      <th>is_Staten Island_(dropoff_boro)</th>\n",
       "      <th>is_Staten Island_(pickup_boro)</th>\n",
       "      <th>is_Sunday_(day_of_the_week)</th>\n",
       "      <th>is_Thursday_(day_of_the_week)</th>\n",
       "      <th>is_Tuesday_(day_of_the_week)</th>\n",
       "      <th>is_Wednesday_(day_of_the_week)</th>\n",
       "      <th>is_day</th>\n",
       "      <th>is_heavy_rush</th>\n",
       "      <th>is_holiday</th>\n",
       "      <th>is_night</th>\n",
       "      <th>is_other_(dropoff_boro)</th>\n",
       "      <th>is_other_(pickup_boro)</th>\n",
       "      <th>is_weekend</th>\n",
       "      <th>minute</th>\n",
       "      <th>month</th>\n",
       "      <th>passenger_count</th>\n",
       "      <th>pickup_latitude</th>\n",
       "      <th>pickup_longitude</th>\n",
       "      <th>store_and_fwd_flag</th>\n",
       "      <th>to_outside</th>\n",
       "    </tr>\n",
       "  </thead>\n",
       "  <tbody>\n",
       "    <tr>\n",
       "      <th>625133</th>\n",
       "      <td>0.0</td>\n",
       "      <td>1.0</td>\n",
       "      <td>0.0</td>\n",
       "      <td>3.681598</td>\n",
       "      <td>40.769379</td>\n",
       "      <td>-73.969330</td>\n",
       "      <td>0.0</td>\n",
       "      <td>0.0</td>\n",
       "      <td>0.0</td>\n",
       "      <td>1.0</td>\n",
       "      <td>0.0</td>\n",
       "      <td>0.0</td>\n",
       "      <td>0.0</td>\n",
       "      <td>0.0</td>\n",
       "      <td>0.0</td>\n",
       "      <td>1.0</td>\n",
       "      <td>1.0</td>\n",
       "      <td>0.0</td>\n",
       "      <td>0.0</td>\n",
       "      <td>0.0</td>\n",
       "      <td>0.0</td>\n",
       "      <td>0.0</td>\n",
       "      <td>0.0</td>\n",
       "      <td>0.0</td>\n",
       "      <td>1.0</td>\n",
       "      <td>0.0</td>\n",
       "      <td>0.0</td>\n",
       "      <td>0.0</td>\n",
       "      <td>0.0</td>\n",
       "      <td>1.0</td>\n",
       "      <td>1.0</td>\n",
       "      <td>0.0</td>\n",
       "      <td>0.0</td>\n",
       "      <td>0.0</td>\n",
       "      <td>0.0</td>\n",
       "      <td>1.0</td>\n",
       "      <td>2.0</td>\n",
       "      <td>40.716881</td>\n",
       "      <td>-73.981850</td>\n",
       "      <td>0.0</td>\n",
       "      <td>0.0</td>\n",
       "    </tr>\n",
       "    <tr>\n",
       "      <th>625054</th>\n",
       "      <td>1.0</td>\n",
       "      <td>1.0</td>\n",
       "      <td>0.0</td>\n",
       "      <td>6.161401</td>\n",
       "      <td>40.769318</td>\n",
       "      <td>-73.879936</td>\n",
       "      <td>0.0</td>\n",
       "      <td>0.0</td>\n",
       "      <td>1.0</td>\n",
       "      <td>0.0</td>\n",
       "      <td>0.0</td>\n",
       "      <td>0.0</td>\n",
       "      <td>0.0</td>\n",
       "      <td>0.0</td>\n",
       "      <td>0.0</td>\n",
       "      <td>0.0</td>\n",
       "      <td>1.0</td>\n",
       "      <td>0.0</td>\n",
       "      <td>1.0</td>\n",
       "      <td>0.0</td>\n",
       "      <td>0.0</td>\n",
       "      <td>0.0</td>\n",
       "      <td>0.0</td>\n",
       "      <td>0.0</td>\n",
       "      <td>1.0</td>\n",
       "      <td>0.0</td>\n",
       "      <td>0.0</td>\n",
       "      <td>0.0</td>\n",
       "      <td>0.0</td>\n",
       "      <td>1.0</td>\n",
       "      <td>1.0</td>\n",
       "      <td>0.0</td>\n",
       "      <td>0.0</td>\n",
       "      <td>0.0</td>\n",
       "      <td>26.0</td>\n",
       "      <td>1.0</td>\n",
       "      <td>3.0</td>\n",
       "      <td>40.753963</td>\n",
       "      <td>-73.995621</td>\n",
       "      <td>0.0</td>\n",
       "      <td>0.0</td>\n",
       "    </tr>\n",
       "    <tr>\n",
       "      <th>623042</th>\n",
       "      <td>0.0</td>\n",
       "      <td>1.0</td>\n",
       "      <td>0.0</td>\n",
       "      <td>0.488983</td>\n",
       "      <td>40.779293</td>\n",
       "      <td>-73.944992</td>\n",
       "      <td>0.0</td>\n",
       "      <td>15.0</td>\n",
       "      <td>1.0</td>\n",
       "      <td>0.0</td>\n",
       "      <td>0.0</td>\n",
       "      <td>0.0</td>\n",
       "      <td>0.0</td>\n",
       "      <td>0.0</td>\n",
       "      <td>0.0</td>\n",
       "      <td>1.0</td>\n",
       "      <td>1.0</td>\n",
       "      <td>0.0</td>\n",
       "      <td>0.0</td>\n",
       "      <td>0.0</td>\n",
       "      <td>0.0</td>\n",
       "      <td>0.0</td>\n",
       "      <td>0.0</td>\n",
       "      <td>0.0</td>\n",
       "      <td>1.0</td>\n",
       "      <td>0.0</td>\n",
       "      <td>0.0</td>\n",
       "      <td>1.0</td>\n",
       "      <td>1.0</td>\n",
       "      <td>1.0</td>\n",
       "      <td>0.0</td>\n",
       "      <td>0.0</td>\n",
       "      <td>0.0</td>\n",
       "      <td>0.0</td>\n",
       "      <td>41.0</td>\n",
       "      <td>1.0</td>\n",
       "      <td>1.0</td>\n",
       "      <td>40.775925</td>\n",
       "      <td>-73.953194</td>\n",
       "      <td>0.0</td>\n",
       "      <td>0.0</td>\n",
       "    </tr>\n",
       "    <tr>\n",
       "      <th>622911</th>\n",
       "      <td>0.0</td>\n",
       "      <td>1.0</td>\n",
       "      <td>0.0</td>\n",
       "      <td>2.290393</td>\n",
       "      <td>40.762009</td>\n",
       "      <td>-73.979233</td>\n",
       "      <td>0.0</td>\n",
       "      <td>16.0</td>\n",
       "      <td>0.0</td>\n",
       "      <td>1.0</td>\n",
       "      <td>0.0</td>\n",
       "      <td>0.0</td>\n",
       "      <td>0.0</td>\n",
       "      <td>0.0</td>\n",
       "      <td>0.0</td>\n",
       "      <td>1.0</td>\n",
       "      <td>1.0</td>\n",
       "      <td>0.0</td>\n",
       "      <td>0.0</td>\n",
       "      <td>0.0</td>\n",
       "      <td>0.0</td>\n",
       "      <td>0.0</td>\n",
       "      <td>0.0</td>\n",
       "      <td>0.0</td>\n",
       "      <td>1.0</td>\n",
       "      <td>0.0</td>\n",
       "      <td>0.0</td>\n",
       "      <td>1.0</td>\n",
       "      <td>1.0</td>\n",
       "      <td>1.0</td>\n",
       "      <td>0.0</td>\n",
       "      <td>0.0</td>\n",
       "      <td>0.0</td>\n",
       "      <td>0.0</td>\n",
       "      <td>32.0</td>\n",
       "      <td>1.0</td>\n",
       "      <td>1.0</td>\n",
       "      <td>40.731640</td>\n",
       "      <td>-73.996849</td>\n",
       "      <td>0.0</td>\n",
       "      <td>0.0</td>\n",
       "    </tr>\n",
       "    <tr>\n",
       "      <th>625132</th>\n",
       "      <td>1.0</td>\n",
       "      <td>1.0</td>\n",
       "      <td>0.0</td>\n",
       "      <td>12.659995</td>\n",
       "      <td>40.891788</td>\n",
       "      <td>-73.854263</td>\n",
       "      <td>0.0</td>\n",
       "      <td>0.0</td>\n",
       "      <td>1.0</td>\n",
       "      <td>0.0</td>\n",
       "      <td>1.0</td>\n",
       "      <td>0.0</td>\n",
       "      <td>0.0</td>\n",
       "      <td>0.0</td>\n",
       "      <td>0.0</td>\n",
       "      <td>0.0</td>\n",
       "      <td>1.0</td>\n",
       "      <td>0.0</td>\n",
       "      <td>0.0</td>\n",
       "      <td>0.0</td>\n",
       "      <td>0.0</td>\n",
       "      <td>0.0</td>\n",
       "      <td>0.0</td>\n",
       "      <td>0.0</td>\n",
       "      <td>1.0</td>\n",
       "      <td>0.0</td>\n",
       "      <td>0.0</td>\n",
       "      <td>0.0</td>\n",
       "      <td>0.0</td>\n",
       "      <td>1.0</td>\n",
       "      <td>1.0</td>\n",
       "      <td>0.0</td>\n",
       "      <td>0.0</td>\n",
       "      <td>0.0</td>\n",
       "      <td>0.0</td>\n",
       "      <td>1.0</td>\n",
       "      <td>1.0</td>\n",
       "      <td>40.733562</td>\n",
       "      <td>-73.976501</td>\n",
       "      <td>0.0</td>\n",
       "      <td>0.0</td>\n",
       "    </tr>\n",
       "    <tr>\n",
       "      <th>...</th>\n",
       "      <td>...</td>\n",
       "      <td>...</td>\n",
       "      <td>...</td>\n",
       "      <td>...</td>\n",
       "      <td>...</td>\n",
       "      <td>...</td>\n",
       "      <td>...</td>\n",
       "      <td>...</td>\n",
       "      <td>...</td>\n",
       "      <td>...</td>\n",
       "      <td>...</td>\n",
       "      <td>...</td>\n",
       "      <td>...</td>\n",
       "      <td>...</td>\n",
       "      <td>...</td>\n",
       "      <td>...</td>\n",
       "      <td>...</td>\n",
       "      <td>...</td>\n",
       "      <td>...</td>\n",
       "      <td>...</td>\n",
       "      <td>...</td>\n",
       "      <td>...</td>\n",
       "      <td>...</td>\n",
       "      <td>...</td>\n",
       "      <td>...</td>\n",
       "      <td>...</td>\n",
       "      <td>...</td>\n",
       "      <td>...</td>\n",
       "      <td>...</td>\n",
       "      <td>...</td>\n",
       "      <td>...</td>\n",
       "      <td>...</td>\n",
       "      <td>...</td>\n",
       "      <td>...</td>\n",
       "      <td>...</td>\n",
       "      <td>...</td>\n",
       "      <td>...</td>\n",
       "      <td>...</td>\n",
       "      <td>...</td>\n",
       "      <td>...</td>\n",
       "      <td>...</td>\n",
       "    </tr>\n",
       "    <tr>\n",
       "      <th>1927</th>\n",
       "      <td>0.0</td>\n",
       "      <td>30.0</td>\n",
       "      <td>181.0</td>\n",
       "      <td>3.786783</td>\n",
       "      <td>40.756248</td>\n",
       "      <td>-73.981087</td>\n",
       "      <td>0.0</td>\n",
       "      <td>13.0</td>\n",
       "      <td>0.0</td>\n",
       "      <td>1.0</td>\n",
       "      <td>0.0</td>\n",
       "      <td>0.0</td>\n",
       "      <td>0.0</td>\n",
       "      <td>0.0</td>\n",
       "      <td>0.0</td>\n",
       "      <td>1.0</td>\n",
       "      <td>1.0</td>\n",
       "      <td>0.0</td>\n",
       "      <td>0.0</td>\n",
       "      <td>0.0</td>\n",
       "      <td>0.0</td>\n",
       "      <td>0.0</td>\n",
       "      <td>0.0</td>\n",
       "      <td>0.0</td>\n",
       "      <td>0.0</td>\n",
       "      <td>0.0</td>\n",
       "      <td>1.0</td>\n",
       "      <td>1.0</td>\n",
       "      <td>0.0</td>\n",
       "      <td>0.0</td>\n",
       "      <td>0.0</td>\n",
       "      <td>0.0</td>\n",
       "      <td>0.0</td>\n",
       "      <td>0.0</td>\n",
       "      <td>16.0</td>\n",
       "      <td>6.0</td>\n",
       "      <td>1.0</td>\n",
       "      <td>40.705078</td>\n",
       "      <td>-74.007156</td>\n",
       "      <td>0.0</td>\n",
       "      <td>0.0</td>\n",
       "    </tr>\n",
       "    <tr>\n",
       "      <th>1928</th>\n",
       "      <td>0.0</td>\n",
       "      <td>30.0</td>\n",
       "      <td>181.0</td>\n",
       "      <td>0.645757</td>\n",
       "      <td>40.727165</td>\n",
       "      <td>-74.000130</td>\n",
       "      <td>0.0</td>\n",
       "      <td>13.0</td>\n",
       "      <td>1.0</td>\n",
       "      <td>0.0</td>\n",
       "      <td>0.0</td>\n",
       "      <td>0.0</td>\n",
       "      <td>0.0</td>\n",
       "      <td>0.0</td>\n",
       "      <td>0.0</td>\n",
       "      <td>1.0</td>\n",
       "      <td>1.0</td>\n",
       "      <td>0.0</td>\n",
       "      <td>0.0</td>\n",
       "      <td>0.0</td>\n",
       "      <td>0.0</td>\n",
       "      <td>0.0</td>\n",
       "      <td>0.0</td>\n",
       "      <td>0.0</td>\n",
       "      <td>0.0</td>\n",
       "      <td>0.0</td>\n",
       "      <td>1.0</td>\n",
       "      <td>1.0</td>\n",
       "      <td>0.0</td>\n",
       "      <td>0.0</td>\n",
       "      <td>0.0</td>\n",
       "      <td>0.0</td>\n",
       "      <td>0.0</td>\n",
       "      <td>0.0</td>\n",
       "      <td>16.0</td>\n",
       "      <td>6.0</td>\n",
       "      <td>1.0</td>\n",
       "      <td>40.730770</td>\n",
       "      <td>-73.988777</td>\n",
       "      <td>0.0</td>\n",
       "      <td>0.0</td>\n",
       "    </tr>\n",
       "    <tr>\n",
       "      <th>1929</th>\n",
       "      <td>0.0</td>\n",
       "      <td>30.0</td>\n",
       "      <td>181.0</td>\n",
       "      <td>0.463336</td>\n",
       "      <td>40.737534</td>\n",
       "      <td>-73.979912</td>\n",
       "      <td>0.0</td>\n",
       "      <td>13.0</td>\n",
       "      <td>1.0</td>\n",
       "      <td>0.0</td>\n",
       "      <td>0.0</td>\n",
       "      <td>0.0</td>\n",
       "      <td>0.0</td>\n",
       "      <td>0.0</td>\n",
       "      <td>0.0</td>\n",
       "      <td>1.0</td>\n",
       "      <td>1.0</td>\n",
       "      <td>0.0</td>\n",
       "      <td>0.0</td>\n",
       "      <td>0.0</td>\n",
       "      <td>0.0</td>\n",
       "      <td>0.0</td>\n",
       "      <td>0.0</td>\n",
       "      <td>0.0</td>\n",
       "      <td>0.0</td>\n",
       "      <td>0.0</td>\n",
       "      <td>1.0</td>\n",
       "      <td>1.0</td>\n",
       "      <td>0.0</td>\n",
       "      <td>0.0</td>\n",
       "      <td>0.0</td>\n",
       "      <td>0.0</td>\n",
       "      <td>0.0</td>\n",
       "      <td>0.0</td>\n",
       "      <td>16.0</td>\n",
       "      <td>6.0</td>\n",
       "      <td>1.0</td>\n",
       "      <td>40.730930</td>\n",
       "      <td>-73.981514</td>\n",
       "      <td>0.0</td>\n",
       "      <td>0.0</td>\n",
       "    </tr>\n",
       "    <tr>\n",
       "      <th>1921</th>\n",
       "      <td>0.0</td>\n",
       "      <td>30.0</td>\n",
       "      <td>181.0</td>\n",
       "      <td>1.020808</td>\n",
       "      <td>40.781738</td>\n",
       "      <td>-73.979073</td>\n",
       "      <td>0.0</td>\n",
       "      <td>13.0</td>\n",
       "      <td>0.0</td>\n",
       "      <td>1.0</td>\n",
       "      <td>0.0</td>\n",
       "      <td>0.0</td>\n",
       "      <td>0.0</td>\n",
       "      <td>0.0</td>\n",
       "      <td>0.0</td>\n",
       "      <td>1.0</td>\n",
       "      <td>1.0</td>\n",
       "      <td>0.0</td>\n",
       "      <td>0.0</td>\n",
       "      <td>0.0</td>\n",
       "      <td>0.0</td>\n",
       "      <td>0.0</td>\n",
       "      <td>0.0</td>\n",
       "      <td>0.0</td>\n",
       "      <td>0.0</td>\n",
       "      <td>0.0</td>\n",
       "      <td>1.0</td>\n",
       "      <td>1.0</td>\n",
       "      <td>0.0</td>\n",
       "      <td>0.0</td>\n",
       "      <td>0.0</td>\n",
       "      <td>0.0</td>\n",
       "      <td>0.0</td>\n",
       "      <td>0.0</td>\n",
       "      <td>19.0</td>\n",
       "      <td>6.0</td>\n",
       "      <td>2.0</td>\n",
       "      <td>40.793430</td>\n",
       "      <td>-73.967148</td>\n",
       "      <td>0.0</td>\n",
       "      <td>0.0</td>\n",
       "    </tr>\n",
       "    <tr>\n",
       "      <th>1920</th>\n",
       "      <td>0.0</td>\n",
       "      <td>30.0</td>\n",
       "      <td>181.0</td>\n",
       "      <td>0.253306</td>\n",
       "      <td>40.763561</td>\n",
       "      <td>-73.959068</td>\n",
       "      <td>0.0</td>\n",
       "      <td>13.0</td>\n",
       "      <td>1.0</td>\n",
       "      <td>0.0</td>\n",
       "      <td>0.0</td>\n",
       "      <td>0.0</td>\n",
       "      <td>0.0</td>\n",
       "      <td>0.0</td>\n",
       "      <td>0.0</td>\n",
       "      <td>1.0</td>\n",
       "      <td>1.0</td>\n",
       "      <td>0.0</td>\n",
       "      <td>0.0</td>\n",
       "      <td>0.0</td>\n",
       "      <td>0.0</td>\n",
       "      <td>0.0</td>\n",
       "      <td>0.0</td>\n",
       "      <td>0.0</td>\n",
       "      <td>0.0</td>\n",
       "      <td>0.0</td>\n",
       "      <td>1.0</td>\n",
       "      <td>1.0</td>\n",
       "      <td>0.0</td>\n",
       "      <td>0.0</td>\n",
       "      <td>0.0</td>\n",
       "      <td>0.0</td>\n",
       "      <td>0.0</td>\n",
       "      <td>0.0</td>\n",
       "      <td>20.0</td>\n",
       "      <td>6.0</td>\n",
       "      <td>1.0</td>\n",
       "      <td>40.764889</td>\n",
       "      <td>-73.963570</td>\n",
       "      <td>0.0</td>\n",
       "      <td>0.0</td>\n",
       "    </tr>\n",
       "  </tbody>\n",
       "</table>\n",
       "<p>625134 rows × 41 columns</p>\n",
       "</div>"
      ],
      "text/plain": [
       "        boarder_cross   day  day_of_the_year   distance  dropoff_latitude  \\\n",
       "625133            0.0   1.0              0.0   3.681598         40.769379   \n",
       "625054            1.0   1.0              0.0   6.161401         40.769318   \n",
       "623042            0.0   1.0              0.0   0.488983         40.779293   \n",
       "622911            0.0   1.0              0.0   2.290393         40.762009   \n",
       "625132            1.0   1.0              0.0  12.659995         40.891788   \n",
       "...               ...   ...              ...        ...               ...   \n",
       "1927              0.0  30.0            181.0   3.786783         40.756248   \n",
       "1928              0.0  30.0            181.0   0.645757         40.727165   \n",
       "1929              0.0  30.0            181.0   0.463336         40.737534   \n",
       "1921              0.0  30.0            181.0   1.020808         40.781738   \n",
       "1920              0.0  30.0            181.0   0.253306         40.763561   \n",
       "\n",
       "        dropoff_longitude  from_outside  full_hour  is_1_(vendor_id)  \\\n",
       "625133         -73.969330           0.0        0.0               0.0   \n",
       "625054         -73.879936           0.0        0.0               1.0   \n",
       "623042         -73.944992           0.0       15.0               1.0   \n",
       "622911         -73.979233           0.0       16.0               0.0   \n",
       "625132         -73.854263           0.0        0.0               1.0   \n",
       "...                   ...           ...        ...               ...   \n",
       "1927           -73.981087           0.0       13.0               0.0   \n",
       "1928           -74.000130           0.0       13.0               1.0   \n",
       "1929           -73.979912           0.0       13.0               1.0   \n",
       "1921           -73.979073           0.0       13.0               0.0   \n",
       "1920           -73.959068           0.0       13.0               1.0   \n",
       "\n",
       "        is_2_(vendor_id)  is_Bronx_(dropoff_boro)  is_Bronx_(pickup_boro)  \\\n",
       "625133               1.0                      0.0                     0.0   \n",
       "625054               0.0                      0.0                     0.0   \n",
       "623042               0.0                      0.0                     0.0   \n",
       "622911               1.0                      0.0                     0.0   \n",
       "625132               0.0                      1.0                     0.0   \n",
       "...                  ...                      ...                     ...   \n",
       "1927                 1.0                      0.0                     0.0   \n",
       "1928                 0.0                      0.0                     0.0   \n",
       "1929                 0.0                      0.0                     0.0   \n",
       "1921                 1.0                      0.0                     0.0   \n",
       "1920                 0.0                      0.0                     0.0   \n",
       "\n",
       "        is_Brooklyn_(dropoff_boro)  is_Brooklyn_(pickup_boro)  \\\n",
       "625133                         0.0                        0.0   \n",
       "625054                         0.0                        0.0   \n",
       "623042                         0.0                        0.0   \n",
       "622911                         0.0                        0.0   \n",
       "625132                         0.0                        0.0   \n",
       "...                            ...                        ...   \n",
       "1927                           0.0                        0.0   \n",
       "1928                           0.0                        0.0   \n",
       "1929                           0.0                        0.0   \n",
       "1921                           0.0                        0.0   \n",
       "1920                           0.0                        0.0   \n",
       "\n",
       "        is_Friday_(day_of_the_week)  is_Manhattan_(dropoff_boro)  \\\n",
       "625133                          0.0                          1.0   \n",
       "625054                          0.0                          0.0   \n",
       "623042                          0.0                          1.0   \n",
       "622911                          0.0                          1.0   \n",
       "625132                          0.0                          0.0   \n",
       "...                             ...                          ...   \n",
       "1927                            0.0                          1.0   \n",
       "1928                            0.0                          1.0   \n",
       "1929                            0.0                          1.0   \n",
       "1921                            0.0                          1.0   \n",
       "1920                            0.0                          1.0   \n",
       "\n",
       "        is_Manhattan_(pickup_boro)  is_Monday_(day_of_the_week)  \\\n",
       "625133                         1.0                          0.0   \n",
       "625054                         1.0                          0.0   \n",
       "623042                         1.0                          0.0   \n",
       "622911                         1.0                          0.0   \n",
       "625132                         1.0                          0.0   \n",
       "...                            ...                          ...   \n",
       "1927                           1.0                          0.0   \n",
       "1928                           1.0                          0.0   \n",
       "1929                           1.0                          0.0   \n",
       "1921                           1.0                          0.0   \n",
       "1920                           1.0                          0.0   \n",
       "\n",
       "        is_Queens_(dropoff_boro)  is_Queens_(pickup_boro)  \\\n",
       "625133                       0.0                      0.0   \n",
       "625054                       1.0                      0.0   \n",
       "623042                       0.0                      0.0   \n",
       "622911                       0.0                      0.0   \n",
       "625132                       0.0                      0.0   \n",
       "...                          ...                      ...   \n",
       "1927                         0.0                      0.0   \n",
       "1928                         0.0                      0.0   \n",
       "1929                         0.0                      0.0   \n",
       "1921                         0.0                      0.0   \n",
       "1920                         0.0                      0.0   \n",
       "\n",
       "        is_Saturday_(day_of_the_week)  is_Staten Island_(dropoff_boro)  \\\n",
       "625133                            0.0                              0.0   \n",
       "625054                            0.0                              0.0   \n",
       "623042                            0.0                              0.0   \n",
       "622911                            0.0                              0.0   \n",
       "625132                            0.0                              0.0   \n",
       "...                               ...                              ...   \n",
       "1927                              0.0                              0.0   \n",
       "1928                              0.0                              0.0   \n",
       "1929                              0.0                              0.0   \n",
       "1921                              0.0                              0.0   \n",
       "1920                              0.0                              0.0   \n",
       "\n",
       "        is_Staten Island_(pickup_boro)  is_Sunday_(day_of_the_week)  \\\n",
       "625133                             0.0                          0.0   \n",
       "625054                             0.0                          0.0   \n",
       "623042                             0.0                          0.0   \n",
       "622911                             0.0                          0.0   \n",
       "625132                             0.0                          0.0   \n",
       "...                                ...                          ...   \n",
       "1927                               0.0                          0.0   \n",
       "1928                               0.0                          0.0   \n",
       "1929                               0.0                          0.0   \n",
       "1921                               0.0                          0.0   \n",
       "1920                               0.0                          0.0   \n",
       "\n",
       "        is_Thursday_(day_of_the_week)  is_Tuesday_(day_of_the_week)  \\\n",
       "625133                            1.0                           0.0   \n",
       "625054                            1.0                           0.0   \n",
       "623042                            1.0                           0.0   \n",
       "622911                            1.0                           0.0   \n",
       "625132                            1.0                           0.0   \n",
       "...                               ...                           ...   \n",
       "1927                              0.0                           0.0   \n",
       "1928                              0.0                           0.0   \n",
       "1929                              0.0                           0.0   \n",
       "1921                              0.0                           0.0   \n",
       "1920                              0.0                           0.0   \n",
       "\n",
       "        is_Wednesday_(day_of_the_week)  is_day  is_heavy_rush  is_holiday  \\\n",
       "625133                             0.0     0.0            0.0         1.0   \n",
       "625054                             0.0     0.0            0.0         1.0   \n",
       "623042                             0.0     1.0            1.0         1.0   \n",
       "622911                             0.0     1.0            1.0         1.0   \n",
       "625132                             0.0     0.0            0.0         1.0   \n",
       "...                                ...     ...            ...         ...   \n",
       "1927                               1.0     1.0            0.0         0.0   \n",
       "1928                               1.0     1.0            0.0         0.0   \n",
       "1929                               1.0     1.0            0.0         0.0   \n",
       "1921                               1.0     1.0            0.0         0.0   \n",
       "1920                               1.0     1.0            0.0         0.0   \n",
       "\n",
       "        is_night  is_other_(dropoff_boro)  is_other_(pickup_boro)  is_weekend  \\\n",
       "625133       1.0                      0.0                     0.0         0.0   \n",
       "625054       1.0                      0.0                     0.0         0.0   \n",
       "623042       0.0                      0.0                     0.0         0.0   \n",
       "622911       0.0                      0.0                     0.0         0.0   \n",
       "625132       1.0                      0.0                     0.0         0.0   \n",
       "...          ...                      ...                     ...         ...   \n",
       "1927         0.0                      0.0                     0.0         0.0   \n",
       "1928         0.0                      0.0                     0.0         0.0   \n",
       "1929         0.0                      0.0                     0.0         0.0   \n",
       "1921         0.0                      0.0                     0.0         0.0   \n",
       "1920         0.0                      0.0                     0.0         0.0   \n",
       "\n",
       "        minute  month  passenger_count  pickup_latitude  pickup_longitude  \\\n",
       "625133     0.0    1.0              2.0        40.716881        -73.981850   \n",
       "625054    26.0    1.0              3.0        40.753963        -73.995621   \n",
       "623042    41.0    1.0              1.0        40.775925        -73.953194   \n",
       "622911    32.0    1.0              1.0        40.731640        -73.996849   \n",
       "625132     0.0    1.0              1.0        40.733562        -73.976501   \n",
       "...        ...    ...              ...              ...               ...   \n",
       "1927      16.0    6.0              1.0        40.705078        -74.007156   \n",
       "1928      16.0    6.0              1.0        40.730770        -73.988777   \n",
       "1929      16.0    6.0              1.0        40.730930        -73.981514   \n",
       "1921      19.0    6.0              2.0        40.793430        -73.967148   \n",
       "1920      20.0    6.0              1.0        40.764889        -73.963570   \n",
       "\n",
       "        store_and_fwd_flag  to_outside  \n",
       "625133                 0.0         0.0  \n",
       "625054                 0.0         0.0  \n",
       "623042                 0.0         0.0  \n",
       "622911                 0.0         0.0  \n",
       "625132                 0.0         0.0  \n",
       "...                    ...         ...  \n",
       "1927                   0.0         0.0  \n",
       "1928                   0.0         0.0  \n",
       "1929                   0.0         0.0  \n",
       "1921                   0.0         0.0  \n",
       "1920                   0.0         0.0  \n",
       "\n",
       "[625134 rows x 41 columns]"
      ]
     },
     "execution_count": 349,
     "metadata": {},
     "output_type": "execute_result"
    }
   ],
   "source": [
    "test_pred"
   ]
  },
  {
   "cell_type": "code",
   "execution_count": 350,
   "metadata": {
    "colab": {},
    "colab_type": "code",
    "id": "ha7rQlgPjXsz"
   },
   "outputs": [],
   "source": [
    "test_pred = test_pred.to_numpy()"
   ]
  },
  {
   "cell_type": "code",
   "execution_count": 351,
   "metadata": {
    "colab": {
     "base_uri": "https://localhost:8080/",
     "height": 34
    },
    "colab_type": "code",
    "executionInfo": {
     "elapsed": 1645,
     "status": "ok",
     "timestamp": 1588127145677,
     "user": {
      "displayName": "Alex Drożdż",
      "photoUrl": "https://lh3.googleusercontent.com/a-/AOh14GhC2oRNvVzmhnTV8FqUTw_OAONtJpUptsict6ZqFA=s64",
      "userId": "05078737579387546065"
     },
     "user_tz": -120
    },
    "id": "aHqT8g26jXs0",
    "outputId": "2dd977eb-d83c-4068-9d83-1c1d5a62b2e0"
   },
   "outputs": [
    {
     "data": {
      "text/plain": [
       "(625134, 41)"
      ]
     },
     "execution_count": 351,
     "metadata": {},
     "output_type": "execute_result"
    }
   ],
   "source": [
    "test_pred.shape"
   ]
  },
  {
   "cell_type": "code",
   "execution_count": 352,
   "metadata": {
    "colab": {},
    "colab_type": "code",
    "id": "oNgKQULXjXs2"
   },
   "outputs": [],
   "source": [
    "prediction = CatTaxi.predict(test_pred)"
   ]
  },
  {
   "cell_type": "code",
   "execution_count": 353,
   "metadata": {
    "colab": {},
    "colab_type": "code",
    "id": "MlCOUoETjXs3"
   },
   "outputs": [],
   "source": [
    "prediction = np.expm1(prediction)"
   ]
  },
  {
   "cell_type": "code",
   "execution_count": 354,
   "metadata": {
    "colab": {
     "base_uri": "https://localhost:8080/",
     "height": 51
    },
    "colab_type": "code",
    "executionInfo": {
     "elapsed": 3159,
     "status": "ok",
     "timestamp": 1588127147862,
     "user": {
      "displayName": "Alex Drożdż",
      "photoUrl": "https://lh3.googleusercontent.com/a-/AOh14GhC2oRNvVzmhnTV8FqUTw_OAONtJpUptsict6ZqFA=s64",
      "userId": "05078737579387546065"
     },
     "user_tz": -120
    },
    "id": "K0xOOC2bjXs4",
    "outputId": "f7d7b684-516e-4460-ad4d-b1a70b5a9c33"
   },
   "outputs": [
    {
     "data": {
      "text/plain": [
       "array([1088.69723591, 1760.73063258,  182.85826737, ...,  274.46163384,\n",
       "        374.51902834,  246.34355054])"
      ]
     },
     "execution_count": 354,
     "metadata": {},
     "output_type": "execute_result"
    }
   ],
   "source": [
    "prediction"
   ]
  },
  {
   "cell_type": "code",
   "execution_count": 355,
   "metadata": {
    "colab": {},
    "colab_type": "code",
    "id": "KMmpj0LCjXs5"
   },
   "outputs": [],
   "source": [
    "prediction_df = pd.DataFrame()\n",
    "prediction_df['id'] = test['id']\n",
    "prediction_df['trip_duration'] = prediction.flatten()"
   ]
  },
  {
   "cell_type": "code",
   "execution_count": 356,
   "metadata": {
    "colab": {
     "base_uri": "https://localhost:8080/",
     "height": 170
    },
    "colab_type": "code",
    "executionInfo": {
     "elapsed": 2743,
     "status": "ok",
     "timestamp": 1588127147863,
     "user": {
      "displayName": "Alex Drożdż",
      "photoUrl": "https://lh3.googleusercontent.com/a-/AOh14GhC2oRNvVzmhnTV8FqUTw_OAONtJpUptsict6ZqFA=s64",
      "userId": "05078737579387546065"
     },
     "user_tz": -120
    },
    "id": "GpnbBOPMjXs7",
    "outputId": "741f8da1-4930-4262-d04c-f065d99cab39"
   },
   "outputs": [
    {
     "data": {
      "text/plain": [
       "count    625134.0\n",
       "mean        789.0\n",
       "std         544.0\n",
       "min         113.0\n",
       "25%         400.0\n",
       "50%         636.0\n",
       "75%        1013.0\n",
       "max        4098.0\n",
       "Name: trip_duration, dtype: float64"
      ]
     },
     "execution_count": 356,
     "metadata": {},
     "output_type": "execute_result"
    }
   ],
   "source": [
    "round(prediction_df['trip_duration'].describe())"
   ]
  },
  {
   "cell_type": "code",
   "execution_count": 357,
   "metadata": {
    "colab": {},
    "colab_type": "code",
    "id": "79GF1TVNjXs8"
   },
   "outputs": [],
   "source": [
    "csv = prediction_df.to_csv(\n",
    "    '/Users/alexdrozdz/JupyterNotebook/New_York_City_Taxis/prediction.csv', index=False)"
   ]
  },
  {
   "cell_type": "markdown",
   "metadata": {},
   "source": [
    "#### My outcome was better than results of 52% other people on private leaderboard. Score it's not quite impressive but it's only few submissions so I think that is good. I will continue this approach and commit changes. My RMSLE was 0.43230, best score on kaggle is 0.28976."
   ]
  },
  {
   "cell_type": "code",
   "execution_count": null,
   "metadata": {},
   "outputs": [],
   "source": []
  }
 ],
 "metadata": {
  "accelerator": "GPU",
  "colab": {
   "collapsed_sections": [],
   "name": "CatBoost.ipynb",
   "provenance": [],
   "toc_visible": true
  },
  "kernelspec": {
   "display_name": "Python 3",
   "language": "python",
   "name": "python3"
  },
  "language_info": {
   "codemirror_mode": {
    "name": "ipython",
    "version": 3
   },
   "file_extension": ".py",
   "mimetype": "text/x-python",
   "name": "python",
   "nbconvert_exporter": "python",
   "pygments_lexer": "ipython3",
   "version": "3.8.5"
  },
  "widgets": {
   "application/vnd.jupyter.widget-state+json": {
    "state": {
     "005cdc5423df4d5aac1726373c242033": {
      "model_module": "@jupyter-widgets/base",
      "model_module_version": "1.2.0",
      "model_name": "LayoutModel",
      "state": {
       "align_self": "stretch",
       "height": "500px"
      }
     },
     "1be4e94278cd409d849d8b7c0a81d571": {
      "model_module": "@jupyter-widgets/base",
      "model_module_version": "1.2.0",
      "model_name": "DOMWidgetModel",
      "state": {
       "_model_name": "DOMWidgetModel",
       "_view_module": "catboost_module",
       "_view_module_version": "",
       "_view_name": "CatboostIpythonWidgetView",
       "data": {
        "catboost_info": {
         "content": {
          "data": {
           "iterations": [
            {
             "iteration": 0,
             "learn": [
              0.5921199828
             ],
             "parameters": [
              {
               "depth": 4,
               "l2_leaf_reg": 0.05,
               "learning_rate": 0.1
              }
             ],
             "passed_time": 215.0262784,
             "remaining_time": 1935.236505,
             "test": [
              0.5922200518
             ]
            }
           ],
           "meta": {
            "iteration_count": 10,
            "launch_mode": "Train",
            "learn_metrics": [
             {
              "best_value": "Min",
              "name": "MultiClass"
             }
            ],
            "learn_sets": [
             "learn"
            ],
            "name": "experiment",
            "parameters": "parameters",
            "test_metrics": [
             {
              "best_value": "Min",
              "name": "MultiClass"
             }
            ],
            "test_sets": [
             "test"
            ]
           }
          },
          "passed_iterations": 0,
          "total_iterations": 10
         },
         "name": "catboost_info",
         "path": "catboost_info"
        }
       },
       "layout": "IPY_MODEL_f18f0cb20b7e49b1a4312f4e6621e6e8"
      }
     },
     "288728995ae74cb2911dae84506fe647": {
      "model_module": "@jupyter-widgets/base",
      "model_module_version": "1.2.0",
      "model_name": "DOMWidgetModel",
      "state": {
       "_model_name": "DOMWidgetModel",
       "_view_module": "catboost_module",
       "_view_module_version": "",
       "_view_name": "CatboostIpythonWidgetView",
       "data": {
        "catboost_info": {
         "content": {
          "data": {
           "iterations": [],
           "meta": {}
          },
          "passed_iterations": 0,
          "total_iterations": 0
         },
         "name": "catboost_info",
         "path": "catboost_info"
        }
       },
       "layout": "IPY_MODEL_005cdc5423df4d5aac1726373c242033"
      }
     },
     "5145bb21bec844418c9e8b403cf4bec4": {
      "model_module": "@jupyter-widgets/base",
      "model_module_version": "1.2.0",
      "model_name": "DOMWidgetModel",
      "state": {
       "_model_name": "DOMWidgetModel",
       "_view_module": "catboost_module",
       "_view_module_version": "",
       "_view_name": "CatboostIpythonWidgetView",
       "data": {
        "catboost_info": {
         "content": {
          "data": {
           "iterations": [
            {
             "iteration": 0,
             "learn": [
              0.579435631
             ],
             "parameters": [
              {
               "bootstrap_type": "MVS",
               "depth": 9,
               "grow_policy": "SymmetricTree",
               "l2_leaf_reg": 3,
               "learning_rate": 0.025
              }
             ],
             "passed_time": 594.7176268,
             "remaining_time": 5352.458641,
             "test": [
              0.5827423746
             ]
            },
            {
             "iteration": 1,
             "learn": [
              0.55512745
             ],
             "parameters": [
              {
               "bootstrap_type": "Bayesian",
               "depth": 10,
               "grow_policy": "SymmetricTree",
               "l2_leaf_reg": 3,
               "learning_rate": 0.05
              }
             ],
             "passed_time": 1589.197674,
             "remaining_time": 6356.790696,
             "test": [
              0.5693542808
             ]
            },
            {
             "iteration": 2,
             "learn": [
              0.565880524
             ],
             "parameters": [
              {
               "bootstrap_type": "MVS",
               "depth": 6,
               "grow_policy": "Depthwise",
               "l2_leaf_reg": 0.01,
               "learning_rate": 0.05
              }
             ],
             "passed_time": 2198.862876,
             "remaining_time": 5130.680045,
             "test": [
              0.5747655114
             ]
            }
           ],
           "meta": {
            "iteration_count": 10,
            "launch_mode": "Train",
            "learn_metrics": [
             {
              "best_value": "Min",
              "name": "MultiClass"
             }
            ],
            "learn_sets": [
             "learn"
            ],
            "name": "experiment",
            "parameters": "parameters",
            "test_metrics": [
             {
              "best_value": "Min",
              "name": "MultiClass"
             }
            ],
            "test_sets": [
             "test"
            ]
           }
          },
          "passed_iterations": 2,
          "total_iterations": 10
         },
         "name": "catboost_info",
         "path": "catboost_info"
        }
       },
       "layout": "IPY_MODEL_b6b293268ff949c7998fee6672cf28b2"
      }
     },
     "b6b293268ff949c7998fee6672cf28b2": {
      "model_module": "@jupyter-widgets/base",
      "model_module_version": "1.2.0",
      "model_name": "LayoutModel",
      "state": {
       "align_self": "stretch",
       "height": "500px"
      }
     },
     "f18f0cb20b7e49b1a4312f4e6621e6e8": {
      "model_module": "@jupyter-widgets/base",
      "model_module_version": "1.2.0",
      "model_name": "LayoutModel",
      "state": {
       "align_self": "stretch",
       "height": "500px"
      }
     }
    },
    "version_major": 2,
    "version_minor": 0
   }
  }
 },
 "nbformat": 4,
 "nbformat_minor": 1
}
