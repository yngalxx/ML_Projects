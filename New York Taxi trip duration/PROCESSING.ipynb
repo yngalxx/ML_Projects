{
 "cells": [
  {
   "cell_type": "markdown",
   "metadata": {},
   "source": [
    "# New York City Taxi Trip Duration\n",
    "\n",
    "## File descriptions:\n",
    "* <b>train.csv</b> - the training set (contains 1458644 trip records)\n",
    "* <b>test.csv</b> - the testing set (contains 625134 trip records)\n",
    "\n",
    "## Data:\n",
    "* <b>id</b> - a unique identifier for each trip\n",
    "* <b>vendor_id</b> - a code indicating the provider associated with the trip record\n",
    "* <b>pickup_datetime</b> - date and time when the meter was engaged\n",
    "* <b>dropoff_datetime</b> - date and time when the meter was disengaged\n",
    "* <b>passenger_count</b> - the number of passengers in the vehicle (driver entered value)\n",
    "* <b>pickup_longitude</b> - the longitude where the meter was engaged\n",
    "* <b>pickup_latitude</b> - the latitude where the meter was engaged\n",
    "* <b>dropoff_longitude</b> - the longitude where the meter was disengaged\n",
    "* <b>dropoff_latitude</b> - the latitude where the meter was disengaged\n",
    "* <b>store_and_fwd_flag</b> - This flag indicates whether the trip record was held in vehicle memory before sending to the vendor because the vehicle did not have a connection to the server - Y=store and forward; N=not a store and forward trip\n",
    "* <b>trip_duration</b> - duration of the trip in seconds"
   ]
  },
  {
   "cell_type": "code",
   "execution_count": 257,
   "metadata": {},
   "outputs": [],
   "source": [
    "# imports\n",
    "%matplotlib inline\n",
    "import matplotlib.pyplot as plt\n",
    "import geopandas as gpd\n",
    "import geoplot as gplt\n",
    "import pandas as pd\n",
    "import geopy.distance\n",
    "from tqdm.notebook import tqdm as tqdm\n",
    "from datetime import datetime\n",
    "import holidays\n",
    "import numpy as np\n",
    "from shapely.geometry import Point, Polygon\n",
    "import geoplot.crs as gcrs\n",
    "import contextily as ctx\n",
    "import seaborn as sns\n",
    "\n",
    "# options:\n",
    "import warnings\n",
    "warnings.filterwarnings(\"ignore\")\n",
    "pd.set_option('display.max_rows', 60)\n",
    "pd.set_option('display.max_columns', None)"
   ]
  },
  {
   "cell_type": "code",
   "execution_count": 235,
   "metadata": {},
   "outputs": [],
   "source": [
    "# train\n",
    "train = pd.read_csv('/Users/alexdrozdz/JupyterNotebook/New_York_City_Taxis/train.csv')"
   ]
  },
  {
   "cell_type": "code",
   "execution_count": 177,
   "metadata": {},
   "outputs": [
    {
     "data": {
      "text/plain": [
       "1458644"
      ]
     },
     "execution_count": 177,
     "metadata": {},
     "output_type": "execute_result"
    }
   ],
   "source": [
    "# amount of train set observations\n",
    "train.count()[0]"
   ]
  },
  {
   "cell_type": "code",
   "execution_count": 178,
   "metadata": {},
   "outputs": [
    {
     "data": {
      "text/html": [
       "<style  type=\"text/css\" >\n",
       "</style><table id=\"T_f13015c4_e582_11ea_a17b_6c96cfd8d845\" ><thead>    <tr>        <th class=\"blank level0\" ></th>        <th class=\"col_heading level0 col0\" >pickup_longitude</th>        <th class=\"col_heading level0 col1\" >pickup_latitude</th>        <th class=\"col_heading level0 col2\" >dropoff_longitude</th>        <th class=\"col_heading level0 col3\" >dropoff_latitude</th>        <th class=\"col_heading level0 col4\" >trip_duration</th>    </tr></thead><tbody>\n",
       "                <tr>\n",
       "                        <th id=\"T_f13015c4_e582_11ea_a17b_6c96cfd8d845level0_row0\" class=\"row_heading level0 row0\" >count</th>\n",
       "                        <td id=\"T_f13015c4_e582_11ea_a17b_6c96cfd8d845row0_col0\" class=\"data row0 col0\" >1458644.000000</td>\n",
       "                        <td id=\"T_f13015c4_e582_11ea_a17b_6c96cfd8d845row0_col1\" class=\"data row0 col1\" >1458644.000000</td>\n",
       "                        <td id=\"T_f13015c4_e582_11ea_a17b_6c96cfd8d845row0_col2\" class=\"data row0 col2\" >1458644.000000</td>\n",
       "                        <td id=\"T_f13015c4_e582_11ea_a17b_6c96cfd8d845row0_col3\" class=\"data row0 col3\" >1458644.000000</td>\n",
       "                        <td id=\"T_f13015c4_e582_11ea_a17b_6c96cfd8d845row0_col4\" class=\"data row0 col4\" >1458644.000000</td>\n",
       "            </tr>\n",
       "            <tr>\n",
       "                        <th id=\"T_f13015c4_e582_11ea_a17b_6c96cfd8d845level0_row1\" class=\"row_heading level0 row1\" >mean</th>\n",
       "                        <td id=\"T_f13015c4_e582_11ea_a17b_6c96cfd8d845row1_col0\" class=\"data row1 col0\" >-73.973486</td>\n",
       "                        <td id=\"T_f13015c4_e582_11ea_a17b_6c96cfd8d845row1_col1\" class=\"data row1 col1\" >40.750921</td>\n",
       "                        <td id=\"T_f13015c4_e582_11ea_a17b_6c96cfd8d845row1_col2\" class=\"data row1 col2\" >-73.973416</td>\n",
       "                        <td id=\"T_f13015c4_e582_11ea_a17b_6c96cfd8d845row1_col3\" class=\"data row1 col3\" >40.751800</td>\n",
       "                        <td id=\"T_f13015c4_e582_11ea_a17b_6c96cfd8d845row1_col4\" class=\"data row1 col4\" >959.492273</td>\n",
       "            </tr>\n",
       "            <tr>\n",
       "                        <th id=\"T_f13015c4_e582_11ea_a17b_6c96cfd8d845level0_row2\" class=\"row_heading level0 row2\" >std</th>\n",
       "                        <td id=\"T_f13015c4_e582_11ea_a17b_6c96cfd8d845row2_col0\" class=\"data row2 col0\" >0.070902</td>\n",
       "                        <td id=\"T_f13015c4_e582_11ea_a17b_6c96cfd8d845row2_col1\" class=\"data row2 col1\" >0.032881</td>\n",
       "                        <td id=\"T_f13015c4_e582_11ea_a17b_6c96cfd8d845row2_col2\" class=\"data row2 col2\" >0.070643</td>\n",
       "                        <td id=\"T_f13015c4_e582_11ea_a17b_6c96cfd8d845row2_col3\" class=\"data row2 col3\" >0.035891</td>\n",
       "                        <td id=\"T_f13015c4_e582_11ea_a17b_6c96cfd8d845row2_col4\" class=\"data row2 col4\" >5237.431724</td>\n",
       "            </tr>\n",
       "            <tr>\n",
       "                        <th id=\"T_f13015c4_e582_11ea_a17b_6c96cfd8d845level0_row3\" class=\"row_heading level0 row3\" >min</th>\n",
       "                        <td id=\"T_f13015c4_e582_11ea_a17b_6c96cfd8d845row3_col0\" class=\"data row3 col0\" >-121.933342</td>\n",
       "                        <td id=\"T_f13015c4_e582_11ea_a17b_6c96cfd8d845row3_col1\" class=\"data row3 col1\" >34.359695</td>\n",
       "                        <td id=\"T_f13015c4_e582_11ea_a17b_6c96cfd8d845row3_col2\" class=\"data row3 col2\" >-121.933304</td>\n",
       "                        <td id=\"T_f13015c4_e582_11ea_a17b_6c96cfd8d845row3_col3\" class=\"data row3 col3\" >32.181141</td>\n",
       "                        <td id=\"T_f13015c4_e582_11ea_a17b_6c96cfd8d845row3_col4\" class=\"data row3 col4\" >1.000000</td>\n",
       "            </tr>\n",
       "            <tr>\n",
       "                        <th id=\"T_f13015c4_e582_11ea_a17b_6c96cfd8d845level0_row4\" class=\"row_heading level0 row4\" >25%</th>\n",
       "                        <td id=\"T_f13015c4_e582_11ea_a17b_6c96cfd8d845row4_col0\" class=\"data row4 col0\" >-73.991867</td>\n",
       "                        <td id=\"T_f13015c4_e582_11ea_a17b_6c96cfd8d845row4_col1\" class=\"data row4 col1\" >40.737347</td>\n",
       "                        <td id=\"T_f13015c4_e582_11ea_a17b_6c96cfd8d845row4_col2\" class=\"data row4 col2\" >-73.991325</td>\n",
       "                        <td id=\"T_f13015c4_e582_11ea_a17b_6c96cfd8d845row4_col3\" class=\"data row4 col3\" >40.735885</td>\n",
       "                        <td id=\"T_f13015c4_e582_11ea_a17b_6c96cfd8d845row4_col4\" class=\"data row4 col4\" >397.000000</td>\n",
       "            </tr>\n",
       "            <tr>\n",
       "                        <th id=\"T_f13015c4_e582_11ea_a17b_6c96cfd8d845level0_row5\" class=\"row_heading level0 row5\" >50%</th>\n",
       "                        <td id=\"T_f13015c4_e582_11ea_a17b_6c96cfd8d845row5_col0\" class=\"data row5 col0\" >-73.981743</td>\n",
       "                        <td id=\"T_f13015c4_e582_11ea_a17b_6c96cfd8d845row5_col1\" class=\"data row5 col1\" >40.754101</td>\n",
       "                        <td id=\"T_f13015c4_e582_11ea_a17b_6c96cfd8d845row5_col2\" class=\"data row5 col2\" >-73.979752</td>\n",
       "                        <td id=\"T_f13015c4_e582_11ea_a17b_6c96cfd8d845row5_col3\" class=\"data row5 col3\" >40.754524</td>\n",
       "                        <td id=\"T_f13015c4_e582_11ea_a17b_6c96cfd8d845row5_col4\" class=\"data row5 col4\" >662.000000</td>\n",
       "            </tr>\n",
       "            <tr>\n",
       "                        <th id=\"T_f13015c4_e582_11ea_a17b_6c96cfd8d845level0_row6\" class=\"row_heading level0 row6\" >75%</th>\n",
       "                        <td id=\"T_f13015c4_e582_11ea_a17b_6c96cfd8d845row6_col0\" class=\"data row6 col0\" >-73.967331</td>\n",
       "                        <td id=\"T_f13015c4_e582_11ea_a17b_6c96cfd8d845row6_col1\" class=\"data row6 col1\" >40.768360</td>\n",
       "                        <td id=\"T_f13015c4_e582_11ea_a17b_6c96cfd8d845row6_col2\" class=\"data row6 col2\" >-73.963013</td>\n",
       "                        <td id=\"T_f13015c4_e582_11ea_a17b_6c96cfd8d845row6_col3\" class=\"data row6 col3\" >40.769810</td>\n",
       "                        <td id=\"T_f13015c4_e582_11ea_a17b_6c96cfd8d845row6_col4\" class=\"data row6 col4\" >1075.000000</td>\n",
       "            </tr>\n",
       "            <tr>\n",
       "                        <th id=\"T_f13015c4_e582_11ea_a17b_6c96cfd8d845level0_row7\" class=\"row_heading level0 row7\" >max</th>\n",
       "                        <td id=\"T_f13015c4_e582_11ea_a17b_6c96cfd8d845row7_col0\" class=\"data row7 col0\" >-61.335529</td>\n",
       "                        <td id=\"T_f13015c4_e582_11ea_a17b_6c96cfd8d845row7_col1\" class=\"data row7 col1\" >51.881084</td>\n",
       "                        <td id=\"T_f13015c4_e582_11ea_a17b_6c96cfd8d845row7_col2\" class=\"data row7 col2\" >-61.335529</td>\n",
       "                        <td id=\"T_f13015c4_e582_11ea_a17b_6c96cfd8d845row7_col3\" class=\"data row7 col3\" >43.921028</td>\n",
       "                        <td id=\"T_f13015c4_e582_11ea_a17b_6c96cfd8d845row7_col4\" class=\"data row7 col4\" >3526282.000000</td>\n",
       "            </tr>\n",
       "    </tbody></table>"
      ],
      "text/plain": [
       "<pandas.io.formats.style.Styler at 0x7fbdde3bf130>"
      ]
     },
     "execution_count": 178,
     "metadata": {},
     "output_type": "execute_result"
    }
   ],
   "source": [
    "# Firstly I remove outliers, less data will be better to compute \n",
    "# and outliers for sure are in data\n",
    "out_train = train[['pickup_longitude',\n",
    "                   'pickup_latitude',\n",
    "                   'dropoff_longitude',\n",
    "                   'dropoff_latitude',\n",
    "                   'trip_duration']].describe()\n",
    "\n",
    "out_train.style.format(\"{:.6f}\")"
   ]
  },
  {
   "cell_type": "markdown",
   "metadata": {},
   "source": [
    "We have coords far away from nyc"
   ]
  },
  {
   "cell_type": "code",
   "execution_count": 179,
   "metadata": {},
   "outputs": [
    {
     "data": {
      "text/plain": [
       "<AxesSubplot:xlabel='trip_duration'>"
      ]
     },
     "execution_count": 179,
     "metadata": {},
     "output_type": "execute_result"
    },
    {
     "data": {
      "image/png": "[encoded data removed]",
      "text/plain": [
       "<Figure size 432x288 with 1 Axes>"
      ]
     },
     "metadata": {
      "needs_background": "light"
     },
     "output_type": "display_data"
    }
   ],
   "source": [
    "sns.boxplot(out_train['trip_duration'])"
   ]
  },
  {
   "cell_type": "code",
   "execution_count": 180,
   "metadata": {},
   "outputs": [
    {
     "data": {
      "text/plain": [
       "<AxesSubplot:xlabel='trip_duration'>"
      ]
     },
     "execution_count": 180,
     "metadata": {},
     "output_type": "execute_result"
    },
    {
     "data": {
      "image/png": "[encoded data removed]",
      "text/plain": [
       "<Figure size 432x288 with 1 Axes>"
      ]
     },
     "metadata": {
      "needs_background": "light"
     },
     "output_type": "display_data"
    }
   ],
   "source": [
    "sns.distplot(train.trip_duration)"
   ]
  },
  {
   "cell_type": "code",
   "execution_count": 181,
   "metadata": {},
   "outputs": [
    {
     "name": "stdout",
     "output_type": "stream",
     "text": [
      "Quantile 0.01 = 87.0 sec (1.45 min), quantile 0.99 = 3440.0 sec (57.33 min)\n"
     ]
    }
   ],
   "source": [
    "q99 = train.trip_duration.quantile(0.99)\n",
    "q01 = train.trip_duration.quantile(0.01)\n",
    "\n",
    "print('Quantile 0.01 = {} sec ({} min), quantile 0.99 = {} sec ({} min)'.format(\n",
    "    q01,round(q01/60,2),q99,round(q99/60,2)))"
   ]
  },
  {
   "cell_type": "code",
   "execution_count": 182,
   "metadata": {},
   "outputs": [],
   "source": [
    "# removing observations with trip duration bigger than quantile 0.99 \n",
    "# and smalle than quantile 0.01\n",
    "train = train[train.trip_duration.between(q01,q99)]"
   ]
  },
  {
   "cell_type": "code",
   "execution_count": 183,
   "metadata": {},
   "outputs": [
    {
     "data": {
      "text/plain": [
       "<AxesSubplot:xlabel='trip_duration'>"
      ]
     },
     "execution_count": 183,
     "metadata": {},
     "output_type": "execute_result"
    },
    {
     "data": {
      "image/png": "[encoded data removed]",
      "text/plain": [
       "<Figure size 432x288 with 1 Axes>"
      ]
     },
     "metadata": {
      "needs_background": "light"
     },
     "output_type": "display_data"
    }
   ],
   "source": [
    "sns.distplot(train.trip_duration)"
   ]
  },
  {
   "cell_type": "code",
   "execution_count": 184,
   "metadata": {},
   "outputs": [
    {
     "data": {
      "text/plain": [
       "<AxesSubplot:xlabel='trip_duration'>"
      ]
     },
     "execution_count": 184,
     "metadata": {},
     "output_type": "execute_result"
    },
    {
     "data": {
      "image/png": "[encoded data removed]",
      "text/plain": [
       "<Figure size 432x288 with 1 Axes>"
      ]
     },
     "metadata": {
      "needs_background": "light"
     },
     "output_type": "display_data"
    }
   ],
   "source": [
    "sns.distplot(np.log1p(train.trip_duration))"
   ]
  },
  {
   "cell_type": "markdown",
   "metadata": {},
   "source": [
    "After logarithmic transformation distribution plot looks much better"
   ]
  },
  {
   "cell_type": "code",
   "execution_count": 262,
   "metadata": {},
   "outputs": [],
   "source": [
    "# test\n",
    "test = pd.read_csv(\n",
    "    '/Users/alexdrozdz/JupyterNotebook/New_York_City_Taxis/test.csv')"
   ]
  },
  {
   "cell_type": "code",
   "execution_count": 186,
   "metadata": {},
   "outputs": [
    {
     "data": {
      "text/html": [
       "<style  type=\"text/css\" >\n",
       "</style><table id=\"T_f3ae9ea6_e582_11ea_a17b_6c96cfd8d845\" ><thead>    <tr>        <th class=\"blank level0\" ></th>        <th class=\"col_heading level0 col0\" >pickup_longitude</th>        <th class=\"col_heading level0 col1\" >pickup_latitude</th>        <th class=\"col_heading level0 col2\" >dropoff_longitude</th>        <th class=\"col_heading level0 col3\" >dropoff_latitude</th>    </tr></thead><tbody>\n",
       "                <tr>\n",
       "                        <th id=\"T_f3ae9ea6_e582_11ea_a17b_6c96cfd8d845level0_row0\" class=\"row_heading level0 row0\" >count</th>\n",
       "                        <td id=\"T_f3ae9ea6_e582_11ea_a17b_6c96cfd8d845row0_col0\" class=\"data row0 col0\" >625134.000000</td>\n",
       "                        <td id=\"T_f3ae9ea6_e582_11ea_a17b_6c96cfd8d845row0_col1\" class=\"data row0 col1\" >625134.000000</td>\n",
       "                        <td id=\"T_f3ae9ea6_e582_11ea_a17b_6c96cfd8d845row0_col2\" class=\"data row0 col2\" >625134.000000</td>\n",
       "                        <td id=\"T_f3ae9ea6_e582_11ea_a17b_6c96cfd8d845row0_col3\" class=\"data row0 col3\" >625134.000000</td>\n",
       "            </tr>\n",
       "            <tr>\n",
       "                        <th id=\"T_f3ae9ea6_e582_11ea_a17b_6c96cfd8d845level0_row1\" class=\"row_heading level0 row1\" >mean</th>\n",
       "                        <td id=\"T_f3ae9ea6_e582_11ea_a17b_6c96cfd8d845row1_col0\" class=\"data row1 col0\" >-73.973614</td>\n",
       "                        <td id=\"T_f3ae9ea6_e582_11ea_a17b_6c96cfd8d845row1_col1\" class=\"data row1 col1\" >40.750927</td>\n",
       "                        <td id=\"T_f3ae9ea6_e582_11ea_a17b_6c96cfd8d845row1_col2\" class=\"data row1 col2\" >-73.973458</td>\n",
       "                        <td id=\"T_f3ae9ea6_e582_11ea_a17b_6c96cfd8d845row1_col3\" class=\"data row1 col3\" >40.751816</td>\n",
       "            </tr>\n",
       "            <tr>\n",
       "                        <th id=\"T_f3ae9ea6_e582_11ea_a17b_6c96cfd8d845level0_row2\" class=\"row_heading level0 row2\" >std</th>\n",
       "                        <td id=\"T_f3ae9ea6_e582_11ea_a17b_6c96cfd8d845row2_col0\" class=\"data row2 col0\" >0.073389</td>\n",
       "                        <td id=\"T_f3ae9ea6_e582_11ea_a17b_6c96cfd8d845row2_col1\" class=\"data row2 col1\" >0.029848</td>\n",
       "                        <td id=\"T_f3ae9ea6_e582_11ea_a17b_6c96cfd8d845row2_col2\" class=\"data row2 col2\" >0.072565</td>\n",
       "                        <td id=\"T_f3ae9ea6_e582_11ea_a17b_6c96cfd8d845row2_col3\" class=\"data row2 col3\" >0.035824</td>\n",
       "            </tr>\n",
       "            <tr>\n",
       "                        <th id=\"T_f3ae9ea6_e582_11ea_a17b_6c96cfd8d845level0_row3\" class=\"row_heading level0 row3\" >min</th>\n",
       "                        <td id=\"T_f3ae9ea6_e582_11ea_a17b_6c96cfd8d845row3_col0\" class=\"data row3 col0\" >-121.933128</td>\n",
       "                        <td id=\"T_f3ae9ea6_e582_11ea_a17b_6c96cfd8d845row3_col1\" class=\"data row3 col1\" >37.389587</td>\n",
       "                        <td id=\"T_f3ae9ea6_e582_11ea_a17b_6c96cfd8d845row3_col2\" class=\"data row3 col2\" >-121.933327</td>\n",
       "                        <td id=\"T_f3ae9ea6_e582_11ea_a17b_6c96cfd8d845row3_col3\" class=\"data row3 col3\" >36.601322</td>\n",
       "            </tr>\n",
       "            <tr>\n",
       "                        <th id=\"T_f3ae9ea6_e582_11ea_a17b_6c96cfd8d845level0_row4\" class=\"row_heading level0 row4\" >25%</th>\n",
       "                        <td id=\"T_f3ae9ea6_e582_11ea_a17b_6c96cfd8d845row4_col0\" class=\"data row4 col0\" >-73.991852</td>\n",
       "                        <td id=\"T_f3ae9ea6_e582_11ea_a17b_6c96cfd8d845row4_col1\" class=\"data row4 col1\" >40.737392</td>\n",
       "                        <td id=\"T_f3ae9ea6_e582_11ea_a17b_6c96cfd8d845row4_col2\" class=\"data row4 col2\" >-73.991318</td>\n",
       "                        <td id=\"T_f3ae9ea6_e582_11ea_a17b_6c96cfd8d845row4_col3\" class=\"data row4 col3\" >40.736000</td>\n",
       "            </tr>\n",
       "            <tr>\n",
       "                        <th id=\"T_f3ae9ea6_e582_11ea_a17b_6c96cfd8d845level0_row5\" class=\"row_heading level0 row5\" >50%</th>\n",
       "                        <td id=\"T_f3ae9ea6_e582_11ea_a17b_6c96cfd8d845row5_col0\" class=\"data row5 col0\" >-73.981743</td>\n",
       "                        <td id=\"T_f3ae9ea6_e582_11ea_a17b_6c96cfd8d845row5_col1\" class=\"data row5 col1\" >40.754093</td>\n",
       "                        <td id=\"T_f3ae9ea6_e582_11ea_a17b_6c96cfd8d845row5_col2\" class=\"data row5 col2\" >-73.979774</td>\n",
       "                        <td id=\"T_f3ae9ea6_e582_11ea_a17b_6c96cfd8d845row5_col3\" class=\"data row5 col3\" >40.754543</td>\n",
       "            </tr>\n",
       "            <tr>\n",
       "                        <th id=\"T_f3ae9ea6_e582_11ea_a17b_6c96cfd8d845level0_row6\" class=\"row_heading level0 row6\" >75%</th>\n",
       "                        <td id=\"T_f3ae9ea6_e582_11ea_a17b_6c96cfd8d845row6_col0\" class=\"data row6 col0\" >-73.967400</td>\n",
       "                        <td id=\"T_f3ae9ea6_e582_11ea_a17b_6c96cfd8d845row6_col1\" class=\"data row6 col1\" >40.768394</td>\n",
       "                        <td id=\"T_f3ae9ea6_e582_11ea_a17b_6c96cfd8d845row6_col2\" class=\"data row6 col2\" >-73.963013</td>\n",
       "                        <td id=\"T_f3ae9ea6_e582_11ea_a17b_6c96cfd8d845row6_col3\" class=\"data row6 col3\" >40.769852</td>\n",
       "            </tr>\n",
       "            <tr>\n",
       "                        <th id=\"T_f3ae9ea6_e582_11ea_a17b_6c96cfd8d845level0_row7\" class=\"row_heading level0 row7\" >max</th>\n",
       "                        <td id=\"T_f3ae9ea6_e582_11ea_a17b_6c96cfd8d845row7_col0\" class=\"data row7 col0\" >-69.248917</td>\n",
       "                        <td id=\"T_f3ae9ea6_e582_11ea_a17b_6c96cfd8d845row7_col1\" class=\"data row7 col1\" >42.814938</td>\n",
       "                        <td id=\"T_f3ae9ea6_e582_11ea_a17b_6c96cfd8d845row7_col2\" class=\"data row7 col2\" >-67.496796</td>\n",
       "                        <td id=\"T_f3ae9ea6_e582_11ea_a17b_6c96cfd8d845row7_col3\" class=\"data row7 col3\" >48.857597</td>\n",
       "            </tr>\n",
       "    </tbody></table>"
      ],
      "text/plain": [
       "<pandas.io.formats.style.Styler at 0x7fbd2ecc4640>"
      ]
     },
     "execution_count": 186,
     "metadata": {},
     "output_type": "execute_result"
    }
   ],
   "source": [
    "out_test = test[['pickup_longitude',\n",
    "                 'pickup_latitude',\n",
    "                 'dropoff_longitude',\n",
    "                 'dropoff_latitude']].describe()\n",
    "\n",
    "out_test.style.format(\"{:.6f}\")"
   ]
  },
  {
   "cell_type": "markdown",
   "metadata": {},
   "source": [
    "In test we have also observations far away from nyc. I can do nothing in test set, so I let them be in train and also in test."
   ]
  },
  {
   "cell_type": "code",
   "execution_count": 187,
   "metadata": {},
   "outputs": [
    {
     "data": {
      "text/plain": [
       "625134"
      ]
     },
     "execution_count": 187,
     "metadata": {},
     "output_type": "execute_result"
    }
   ],
   "source": [
    "# amount of test set observations\n",
    "test.count()[0]"
   ]
  },
  {
   "cell_type": "code",
   "execution_count": 188,
   "metadata": {},
   "outputs": [
    {
     "data": {
      "text/html": [
       "<div>\n",
       "<style scoped>\n",
       "    .dataframe tbody tr th:only-of-type {\n",
       "        vertical-align: middle;\n",
       "    }\n",
       "\n",
       "    .dataframe tbody tr th {\n",
       "        vertical-align: top;\n",
       "    }\n",
       "\n",
       "    .dataframe thead th {\n",
       "        text-align: right;\n",
       "    }\n",
       "</style>\n",
       "<table border=\"1\" class=\"dataframe\">\n",
       "  <thead>\n",
       "    <tr style=\"text-align: right;\">\n",
       "      <th></th>\n",
       "      <th>id</th>\n",
       "      <th>vendor_id</th>\n",
       "      <th>pickup_datetime</th>\n",
       "      <th>dropoff_datetime</th>\n",
       "      <th>passenger_count</th>\n",
       "      <th>pickup_longitude</th>\n",
       "      <th>pickup_latitude</th>\n",
       "      <th>dropoff_longitude</th>\n",
       "      <th>dropoff_latitude</th>\n",
       "      <th>store_and_fwd_flag</th>\n",
       "      <th>trip_duration</th>\n",
       "    </tr>\n",
       "  </thead>\n",
       "  <tbody>\n",
       "    <tr>\n",
       "      <th>0</th>\n",
       "      <td>id2875421</td>\n",
       "      <td>2</td>\n",
       "      <td>2016-03-14 17:24:55</td>\n",
       "      <td>2016-03-14 17:32:30</td>\n",
       "      <td>1</td>\n",
       "      <td>-73.982155</td>\n",
       "      <td>40.767937</td>\n",
       "      <td>-73.964630</td>\n",
       "      <td>40.765602</td>\n",
       "      <td>N</td>\n",
       "      <td>455</td>\n",
       "    </tr>\n",
       "    <tr>\n",
       "      <th>1</th>\n",
       "      <td>id2377394</td>\n",
       "      <td>1</td>\n",
       "      <td>2016-06-12 00:43:35</td>\n",
       "      <td>2016-06-12 00:54:38</td>\n",
       "      <td>1</td>\n",
       "      <td>-73.980415</td>\n",
       "      <td>40.738564</td>\n",
       "      <td>-73.999481</td>\n",
       "      <td>40.731152</td>\n",
       "      <td>N</td>\n",
       "      <td>663</td>\n",
       "    </tr>\n",
       "    <tr>\n",
       "      <th>2</th>\n",
       "      <td>id3858529</td>\n",
       "      <td>2</td>\n",
       "      <td>2016-01-19 11:35:24</td>\n",
       "      <td>2016-01-19 12:10:48</td>\n",
       "      <td>1</td>\n",
       "      <td>-73.979027</td>\n",
       "      <td>40.763939</td>\n",
       "      <td>-74.005333</td>\n",
       "      <td>40.710087</td>\n",
       "      <td>N</td>\n",
       "      <td>2124</td>\n",
       "    </tr>\n",
       "    <tr>\n",
       "      <th>3</th>\n",
       "      <td>id3504673</td>\n",
       "      <td>2</td>\n",
       "      <td>2016-04-06 19:32:31</td>\n",
       "      <td>2016-04-06 19:39:40</td>\n",
       "      <td>1</td>\n",
       "      <td>-74.010040</td>\n",
       "      <td>40.719971</td>\n",
       "      <td>-74.012268</td>\n",
       "      <td>40.706718</td>\n",
       "      <td>N</td>\n",
       "      <td>429</td>\n",
       "    </tr>\n",
       "    <tr>\n",
       "      <th>4</th>\n",
       "      <td>id2181028</td>\n",
       "      <td>2</td>\n",
       "      <td>2016-03-26 13:30:55</td>\n",
       "      <td>2016-03-26 13:38:10</td>\n",
       "      <td>1</td>\n",
       "      <td>-73.973053</td>\n",
       "      <td>40.793209</td>\n",
       "      <td>-73.972923</td>\n",
       "      <td>40.782520</td>\n",
       "      <td>N</td>\n",
       "      <td>435</td>\n",
       "    </tr>\n",
       "    <tr>\n",
       "      <th>...</th>\n",
       "      <td>...</td>\n",
       "      <td>...</td>\n",
       "      <td>...</td>\n",
       "      <td>...</td>\n",
       "      <td>...</td>\n",
       "      <td>...</td>\n",
       "      <td>...</td>\n",
       "      <td>...</td>\n",
       "      <td>...</td>\n",
       "      <td>...</td>\n",
       "      <td>...</td>\n",
       "    </tr>\n",
       "    <tr>\n",
       "      <th>625129</th>\n",
       "      <td>id3008929</td>\n",
       "      <td>1</td>\n",
       "      <td>2016-01-01 00:02:52</td>\n",
       "      <td>NaN</td>\n",
       "      <td>1</td>\n",
       "      <td>-74.003464</td>\n",
       "      <td>40.725105</td>\n",
       "      <td>-74.001251</td>\n",
       "      <td>40.733643</td>\n",
       "      <td>N</td>\n",
       "      <td>-999</td>\n",
       "    </tr>\n",
       "    <tr>\n",
       "      <th>625130</th>\n",
       "      <td>id3700764</td>\n",
       "      <td>1</td>\n",
       "      <td>2016-01-01 00:01:52</td>\n",
       "      <td>NaN</td>\n",
       "      <td>1</td>\n",
       "      <td>-74.006363</td>\n",
       "      <td>40.743782</td>\n",
       "      <td>-73.953407</td>\n",
       "      <td>40.782467</td>\n",
       "      <td>N</td>\n",
       "      <td>-999</td>\n",
       "    </tr>\n",
       "    <tr>\n",
       "      <th>625131</th>\n",
       "      <td>id2568735</td>\n",
       "      <td>1</td>\n",
       "      <td>2016-01-01 00:01:24</td>\n",
       "      <td>NaN</td>\n",
       "      <td>2</td>\n",
       "      <td>-73.972267</td>\n",
       "      <td>40.759865</td>\n",
       "      <td>-73.876602</td>\n",
       "      <td>40.748665</td>\n",
       "      <td>N</td>\n",
       "      <td>-999</td>\n",
       "    </tr>\n",
       "    <tr>\n",
       "      <th>625132</th>\n",
       "      <td>id1384355</td>\n",
       "      <td>1</td>\n",
       "      <td>2016-01-01 00:00:28</td>\n",
       "      <td>NaN</td>\n",
       "      <td>1</td>\n",
       "      <td>-73.976501</td>\n",
       "      <td>40.733562</td>\n",
       "      <td>-73.854263</td>\n",
       "      <td>40.891788</td>\n",
       "      <td>N</td>\n",
       "      <td>-999</td>\n",
       "    </tr>\n",
       "    <tr>\n",
       "      <th>625133</th>\n",
       "      <td>id0621643</td>\n",
       "      <td>2</td>\n",
       "      <td>2016-01-01 00:00:22</td>\n",
       "      <td>NaN</td>\n",
       "      <td>2</td>\n",
       "      <td>-73.981850</td>\n",
       "      <td>40.716881</td>\n",
       "      <td>-73.969330</td>\n",
       "      <td>40.769379</td>\n",
       "      <td>N</td>\n",
       "      <td>-999</td>\n",
       "    </tr>\n",
       "  </tbody>\n",
       "</table>\n",
       "<p>2054672 rows × 11 columns</p>\n",
       "</div>"
      ],
      "text/plain": [
       "               id  vendor_id      pickup_datetime     dropoff_datetime  \\\n",
       "0       id2875421          2  2016-03-14 17:24:55  2016-03-14 17:32:30   \n",
       "1       id2377394          1  2016-06-12 00:43:35  2016-06-12 00:54:38   \n",
       "2       id3858529          2  2016-01-19 11:35:24  2016-01-19 12:10:48   \n",
       "3       id3504673          2  2016-04-06 19:32:31  2016-04-06 19:39:40   \n",
       "4       id2181028          2  2016-03-26 13:30:55  2016-03-26 13:38:10   \n",
       "...           ...        ...                  ...                  ...   \n",
       "625129  id3008929          1  2016-01-01 00:02:52                  NaN   \n",
       "625130  id3700764          1  2016-01-01 00:01:52                  NaN   \n",
       "625131  id2568735          1  2016-01-01 00:01:24                  NaN   \n",
       "625132  id1384355          1  2016-01-01 00:00:28                  NaN   \n",
       "625133  id0621643          2  2016-01-01 00:00:22                  NaN   \n",
       "\n",
       "        passenger_count  pickup_longitude  pickup_latitude  dropoff_longitude  \\\n",
       "0                     1        -73.982155        40.767937         -73.964630   \n",
       "1                     1        -73.980415        40.738564         -73.999481   \n",
       "2                     1        -73.979027        40.763939         -74.005333   \n",
       "3                     1        -74.010040        40.719971         -74.012268   \n",
       "4                     1        -73.973053        40.793209         -73.972923   \n",
       "...                 ...               ...              ...                ...   \n",
       "625129                1        -74.003464        40.725105         -74.001251   \n",
       "625130                1        -74.006363        40.743782         -73.953407   \n",
       "625131                2        -73.972267        40.759865         -73.876602   \n",
       "625132                1        -73.976501        40.733562         -73.854263   \n",
       "625133                2        -73.981850        40.716881         -73.969330   \n",
       "\n",
       "        dropoff_latitude store_and_fwd_flag  trip_duration  \n",
       "0              40.765602                  N            455  \n",
       "1              40.731152                  N            663  \n",
       "2              40.710087                  N           2124  \n",
       "3              40.706718                  N            429  \n",
       "4              40.782520                  N            435  \n",
       "...                  ...                ...            ...  \n",
       "625129         40.733643                  N           -999  \n",
       "625130         40.782467                  N           -999  \n",
       "625131         40.748665                  N           -999  \n",
       "625132         40.891788                  N           -999  \n",
       "625133         40.769379                  N           -999  \n",
       "\n",
       "[2054672 rows x 11 columns]"
      ]
     },
     "execution_count": 188,
     "metadata": {},
     "output_type": "execute_result"
    }
   ],
   "source": [
    "# combining train and test to make notebook less complex\n",
    "test['trip_duration'] = -999\n",
    "df = train.append(test)\n",
    "df"
   ]
  },
  {
   "cell_type": "code",
   "execution_count": 189,
   "metadata": {},
   "outputs": [],
   "source": [
    "# Adding pickup and dropoff neighborhoods seems to be a good idea to better catch \"border crossing\" trips\n",
    "# thanks to geopandas package we can do it easily\n",
    "boroughs = gpd.read_file(gplt.datasets.get_path('nyc_boroughs'))"
   ]
  },
  {
   "cell_type": "code",
   "execution_count": 190,
   "metadata": {},
   "outputs": [
    {
     "data": {
      "text/html": [
       "<div>\n",
       "<style scoped>\n",
       "    .dataframe tbody tr th:only-of-type {\n",
       "        vertical-align: middle;\n",
       "    }\n",
       "\n",
       "    .dataframe tbody tr th {\n",
       "        vertical-align: top;\n",
       "    }\n",
       "\n",
       "    .dataframe thead th {\n",
       "        text-align: right;\n",
       "    }\n",
       "</style>\n",
       "<table border=\"1\" class=\"dataframe\">\n",
       "  <thead>\n",
       "    <tr style=\"text-align: right;\">\n",
       "      <th></th>\n",
       "      <th>BoroCode</th>\n",
       "      <th>BoroName</th>\n",
       "      <th>Shape_Leng</th>\n",
       "      <th>Shape_Area</th>\n",
       "      <th>geometry</th>\n",
       "    </tr>\n",
       "  </thead>\n",
       "  <tbody>\n",
       "    <tr>\n",
       "      <th>0</th>\n",
       "      <td>5</td>\n",
       "      <td>Staten Island</td>\n",
       "      <td>330385.03697</td>\n",
       "      <td>1.623853e+09</td>\n",
       "      <td>MULTIPOLYGON (((-74.05051 40.56642, -74.05047 ...</td>\n",
       "    </tr>\n",
       "    <tr>\n",
       "      <th>1</th>\n",
       "      <td>4</td>\n",
       "      <td>Queens</td>\n",
       "      <td>861038.47930</td>\n",
       "      <td>3.049947e+09</td>\n",
       "      <td>MULTIPOLYGON (((-73.83668 40.59495, -73.83678 ...</td>\n",
       "    </tr>\n",
       "    <tr>\n",
       "      <th>2</th>\n",
       "      <td>3</td>\n",
       "      <td>Brooklyn</td>\n",
       "      <td>726568.94634</td>\n",
       "      <td>1.959432e+09</td>\n",
       "      <td>MULTIPOLYGON (((-73.86706 40.58209, -73.86769 ...</td>\n",
       "    </tr>\n",
       "    <tr>\n",
       "      <th>3</th>\n",
       "      <td>1</td>\n",
       "      <td>Manhattan</td>\n",
       "      <td>358532.95642</td>\n",
       "      <td>6.364422e+08</td>\n",
       "      <td>MULTIPOLYGON (((-74.01093 40.68449, -74.01193 ...</td>\n",
       "    </tr>\n",
       "    <tr>\n",
       "      <th>4</th>\n",
       "      <td>2</td>\n",
       "      <td>Bronx</td>\n",
       "      <td>464517.89055</td>\n",
       "      <td>1.186804e+09</td>\n",
       "      <td>MULTIPOLYGON (((-73.89681 40.79581, -73.89694 ...</td>\n",
       "    </tr>\n",
       "  </tbody>\n",
       "</table>\n",
       "</div>"
      ],
      "text/plain": [
       "   BoroCode       BoroName    Shape_Leng    Shape_Area  \\\n",
       "0         5  Staten Island  330385.03697  1.623853e+09   \n",
       "1         4         Queens  861038.47930  3.049947e+09   \n",
       "2         3       Brooklyn  726568.94634  1.959432e+09   \n",
       "3         1      Manhattan  358532.95642  6.364422e+08   \n",
       "4         2          Bronx  464517.89055  1.186804e+09   \n",
       "\n",
       "                                            geometry  \n",
       "0  MULTIPOLYGON (((-74.05051 40.56642, -74.05047 ...  \n",
       "1  MULTIPOLYGON (((-73.83668 40.59495, -73.83678 ...  \n",
       "2  MULTIPOLYGON (((-73.86706 40.58209, -73.86769 ...  \n",
       "3  MULTIPOLYGON (((-74.01093 40.68449, -74.01193 ...  \n",
       "4  MULTIPOLYGON (((-73.89681 40.79581, -73.89694 ...  "
      ]
     },
     "execution_count": 190,
     "metadata": {},
     "output_type": "execute_result"
    }
   ],
   "source": [
    "boroughs"
   ]
  },
  {
   "cell_type": "markdown",
   "metadata": {},
   "source": [
    "### Adding pickup borough to dataframe\n",
    "this section takes a while"
   ]
  },
  {
   "cell_type": "code",
   "execution_count": 191,
   "metadata": {},
   "outputs": [
    {
     "name": "stdout",
     "output_type": "stream",
     "text": [
      "CPU times: user 16.3 s, sys: 282 ms, total: 16.5 s\n",
      "Wall time: 16.6 s\n"
     ]
    }
   ],
   "source": [
    "%%time\n",
    "\n",
    "gdf = gpd.GeoDataFrame(\n",
    "    df, geometry=gpd.points_from_xy(df.pickup_longitude, \n",
    "                                    df.pickup_latitude))"
   ]
  },
  {
   "cell_type": "code",
   "execution_count": 192,
   "metadata": {},
   "outputs": [
    {
     "name": "stdout",
     "output_type": "stream",
     "text": [
      "CPU times: user 7min 12s, sys: 1.1 s, total: 7min 13s\n",
      "Wall time: 7min 13s\n"
     ]
    }
   ],
   "source": [
    "%%time\n",
    "\n",
    "trips_with_boro = gpd.sjoin(gdf, boroughs, how=\"left\", op='intersects')"
   ]
  },
  {
   "cell_type": "code",
   "execution_count": 194,
   "metadata": {},
   "outputs": [],
   "source": [
    "cols_to_dro = ['index_right','BoroCode','Shape_Leng','Shape_Area','geometry']\n",
    "trips_with_boro = trips_with_boro.drop(cols_to_dro, axis=1)\n",
    "trips_with_boro = trips_with_boro.rename(columns={'BoroName': 'pickup_boro'})"
   ]
  },
  {
   "cell_type": "markdown",
   "metadata": {},
   "source": [
    "### Adding dropoff borough to dataframe"
   ]
  },
  {
   "cell_type": "code",
   "execution_count": 195,
   "metadata": {},
   "outputs": [
    {
     "name": "stdout",
     "output_type": "stream",
     "text": [
      "CPU times: user 16 s, sys: 364 ms, total: 16.3 s\n",
      "Wall time: 16.3 s\n"
     ]
    }
   ],
   "source": [
    "%%time\n",
    "\n",
    "gdf = gpd.GeoDataFrame(\n",
    "    trips_with_boro, geometry=gpd.points_from_xy(trips_with_boro.dropoff_longitude, \n",
    "                                                 trips_with_boro.dropoff_latitude))"
   ]
  },
  {
   "cell_type": "code",
   "execution_count": 196,
   "metadata": {},
   "outputs": [
    {
     "name": "stdout",
     "output_type": "stream",
     "text": [
      "CPU times: user 7min 22s, sys: 1.09 s, total: 7min 23s\n",
      "Wall time: 7min 23s\n"
     ]
    }
   ],
   "source": [
    "%%time\n",
    "\n",
    "trips_with_boro = gpd.sjoin(gdf, boroughs, how=\"left\", op='intersects')"
   ]
  },
  {
   "cell_type": "code",
   "execution_count": 197,
   "metadata": {},
   "outputs": [],
   "source": [
    "cols_to_dro = ['index_right','BoroCode','Shape_Leng','Shape_Area','geometry']\n",
    "trips_with_boro = trips_with_boro.drop(cols_to_dro, axis=1)\n",
    "trips_with_boro = trips_with_boro.rename(columns={'BoroName': 'dropoff_boro'})"
   ]
  },
  {
   "cell_type": "markdown",
   "metadata": {},
   "source": [
    "## Distnace"
   ]
  },
  {
   "cell_type": "code",
   "execution_count": 198,
   "metadata": {},
   "outputs": [
    {
     "data": {
      "application/vnd.jupyter.widget-view+json": {
       "model_id": "c22217e49b40404e93237230da862c7c",
       "version_major": 2,
       "version_minor": 0
      },
      "text/plain": [
       "HBox(children=(FloatProgress(value=0.0, max=2054672.0), HTML(value='')))"
      ]
     },
     "metadata": {},
     "output_type": "display_data"
    },
    {
     "name": "stdout",
     "output_type": "stream",
     "text": [
      "\n"
     ]
    }
   ],
   "source": [
    "# distances from pickup point to dropoff point by geodesic measure\n",
    "p_lat = trips_with_boro['pickup_latitude'].to_list()\n",
    "p_lon = trips_with_boro['pickup_longitude'].to_list()\n",
    "d_lat = trips_with_boro['dropoff_latitude'].to_list()\n",
    "d_lon = trips_with_boro['dropoff_longitude'].to_list()\n",
    "\n",
    "dists = []\n",
    "for row in tqdm(range(len(p_lon))):\n",
    "    x = geopy.distance.geodesic((p_lat[row], p_lon[row]), (d_lat[row], d_lon[row])).miles\n",
    "    dists.append(x)\n",
    "    \n",
    "trips_with_boro['distance'] = dists"
   ]
  },
  {
   "cell_type": "markdown",
   "metadata": {},
   "source": [
    "### Checkpoint \n",
    "Cells before were a little bit time-consuming so checkpoint is needed"
   ]
  },
  {
   "cell_type": "code",
   "execution_count": 199,
   "metadata": {},
   "outputs": [],
   "source": [
    "csv = trips_with_boro.to_csv('/Users/alexdrozdz/JupyterNotebook/New_York_City_Taxis/checkpoint1.csv')"
   ]
  },
  {
   "cell_type": "code",
   "execution_count": 366,
   "metadata": {},
   "outputs": [],
   "source": [
    "df = pd.read_csv('/Users/alexdrozdz/JupyterNotebook/New_York_City_Taxis/checkpoint1.csv', index_col=0)"
   ]
  },
  {
   "cell_type": "code",
   "execution_count": 367,
   "metadata": {},
   "outputs": [],
   "source": [
    "def count_null_rows(data_frame):\n",
    "    \"\"\"\n",
    "    Counting percentage of missing data by columns.\n",
    "    \"\"\"\n",
    "    counter = (len(data_frame) - data_frame.count())\n",
    "    percent = counter/len(data_frame) \n",
    "    frame = pd.concat([counter, percent], axis=1)\n",
    "    frame = frame.rename(columns={0: 'r', 1: '%'})\n",
    "    frame['%'] = round(frame['%']*100, 2)\n",
    "    return frame.sort_values(by=frame.columns[0], ascending=True)       "
   ]
  },
  {
   "cell_type": "code",
   "execution_count": 368,
   "metadata": {},
   "outputs": [
    {
     "data": {
      "text/html": [
       "<div>\n",
       "<style scoped>\n",
       "    .dataframe tbody tr th:only-of-type {\n",
       "        vertical-align: middle;\n",
       "    }\n",
       "\n",
       "    .dataframe tbody tr th {\n",
       "        vertical-align: top;\n",
       "    }\n",
       "\n",
       "    .dataframe thead th {\n",
       "        text-align: right;\n",
       "    }\n",
       "</style>\n",
       "<table border=\"1\" class=\"dataframe\">\n",
       "  <thead>\n",
       "    <tr style=\"text-align: right;\">\n",
       "      <th></th>\n",
       "      <th>r</th>\n",
       "      <th>%</th>\n",
       "    </tr>\n",
       "  </thead>\n",
       "  <tbody>\n",
       "    <tr>\n",
       "      <th>id</th>\n",
       "      <td>0</td>\n",
       "      <td>0.00</td>\n",
       "    </tr>\n",
       "    <tr>\n",
       "      <th>vendor_id</th>\n",
       "      <td>0</td>\n",
       "      <td>0.00</td>\n",
       "    </tr>\n",
       "    <tr>\n",
       "      <th>pickup_datetime</th>\n",
       "      <td>0</td>\n",
       "      <td>0.00</td>\n",
       "    </tr>\n",
       "    <tr>\n",
       "      <th>passenger_count</th>\n",
       "      <td>0</td>\n",
       "      <td>0.00</td>\n",
       "    </tr>\n",
       "    <tr>\n",
       "      <th>pickup_longitude</th>\n",
       "      <td>0</td>\n",
       "      <td>0.00</td>\n",
       "    </tr>\n",
       "    <tr>\n",
       "      <th>pickup_latitude</th>\n",
       "      <td>0</td>\n",
       "      <td>0.00</td>\n",
       "    </tr>\n",
       "    <tr>\n",
       "      <th>dropoff_longitude</th>\n",
       "      <td>0</td>\n",
       "      <td>0.00</td>\n",
       "    </tr>\n",
       "    <tr>\n",
       "      <th>dropoff_latitude</th>\n",
       "      <td>0</td>\n",
       "      <td>0.00</td>\n",
       "    </tr>\n",
       "    <tr>\n",
       "      <th>store_and_fwd_flag</th>\n",
       "      <td>0</td>\n",
       "      <td>0.00</td>\n",
       "    </tr>\n",
       "    <tr>\n",
       "      <th>trip_duration</th>\n",
       "      <td>0</td>\n",
       "      <td>0.00</td>\n",
       "    </tr>\n",
       "    <tr>\n",
       "      <th>distance</th>\n",
       "      <td>0</td>\n",
       "      <td>0.00</td>\n",
       "    </tr>\n",
       "    <tr>\n",
       "      <th>pickup_boro</th>\n",
       "      <td>1118</td>\n",
       "      <td>0.05</td>\n",
       "    </tr>\n",
       "    <tr>\n",
       "      <th>dropoff_boro</th>\n",
       "      <td>7790</td>\n",
       "      <td>0.38</td>\n",
       "    </tr>\n",
       "    <tr>\n",
       "      <th>dropoff_datetime</th>\n",
       "      <td>625134</td>\n",
       "      <td>30.43</td>\n",
       "    </tr>\n",
       "  </tbody>\n",
       "</table>\n",
       "</div>"
      ],
      "text/plain": [
       "                         r      %\n",
       "id                       0   0.00\n",
       "vendor_id                0   0.00\n",
       "pickup_datetime          0   0.00\n",
       "passenger_count          0   0.00\n",
       "pickup_longitude         0   0.00\n",
       "pickup_latitude          0   0.00\n",
       "dropoff_longitude        0   0.00\n",
       "dropoff_latitude         0   0.00\n",
       "store_and_fwd_flag       0   0.00\n",
       "trip_duration            0   0.00\n",
       "distance                 0   0.00\n",
       "pickup_boro           1118   0.05\n",
       "dropoff_boro          7790   0.38\n",
       "dropoff_datetime    625134  30.43"
      ]
     },
     "execution_count": 368,
     "metadata": {},
     "output_type": "execute_result"
    }
   ],
   "source": [
    "count_null_rows(df)"
   ]
  },
  {
   "cell_type": "markdown",
   "metadata": {},
   "source": [
    "dropoff_datetime has 30% nulls because it's also a test set here. Lacks in pickup_boro and dropoff_boro means that some of trips was from or to places outside New York City. I fill null values there with string 'other'."
   ]
  },
  {
   "cell_type": "code",
   "execution_count": 369,
   "metadata": {},
   "outputs": [],
   "source": [
    "df['pickup_boro'] = df['pickup_boro'].fillna('other')\n",
    "df['dropoff_boro'] = df['dropoff_boro'].fillna('other')"
   ]
  },
  {
   "cell_type": "markdown",
   "metadata": {},
   "source": [
    "## \"Border crossing\" trips"
   ]
  },
  {
   "cell_type": "code",
   "execution_count": 370,
   "metadata": {},
   "outputs": [],
   "source": [
    "# trips to other districts of nyc"
   ]
  },
  {
   "cell_type": "code",
   "execution_count": 371,
   "metadata": {},
   "outputs": [],
   "source": [
    "df['boarder_cross'] = np.where(df['pickup_boro']!=df['dropoff_boro'], 1, 0)"
   ]
  },
  {
   "cell_type": "code",
   "execution_count": 372,
   "metadata": {},
   "outputs": [],
   "source": [
    "# trips from outside and to outside nyc"
   ]
  },
  {
   "cell_type": "code",
   "execution_count": 373,
   "metadata": {},
   "outputs": [],
   "source": [
    "df['from_outside'] = np.where((df['pickup_boro']=='other') & (df['dropoff_boro']!='other'), 1, 0)"
   ]
  },
  {
   "cell_type": "code",
   "execution_count": 374,
   "metadata": {},
   "outputs": [],
   "source": [
    "df['to_outside'] = np.where((df['pickup_boro']!='other') & (df['dropoff_boro']=='other'), 1, 0)"
   ]
  },
  {
   "cell_type": "markdown",
   "metadata": {},
   "source": [
    "## Encoding store store_and_fwd_flag feature "
   ]
  },
  {
   "cell_type": "code",
   "execution_count": 375,
   "metadata": {},
   "outputs": [],
   "source": [
    "df['store_and_fwd_flag'] = df['store_and_fwd_flag'].map({'Y': 1, 'N': 0})"
   ]
  },
  {
   "cell_type": "markdown",
   "metadata": {},
   "source": [
    "## Dealing with date"
   ]
  },
  {
   "cell_type": "code",
   "execution_count": 376,
   "metadata": {},
   "outputs": [
    {
     "data": {
      "application/vnd.jupyter.widget-view+json": {
       "model_id": "071851b3afe6406ebd9b2a7e9f5df1d4",
       "version_major": 2,
       "version_minor": 0
      },
      "text/plain": [
       "HBox(children=(FloatProgress(value=0.0, max=2054672.0), HTML(value='')))"
      ]
     },
     "metadata": {},
     "output_type": "display_data"
    },
    {
     "name": "stdout",
     "output_type": "stream",
     "text": [
      "\n"
     ]
    }
   ],
   "source": [
    "year = []\n",
    "month = []\n",
    "day = []\n",
    "\n",
    "dates = df['pickup_datetime']\n",
    "for row in tqdm(dates):\n",
    "    year.append(row[0:4])\n",
    "    month.append(row[5:7])\n",
    "    day.append(row[8:10])\n",
    "    \n",
    "df['year'] = year\n",
    "df['month'] = month\n",
    "df['day'] = day"
   ]
  },
  {
   "cell_type": "code",
   "execution_count": 377,
   "metadata": {},
   "outputs": [],
   "source": [
    "df['year'] = df['year'].astype('int64')\n",
    "df['month'] = df['month'].astype('int64')\n",
    "df['day'] = df['day'].astype('int64')"
   ]
  },
  {
   "cell_type": "markdown",
   "metadata": {},
   "source": [
    "### Weekdays"
   ]
  },
  {
   "cell_type": "code",
   "execution_count": 378,
   "metadata": {},
   "outputs": [
    {
     "data": {
      "application/vnd.jupyter.widget-view+json": {
       "model_id": "f160003ff32f430080a7bf2b3ec6cbe3",
       "version_major": 2,
       "version_minor": 0
      },
      "text/plain": [
       "HBox(children=(FloatProgress(value=0.0, max=2054672.0), HTML(value='')))"
      ]
     },
     "metadata": {},
     "output_type": "display_data"
    },
    {
     "name": "stdout",
     "output_type": "stream",
     "text": [
      "\n"
     ]
    }
   ],
   "source": [
    "year = df['year'].to_list()\n",
    "month = df['month'].to_list()\n",
    "day = df['day'].to_list()\n",
    "day_of_the_week = []\n",
    "\n",
    "for row in tqdm(range(len(df))):\n",
    "    day_of_the_week.append(datetime(year[row],month[row],day[row]).weekday())\n",
    "\n",
    "df['day_of_the_week'] = day_of_the_week"
   ]
  },
  {
   "cell_type": "code",
   "execution_count": 379,
   "metadata": {},
   "outputs": [],
   "source": [
    "df['day_of_the_week'] = df['day_of_the_week'].map({0: 'Sunday',\n",
    "                                                   1: 'Monday',\n",
    "                                                   2: 'Tuesday',\n",
    "                                                   3: 'Wednesday',\n",
    "                                                   4: 'Thursday',\n",
    "                                                   5: 'Friday', \n",
    "                                                   6: 'Saturday'})"
   ]
  },
  {
   "cell_type": "markdown",
   "metadata": {},
   "source": [
    "### Holidays"
   ]
  },
  {
   "cell_type": "code",
   "execution_count": 380,
   "metadata": {},
   "outputs": [
    {
     "data": {
      "application/vnd.jupyter.widget-view+json": {
       "model_id": "200dd543005543118d1253e2d10d55cd",
       "version_major": 2,
       "version_minor": 0
      },
      "text/plain": [
       "HBox(children=(FloatProgress(value=0.0, max=2054672.0), HTML(value='')))"
      ]
     },
     "metadata": {},
     "output_type": "display_data"
    },
    {
     "name": "stdout",
     "output_type": "stream",
     "text": [
      "\n"
     ]
    }
   ],
   "source": [
    "us_holidays = holidays.CountryHoliday('US', prov=None, state='NY', years=2016)\n",
    "is_holiday = []\n",
    "\n",
    "for row in tqdm(range(len(df))):\n",
    "    if datetime(year[row],month[row],day[row]) in us_holidays:\n",
    "        is_holiday.append(1)\n",
    "    else:\n",
    "        is_holiday.append(0)        \n",
    "\n",
    "df['is_holiday'] = is_holiday"
   ]
  },
  {
   "cell_type": "markdown",
   "metadata": {},
   "source": [
    "### Hours"
   ]
  },
  {
   "cell_type": "code",
   "execution_count": 381,
   "metadata": {},
   "outputs": [
    {
     "data": {
      "application/vnd.jupyter.widget-view+json": {
       "model_id": "8b7a9845ab494c81b1a1ea49fecff112",
       "version_major": 2,
       "version_minor": 0
      },
      "text/plain": [
       "HBox(children=(FloatProgress(value=0.0, max=2054672.0), HTML(value='')))"
      ]
     },
     "metadata": {},
     "output_type": "display_data"
    },
    {
     "name": "stdout",
     "output_type": "stream",
     "text": [
      "\n"
     ]
    }
   ],
   "source": [
    "# hour when trip started\n",
    "pickup_date = df['pickup_datetime'].to_list()\n",
    "hour = []\n",
    "\n",
    "for row in tqdm(range(len(df))):\n",
    "    hour.append(pickup_date[row][11:13])\n",
    "\n",
    "df['full_hour'] = hour"
   ]
  },
  {
   "cell_type": "code",
   "execution_count": 382,
   "metadata": {},
   "outputs": [],
   "source": [
    "df['full_hour'] = df['full_hour'].astype('int64')"
   ]
  },
  {
   "cell_type": "code",
   "execution_count": 383,
   "metadata": {},
   "outputs": [
    {
     "data": {
      "application/vnd.jupyter.widget-view+json": {
       "model_id": "79f3bea2b41049c987461aab42d465e0",
       "version_major": 2,
       "version_minor": 0
      },
      "text/plain": [
       "HBox(children=(FloatProgress(value=0.0, max=2054672.0), HTML(value='')))"
      ]
     },
     "metadata": {},
     "output_type": "display_data"
    },
    {
     "name": "stdout",
     "output_type": "stream",
     "text": [
      "\n"
     ]
    }
   ],
   "source": [
    "# day / night\n",
    "full_hour = df['full_hour'].to_list()\n",
    "day = []\n",
    "night = [] \n",
    "\n",
    "for row in tqdm(range(len(df))):\n",
    "    if full_hour[row] >= 6 and full_hour[row] <= 20:\n",
    "        day.append(1)\n",
    "        night.append(0)\n",
    "    else:\n",
    "        day.append(0)\n",
    "        night.append(1)\n",
    "        \n",
    "df['is_day'] = day\n",
    "df['is_night'] = night"
   ]
  },
  {
   "cell_type": "code",
   "execution_count": 384,
   "metadata": {},
   "outputs": [
    {
     "data": {
      "application/vnd.jupyter.widget-view+json": {
       "model_id": "0b29c988f0b543f789ee65133d8bc63e",
       "version_major": 2,
       "version_minor": 0
      },
      "text/plain": [
       "HBox(children=(FloatProgress(value=0.0, max=2054672.0), HTML(value='')))"
      ]
     },
     "metadata": {},
     "output_type": "display_data"
    },
    {
     "name": "stdout",
     "output_type": "stream",
     "text": [
      "\n"
     ]
    }
   ],
   "source": [
    "# weekend or not\n",
    "weekend = df['day_of_the_week'].to_list()\n",
    "is_weekend = []\n",
    "\n",
    "for row in tqdm(range(len(df))):\n",
    "    if weekend[row] == 'Saturday':\n",
    "        is_weekend.append(1)\n",
    "    elif weekend[row] == 'Sunday':\n",
    "        is_weekend.append(1)\n",
    "    else:\n",
    "        is_weekend.append(0)\n",
    "        \n",
    "df['is_weekend'] = is_weekend"
   ]
  },
  {
   "cell_type": "code",
   "execution_count": 385,
   "metadata": {},
   "outputs": [
    {
     "data": {
      "application/vnd.jupyter.widget-view+json": {
       "model_id": "f2f38e276e8d4b79bf7574a56d39bd57",
       "version_major": 2,
       "version_minor": 0
      },
      "text/plain": [
       "HBox(children=(FloatProgress(value=0.0, max=2054672.0), HTML(value='')))"
      ]
     },
     "metadata": {},
     "output_type": "display_data"
    },
    {
     "name": "stdout",
     "output_type": "stream",
     "text": [
      "\n"
     ]
    }
   ],
   "source": [
    "# heavy rush in NY is between 6AM and 10AM and also between 3PM and 6PM\n",
    "full_hour = df['full_hour'].to_list()\n",
    "heavy_rush = []\n",
    "\n",
    "for row in tqdm(range(len(df))):\n",
    "    if full_hour[row] >= 6 and full_hour[row] <= 10 and is_weekend[row] != 1 and is_holiday != 1:\n",
    "        heavy_rush.append(1)\n",
    "    elif full_hour[row] >= 15 and full_hour[row] <= 18 and is_weekend[row] != 1 and is_holiday != 1:\n",
    "        heavy_rush.append(1)\n",
    "    else:\n",
    "        heavy_rush.append(0)\n",
    "\n",
    "df['is_heavy_rush'] = heavy_rush"
   ]
  },
  {
   "cell_type": "code",
   "execution_count": 386,
   "metadata": {},
   "outputs": [],
   "source": [
    "# minute of the day\n",
    "df['minute'] = df['pickup_datetime'].str[14:16].astype('int64')"
   ]
  },
  {
   "cell_type": "markdown",
   "metadata": {},
   "source": [
    "### Following days"
   ]
  },
  {
   "cell_type": "code",
   "execution_count": 392,
   "metadata": {},
   "outputs": [],
   "source": [
    "df['day_of_the_year'] = df['pickup_datetime'].str[0:10]\n",
    "df = df.sort_values(by='day_of_the_year')\n",
    "\n",
    "df['day_of_the_year'] = pd.factorize(df['day_of_the_year'])[0]"
   ]
  },
  {
   "cell_type": "markdown",
   "metadata": {},
   "source": [
    "## Encoding of categorical columns"
   ]
  },
  {
   "cell_type": "code",
   "execution_count": 395,
   "metadata": {},
   "outputs": [],
   "source": [
    "def get_boolean_from_categorical(data_frame, col_name, leave_nans=True):\n",
    "    \"\"\"\n",
    "    Creating as much new columns as unique values are in original column.\n",
    "    New columns are in a style is_value_name_(original_column_name) and \n",
    "    are fulfilled with binary values, if specific observation have particular \n",
    "    value in original column, new value will be 1, in other cases 0. Parameter \n",
    "    leave_nans, by default set as True, specify if missing values will be 0 or \n",
    "    original. This function in fact is something like 'scikit learn's one-hot \n",
    "    encoding' functions.\n",
    "    \"\"\"\n",
    "    list_of_items = data_frame[col_name].unique().tolist()\n",
    "    if np.nan in list_of_items: \n",
    "        list_of_items.remove(np.nan)\n",
    "    for elem in range(len(list_of_items)):\n",
    "        x = list_of_items[elem]\n",
    "        name = 'is_' + list_of_items[elem] + '_(' + col_name + ')'\n",
    "        bool_list = []\n",
    "        for i in data_frame[col_name]:\n",
    "            if  leave_nans is True:\n",
    "                if x == i:\n",
    "                    bool_list.append(1)\n",
    "                elif isinstance(i, float) == True:                                                                            \n",
    "                    bool_list.append(np.nan)\n",
    "                else:\n",
    "                    bool_list.append(0)\n",
    "            else:\n",
    "                if x == i:\n",
    "                    bool_list.append(1)\n",
    "                else:\n",
    "                    bool_list.append(0)\n",
    "        data_frame[name] = bool_list\n",
    "        if  leave_nans is True: \n",
    "            data_frame[name] = data_frame[name].astype(\"Int64\") \n",
    "        else:\n",
    "            data_frame[name] = data_frame[name].astype(\"int64\") \n",
    "    return data_frame[name] "
   ]
  },
  {
   "cell_type": "code",
   "execution_count": 396,
   "metadata": {},
   "outputs": [],
   "source": [
    "cols = ['day_of_the_week', 'vendor_id', 'pickup_boro', 'dropoff_boro']"
   ]
  },
  {
   "cell_type": "code",
   "execution_count": 397,
   "metadata": {},
   "outputs": [
    {
     "data": {
      "application/vnd.jupyter.widget-view+json": {
       "model_id": "ae522d07b9be49f99c173fbeb77b4320",
       "version_major": 2,
       "version_minor": 0
      },
      "text/plain": [
       "HBox(children=(FloatProgress(value=0.0, max=4.0), HTML(value='')))"
      ]
     },
     "metadata": {},
     "output_type": "display_data"
    },
    {
     "name": "stdout",
     "output_type": "stream",
     "text": [
      "\n"
     ]
    }
   ],
   "source": [
    "for col in tqdm(cols):\n",
    "    df[col] = df[col].astype('str')\n",
    "    get_boolean_from_categorical(data_frame=df, col_name=col)\n",
    "    df = df.drop(col, axis=1)"
   ]
  },
  {
   "cell_type": "markdown",
   "metadata": {},
   "source": [
    "### Drop"
   ]
  },
  {
   "cell_type": "code",
   "execution_count": 394,
   "metadata": {},
   "outputs": [],
   "source": [
    "# Droping not needed features\n",
    "df = df.drop('pickup_datetime', axis=1)\n",
    "df = df.drop('dropoff_datetime', axis=1)\n",
    "df = df.drop('year', axis=1)\n",
    "# df = df.drop('month', axis=1)\n",
    "# df = df.drop('day', axis=1)\n",
    "# df = df.drop('full_hour', axis=1)"
   ]
  },
  {
   "cell_type": "code",
   "execution_count": 398,
   "metadata": {},
   "outputs": [],
   "source": [
    "# train test split\n",
    "train = df[df['trip_duration']>-1]\n",
    "test = df[df['trip_duration']==-999]\n",
    "test = test.drop('trip_duration', axis=1)"
   ]
  },
  {
   "cell_type": "markdown",
   "metadata": {},
   "source": [
    "## Saving"
   ]
  },
  {
   "cell_type": "code",
   "execution_count": 401,
   "metadata": {},
   "outputs": [
    {
     "data": {
      "text/html": [
       "<div>\n",
       "<style scoped>\n",
       "    .dataframe tbody tr th:only-of-type {\n",
       "        vertical-align: middle;\n",
       "    }\n",
       "\n",
       "    .dataframe tbody tr th {\n",
       "        vertical-align: top;\n",
       "    }\n",
       "\n",
       "    .dataframe thead th {\n",
       "        text-align: right;\n",
       "    }\n",
       "</style>\n",
       "<table border=\"1\" class=\"dataframe\">\n",
       "  <thead>\n",
       "    <tr style=\"text-align: right;\">\n",
       "      <th></th>\n",
       "      <th>id</th>\n",
       "      <th>passenger_count</th>\n",
       "      <th>pickup_longitude</th>\n",
       "      <th>pickup_latitude</th>\n",
       "      <th>dropoff_longitude</th>\n",
       "      <th>dropoff_latitude</th>\n",
       "      <th>store_and_fwd_flag</th>\n",
       "      <th>trip_duration</th>\n",
       "      <th>distance</th>\n",
       "      <th>boarder_cross</th>\n",
       "      <th>from_outside</th>\n",
       "      <th>to_outside</th>\n",
       "      <th>month</th>\n",
       "      <th>day</th>\n",
       "      <th>is_holiday</th>\n",
       "      <th>full_hour</th>\n",
       "      <th>is_day</th>\n",
       "      <th>is_night</th>\n",
       "      <th>is_weekend</th>\n",
       "      <th>is_heavy_rush</th>\n",
       "      <th>minute</th>\n",
       "      <th>day_of_the_year</th>\n",
       "      <th>is_Thursday_(day_of_the_week)</th>\n",
       "      <th>is_Friday_(day_of_the_week)</th>\n",
       "      <th>is_Saturday_(day_of_the_week)</th>\n",
       "      <th>is_Sunday_(day_of_the_week)</th>\n",
       "      <th>is_Monday_(day_of_the_week)</th>\n",
       "      <th>is_Tuesday_(day_of_the_week)</th>\n",
       "      <th>is_Wednesday_(day_of_the_week)</th>\n",
       "      <th>is_2_(vendor_id)</th>\n",
       "      <th>is_1_(vendor_id)</th>\n",
       "      <th>is_Manhattan_(pickup_boro)</th>\n",
       "      <th>is_Brooklyn_(pickup_boro)</th>\n",
       "      <th>is_Queens_(pickup_boro)</th>\n",
       "      <th>is_Bronx_(pickup_boro)</th>\n",
       "      <th>is_other_(pickup_boro)</th>\n",
       "      <th>is_Staten Island_(pickup_boro)</th>\n",
       "      <th>is_Manhattan_(dropoff_boro)</th>\n",
       "      <th>is_Brooklyn_(dropoff_boro)</th>\n",
       "      <th>is_Queens_(dropoff_boro)</th>\n",
       "      <th>is_Bronx_(dropoff_boro)</th>\n",
       "      <th>is_other_(dropoff_boro)</th>\n",
       "      <th>is_Staten Island_(dropoff_boro)</th>\n",
       "    </tr>\n",
       "  </thead>\n",
       "  <tbody>\n",
       "    <tr>\n",
       "      <th>1350369</th>\n",
       "      <td>id1558311</td>\n",
       "      <td>1</td>\n",
       "      <td>-74.004364</td>\n",
       "      <td>40.721954</td>\n",
       "      <td>-73.992821</td>\n",
       "      <td>40.737339</td>\n",
       "      <td>0</td>\n",
       "      <td>349</td>\n",
       "      <td>1.222336</td>\n",
       "      <td>0</td>\n",
       "      <td>0</td>\n",
       "      <td>0</td>\n",
       "      <td>1</td>\n",
       "      <td>1</td>\n",
       "      <td>1</td>\n",
       "      <td>3</td>\n",
       "      <td>0</td>\n",
       "      <td>1</td>\n",
       "      <td>0</td>\n",
       "      <td>0</td>\n",
       "      <td>42</td>\n",
       "      <td>0</td>\n",
       "      <td>1</td>\n",
       "      <td>0</td>\n",
       "      <td>0</td>\n",
       "      <td>0</td>\n",
       "      <td>0</td>\n",
       "      <td>0</td>\n",
       "      <td>0</td>\n",
       "      <td>0</td>\n",
       "      <td>1</td>\n",
       "      <td>1</td>\n",
       "      <td>0</td>\n",
       "      <td>0</td>\n",
       "      <td>0</td>\n",
       "      <td>0</td>\n",
       "      <td>0</td>\n",
       "      <td>1</td>\n",
       "      <td>0</td>\n",
       "      <td>0</td>\n",
       "      <td>0</td>\n",
       "      <td>0</td>\n",
       "      <td>0</td>\n",
       "    </tr>\n",
       "    <tr>\n",
       "      <th>1350340</th>\n",
       "      <td>id3967999</td>\n",
       "      <td>1</td>\n",
       "      <td>-73.992325</td>\n",
       "      <td>40.769135</td>\n",
       "      <td>-73.988953</td>\n",
       "      <td>40.726994</td>\n",
       "      <td>0</td>\n",
       "      <td>972</td>\n",
       "      <td>2.913219</td>\n",
       "      <td>0</td>\n",
       "      <td>0</td>\n",
       "      <td>0</td>\n",
       "      <td>1</td>\n",
       "      <td>1</td>\n",
       "      <td>1</td>\n",
       "      <td>4</td>\n",
       "      <td>0</td>\n",
       "      <td>1</td>\n",
       "      <td>0</td>\n",
       "      <td>0</td>\n",
       "      <td>43</td>\n",
       "      <td>0</td>\n",
       "      <td>1</td>\n",
       "      <td>0</td>\n",
       "      <td>0</td>\n",
       "      <td>0</td>\n",
       "      <td>0</td>\n",
       "      <td>0</td>\n",
       "      <td>0</td>\n",
       "      <td>1</td>\n",
       "      <td>0</td>\n",
       "      <td>1</td>\n",
       "      <td>0</td>\n",
       "      <td>0</td>\n",
       "      <td>0</td>\n",
       "      <td>0</td>\n",
       "      <td>0</td>\n",
       "      <td>1</td>\n",
       "      <td>0</td>\n",
       "      <td>0</td>\n",
       "      <td>0</td>\n",
       "      <td>0</td>\n",
       "      <td>0</td>\n",
       "    </tr>\n",
       "    <tr>\n",
       "      <th>1350045</th>\n",
       "      <td>id0875526</td>\n",
       "      <td>1</td>\n",
       "      <td>-73.963486</td>\n",
       "      <td>40.675667</td>\n",
       "      <td>-73.984970</td>\n",
       "      <td>40.663467</td>\n",
       "      <td>0</td>\n",
       "      <td>620</td>\n",
       "      <td>1.408094</td>\n",
       "      <td>0</td>\n",
       "      <td>0</td>\n",
       "      <td>0</td>\n",
       "      <td>1</td>\n",
       "      <td>1</td>\n",
       "      <td>1</td>\n",
       "      <td>3</td>\n",
       "      <td>0</td>\n",
       "      <td>1</td>\n",
       "      <td>0</td>\n",
       "      <td>0</td>\n",
       "      <td>32</td>\n",
       "      <td>0</td>\n",
       "      <td>1</td>\n",
       "      <td>0</td>\n",
       "      <td>0</td>\n",
       "      <td>0</td>\n",
       "      <td>0</td>\n",
       "      <td>0</td>\n",
       "      <td>0</td>\n",
       "      <td>0</td>\n",
       "      <td>1</td>\n",
       "      <td>0</td>\n",
       "      <td>1</td>\n",
       "      <td>0</td>\n",
       "      <td>0</td>\n",
       "      <td>0</td>\n",
       "      <td>0</td>\n",
       "      <td>0</td>\n",
       "      <td>1</td>\n",
       "      <td>0</td>\n",
       "      <td>0</td>\n",
       "      <td>0</td>\n",
       "      <td>0</td>\n",
       "    </tr>\n",
       "    <tr>\n",
       "      <th>1349810</th>\n",
       "      <td>id2792877</td>\n",
       "      <td>1</td>\n",
       "      <td>-73.870743</td>\n",
       "      <td>40.773609</td>\n",
       "      <td>-73.976357</td>\n",
       "      <td>40.744122</td>\n",
       "      <td>0</td>\n",
       "      <td>791</td>\n",
       "      <td>5.903221</td>\n",
       "      <td>1</td>\n",
       "      <td>0</td>\n",
       "      <td>0</td>\n",
       "      <td>1</td>\n",
       "      <td>1</td>\n",
       "      <td>1</td>\n",
       "      <td>14</td>\n",
       "      <td>1</td>\n",
       "      <td>0</td>\n",
       "      <td>0</td>\n",
       "      <td>0</td>\n",
       "      <td>23</td>\n",
       "      <td>0</td>\n",
       "      <td>1</td>\n",
       "      <td>0</td>\n",
       "      <td>0</td>\n",
       "      <td>0</td>\n",
       "      <td>0</td>\n",
       "      <td>0</td>\n",
       "      <td>0</td>\n",
       "      <td>1</td>\n",
       "      <td>0</td>\n",
       "      <td>0</td>\n",
       "      <td>0</td>\n",
       "      <td>1</td>\n",
       "      <td>0</td>\n",
       "      <td>0</td>\n",
       "      <td>0</td>\n",
       "      <td>1</td>\n",
       "      <td>0</td>\n",
       "      <td>0</td>\n",
       "      <td>0</td>\n",
       "      <td>0</td>\n",
       "      <td>0</td>\n",
       "    </tr>\n",
       "    <tr>\n",
       "      <th>1349587</th>\n",
       "      <td>id2873495</td>\n",
       "      <td>1</td>\n",
       "      <td>-73.972702</td>\n",
       "      <td>40.793411</td>\n",
       "      <td>-73.982178</td>\n",
       "      <td>40.769554</td>\n",
       "      <td>0</td>\n",
       "      <td>493</td>\n",
       "      <td>1.719606</td>\n",
       "      <td>0</td>\n",
       "      <td>0</td>\n",
       "      <td>0</td>\n",
       "      <td>1</td>\n",
       "      <td>1</td>\n",
       "      <td>1</td>\n",
       "      <td>10</td>\n",
       "      <td>1</td>\n",
       "      <td>0</td>\n",
       "      <td>0</td>\n",
       "      <td>1</td>\n",
       "      <td>36</td>\n",
       "      <td>0</td>\n",
       "      <td>1</td>\n",
       "      <td>0</td>\n",
       "      <td>0</td>\n",
       "      <td>0</td>\n",
       "      <td>0</td>\n",
       "      <td>0</td>\n",
       "      <td>0</td>\n",
       "      <td>0</td>\n",
       "      <td>1</td>\n",
       "      <td>1</td>\n",
       "      <td>0</td>\n",
       "      <td>0</td>\n",
       "      <td>0</td>\n",
       "      <td>0</td>\n",
       "      <td>0</td>\n",
       "      <td>1</td>\n",
       "      <td>0</td>\n",
       "      <td>0</td>\n",
       "      <td>0</td>\n",
       "      <td>0</td>\n",
       "      <td>0</td>\n",
       "    </tr>\n",
       "    <tr>\n",
       "      <th>...</th>\n",
       "      <td>...</td>\n",
       "      <td>...</td>\n",
       "      <td>...</td>\n",
       "      <td>...</td>\n",
       "      <td>...</td>\n",
       "      <td>...</td>\n",
       "      <td>...</td>\n",
       "      <td>...</td>\n",
       "      <td>...</td>\n",
       "      <td>...</td>\n",
       "      <td>...</td>\n",
       "      <td>...</td>\n",
       "      <td>...</td>\n",
       "      <td>...</td>\n",
       "      <td>...</td>\n",
       "      <td>...</td>\n",
       "      <td>...</td>\n",
       "      <td>...</td>\n",
       "      <td>...</td>\n",
       "      <td>...</td>\n",
       "      <td>...</td>\n",
       "      <td>...</td>\n",
       "      <td>...</td>\n",
       "      <td>...</td>\n",
       "      <td>...</td>\n",
       "      <td>...</td>\n",
       "      <td>...</td>\n",
       "      <td>...</td>\n",
       "      <td>...</td>\n",
       "      <td>...</td>\n",
       "      <td>...</td>\n",
       "      <td>...</td>\n",
       "      <td>...</td>\n",
       "      <td>...</td>\n",
       "      <td>...</td>\n",
       "      <td>...</td>\n",
       "      <td>...</td>\n",
       "      <td>...</td>\n",
       "      <td>...</td>\n",
       "      <td>...</td>\n",
       "      <td>...</td>\n",
       "      <td>...</td>\n",
       "      <td>...</td>\n",
       "    </tr>\n",
       "    <tr>\n",
       "      <th>308888</th>\n",
       "      <td>id2694311</td>\n",
       "      <td>1</td>\n",
       "      <td>-73.969849</td>\n",
       "      <td>40.759747</td>\n",
       "      <td>-73.987503</td>\n",
       "      <td>40.740864</td>\n",
       "      <td>0</td>\n",
       "      <td>1112</td>\n",
       "      <td>1.598745</td>\n",
       "      <td>0</td>\n",
       "      <td>0</td>\n",
       "      <td>0</td>\n",
       "      <td>6</td>\n",
       "      <td>30</td>\n",
       "      <td>0</td>\n",
       "      <td>19</td>\n",
       "      <td>1</td>\n",
       "      <td>0</td>\n",
       "      <td>0</td>\n",
       "      <td>0</td>\n",
       "      <td>38</td>\n",
       "      <td>181</td>\n",
       "      <td>0</td>\n",
       "      <td>0</td>\n",
       "      <td>0</td>\n",
       "      <td>0</td>\n",
       "      <td>0</td>\n",
       "      <td>0</td>\n",
       "      <td>1</td>\n",
       "      <td>1</td>\n",
       "      <td>0</td>\n",
       "      <td>1</td>\n",
       "      <td>0</td>\n",
       "      <td>0</td>\n",
       "      <td>0</td>\n",
       "      <td>0</td>\n",
       "      <td>0</td>\n",
       "      <td>1</td>\n",
       "      <td>0</td>\n",
       "      <td>0</td>\n",
       "      <td>0</td>\n",
       "      <td>0</td>\n",
       "      <td>0</td>\n",
       "    </tr>\n",
       "    <tr>\n",
       "      <th>268669</th>\n",
       "      <td>id2284700</td>\n",
       "      <td>1</td>\n",
       "      <td>-73.996315</td>\n",
       "      <td>40.743385</td>\n",
       "      <td>-73.991180</td>\n",
       "      <td>40.717319</td>\n",
       "      <td>0</td>\n",
       "      <td>1705</td>\n",
       "      <td>1.818688</td>\n",
       "      <td>0</td>\n",
       "      <td>0</td>\n",
       "      <td>0</td>\n",
       "      <td>6</td>\n",
       "      <td>30</td>\n",
       "      <td>0</td>\n",
       "      <td>19</td>\n",
       "      <td>1</td>\n",
       "      <td>0</td>\n",
       "      <td>0</td>\n",
       "      <td>0</td>\n",
       "      <td>43</td>\n",
       "      <td>181</td>\n",
       "      <td>0</td>\n",
       "      <td>0</td>\n",
       "      <td>0</td>\n",
       "      <td>0</td>\n",
       "      <td>0</td>\n",
       "      <td>0</td>\n",
       "      <td>1</td>\n",
       "      <td>0</td>\n",
       "      <td>1</td>\n",
       "      <td>1</td>\n",
       "      <td>0</td>\n",
       "      <td>0</td>\n",
       "      <td>0</td>\n",
       "      <td>0</td>\n",
       "      <td>0</td>\n",
       "      <td>1</td>\n",
       "      <td>0</td>\n",
       "      <td>0</td>\n",
       "      <td>0</td>\n",
       "      <td>0</td>\n",
       "      <td>0</td>\n",
       "    </tr>\n",
       "    <tr>\n",
       "      <th>1396789</th>\n",
       "      <td>id3899436</td>\n",
       "      <td>1</td>\n",
       "      <td>-73.870796</td>\n",
       "      <td>40.773602</td>\n",
       "      <td>-73.898109</td>\n",
       "      <td>40.743408</td>\n",
       "      <td>0</td>\n",
       "      <td>1194</td>\n",
       "      <td>2.528728</td>\n",
       "      <td>0</td>\n",
       "      <td>0</td>\n",
       "      <td>0</td>\n",
       "      <td>6</td>\n",
       "      <td>30</td>\n",
       "      <td>0</td>\n",
       "      <td>6</td>\n",
       "      <td>1</td>\n",
       "      <td>0</td>\n",
       "      <td>0</td>\n",
       "      <td>1</td>\n",
       "      <td>12</td>\n",
       "      <td>181</td>\n",
       "      <td>0</td>\n",
       "      <td>0</td>\n",
       "      <td>0</td>\n",
       "      <td>0</td>\n",
       "      <td>0</td>\n",
       "      <td>0</td>\n",
       "      <td>1</td>\n",
       "      <td>1</td>\n",
       "      <td>0</td>\n",
       "      <td>0</td>\n",
       "      <td>0</td>\n",
       "      <td>1</td>\n",
       "      <td>0</td>\n",
       "      <td>0</td>\n",
       "      <td>0</td>\n",
       "      <td>0</td>\n",
       "      <td>0</td>\n",
       "      <td>1</td>\n",
       "      <td>0</td>\n",
       "      <td>0</td>\n",
       "      <td>0</td>\n",
       "    </tr>\n",
       "    <tr>\n",
       "      <th>589327</th>\n",
       "      <td>id1965209</td>\n",
       "      <td>2</td>\n",
       "      <td>-73.984352</td>\n",
       "      <td>40.759190</td>\n",
       "      <td>-73.979492</td>\n",
       "      <td>40.787010</td>\n",
       "      <td>0</td>\n",
       "      <td>1386</td>\n",
       "      <td>1.936558</td>\n",
       "      <td>0</td>\n",
       "      <td>0</td>\n",
       "      <td>0</td>\n",
       "      <td>6</td>\n",
       "      <td>30</td>\n",
       "      <td>0</td>\n",
       "      <td>17</td>\n",
       "      <td>1</td>\n",
       "      <td>0</td>\n",
       "      <td>0</td>\n",
       "      <td>1</td>\n",
       "      <td>32</td>\n",
       "      <td>181</td>\n",
       "      <td>0</td>\n",
       "      <td>0</td>\n",
       "      <td>0</td>\n",
       "      <td>0</td>\n",
       "      <td>0</td>\n",
       "      <td>0</td>\n",
       "      <td>1</td>\n",
       "      <td>1</td>\n",
       "      <td>0</td>\n",
       "      <td>1</td>\n",
       "      <td>0</td>\n",
       "      <td>0</td>\n",
       "      <td>0</td>\n",
       "      <td>0</td>\n",
       "      <td>0</td>\n",
       "      <td>1</td>\n",
       "      <td>0</td>\n",
       "      <td>0</td>\n",
       "      <td>0</td>\n",
       "      <td>0</td>\n",
       "      <td>0</td>\n",
       "    </tr>\n",
       "    <tr>\n",
       "      <th>909549</th>\n",
       "      <td>id3756754</td>\n",
       "      <td>2</td>\n",
       "      <td>-74.004280</td>\n",
       "      <td>40.742317</td>\n",
       "      <td>-73.994797</td>\n",
       "      <td>40.750111</td>\n",
       "      <td>0</td>\n",
       "      <td>237</td>\n",
       "      <td>0.732719</td>\n",
       "      <td>0</td>\n",
       "      <td>0</td>\n",
       "      <td>0</td>\n",
       "      <td>6</td>\n",
       "      <td>30</td>\n",
       "      <td>0</td>\n",
       "      <td>20</td>\n",
       "      <td>1</td>\n",
       "      <td>0</td>\n",
       "      <td>0</td>\n",
       "      <td>0</td>\n",
       "      <td>59</td>\n",
       "      <td>181</td>\n",
       "      <td>0</td>\n",
       "      <td>0</td>\n",
       "      <td>0</td>\n",
       "      <td>0</td>\n",
       "      <td>0</td>\n",
       "      <td>0</td>\n",
       "      <td>1</td>\n",
       "      <td>0</td>\n",
       "      <td>1</td>\n",
       "      <td>1</td>\n",
       "      <td>0</td>\n",
       "      <td>0</td>\n",
       "      <td>0</td>\n",
       "      <td>0</td>\n",
       "      <td>0</td>\n",
       "      <td>1</td>\n",
       "      <td>0</td>\n",
       "      <td>0</td>\n",
       "      <td>0</td>\n",
       "      <td>0</td>\n",
       "      <td>0</td>\n",
       "    </tr>\n",
       "  </tbody>\n",
       "</table>\n",
       "<p>1429538 rows × 43 columns</p>\n",
       "</div>"
      ],
      "text/plain": [
       "                id  passenger_count  pickup_longitude  pickup_latitude  \\\n",
       "1350369  id1558311                1        -74.004364        40.721954   \n",
       "1350340  id3967999                1        -73.992325        40.769135   \n",
       "1350045  id0875526                1        -73.963486        40.675667   \n",
       "1349810  id2792877                1        -73.870743        40.773609   \n",
       "1349587  id2873495                1        -73.972702        40.793411   \n",
       "...            ...              ...               ...              ...   \n",
       "308888   id2694311                1        -73.969849        40.759747   \n",
       "268669   id2284700                1        -73.996315        40.743385   \n",
       "1396789  id3899436                1        -73.870796        40.773602   \n",
       "589327   id1965209                2        -73.984352        40.759190   \n",
       "909549   id3756754                2        -74.004280        40.742317   \n",
       "\n",
       "         dropoff_longitude  dropoff_latitude  store_and_fwd_flag  \\\n",
       "1350369         -73.992821         40.737339                   0   \n",
       "1350340         -73.988953         40.726994                   0   \n",
       "1350045         -73.984970         40.663467                   0   \n",
       "1349810         -73.976357         40.744122                   0   \n",
       "1349587         -73.982178         40.769554                   0   \n",
       "...                    ...               ...                 ...   \n",
       "308888          -73.987503         40.740864                   0   \n",
       "268669          -73.991180         40.717319                   0   \n",
       "1396789         -73.898109         40.743408                   0   \n",
       "589327          -73.979492         40.787010                   0   \n",
       "909549          -73.994797         40.750111                   0   \n",
       "\n",
       "         trip_duration  distance  boarder_cross  from_outside  to_outside  \\\n",
       "1350369            349  1.222336              0             0           0   \n",
       "1350340            972  2.913219              0             0           0   \n",
       "1350045            620  1.408094              0             0           0   \n",
       "1349810            791  5.903221              1             0           0   \n",
       "1349587            493  1.719606              0             0           0   \n",
       "...                ...       ...            ...           ...         ...   \n",
       "308888            1112  1.598745              0             0           0   \n",
       "268669            1705  1.818688              0             0           0   \n",
       "1396789           1194  2.528728              0             0           0   \n",
       "589327            1386  1.936558              0             0           0   \n",
       "909549             237  0.732719              0             0           0   \n",
       "\n",
       "         month  day  is_holiday  full_hour  is_day  is_night  is_weekend  \\\n",
       "1350369      1    1           1          3       0         1           0   \n",
       "1350340      1    1           1          4       0         1           0   \n",
       "1350045      1    1           1          3       0         1           0   \n",
       "1349810      1    1           1         14       1         0           0   \n",
       "1349587      1    1           1         10       1         0           0   \n",
       "...        ...  ...         ...        ...     ...       ...         ...   \n",
       "308888       6   30           0         19       1         0           0   \n",
       "268669       6   30           0         19       1         0           0   \n",
       "1396789      6   30           0          6       1         0           0   \n",
       "589327       6   30           0         17       1         0           0   \n",
       "909549       6   30           0         20       1         0           0   \n",
       "\n",
       "         is_heavy_rush  minute  day_of_the_year  \\\n",
       "1350369              0      42                0   \n",
       "1350340              0      43                0   \n",
       "1350045              0      32                0   \n",
       "1349810              0      23                0   \n",
       "1349587              1      36                0   \n",
       "...                ...     ...              ...   \n",
       "308888               0      38              181   \n",
       "268669               0      43              181   \n",
       "1396789              1      12              181   \n",
       "589327               1      32              181   \n",
       "909549               0      59              181   \n",
       "\n",
       "         is_Thursday_(day_of_the_week)  is_Friday_(day_of_the_week)  \\\n",
       "1350369                              1                            0   \n",
       "1350340                              1                            0   \n",
       "1350045                              1                            0   \n",
       "1349810                              1                            0   \n",
       "1349587                              1                            0   \n",
       "...                                ...                          ...   \n",
       "308888                               0                            0   \n",
       "268669                               0                            0   \n",
       "1396789                              0                            0   \n",
       "589327                               0                            0   \n",
       "909549                               0                            0   \n",
       "\n",
       "         is_Saturday_(day_of_the_week)  is_Sunday_(day_of_the_week)  \\\n",
       "1350369                              0                            0   \n",
       "1350340                              0                            0   \n",
       "1350045                              0                            0   \n",
       "1349810                              0                            0   \n",
       "1349587                              0                            0   \n",
       "...                                ...                          ...   \n",
       "308888                               0                            0   \n",
       "268669                               0                            0   \n",
       "1396789                              0                            0   \n",
       "589327                               0                            0   \n",
       "909549                               0                            0   \n",
       "\n",
       "         is_Monday_(day_of_the_week)  is_Tuesday_(day_of_the_week)  \\\n",
       "1350369                            0                             0   \n",
       "1350340                            0                             0   \n",
       "1350045                            0                             0   \n",
       "1349810                            0                             0   \n",
       "1349587                            0                             0   \n",
       "...                              ...                           ...   \n",
       "308888                             0                             0   \n",
       "268669                             0                             0   \n",
       "1396789                            0                             0   \n",
       "589327                             0                             0   \n",
       "909549                             0                             0   \n",
       "\n",
       "         is_Wednesday_(day_of_the_week)  is_2_(vendor_id)  is_1_(vendor_id)  \\\n",
       "1350369                               0                 0                 1   \n",
       "1350340                               0                 1                 0   \n",
       "1350045                               0                 0                 1   \n",
       "1349810                               0                 1                 0   \n",
       "1349587                               0                 0                 1   \n",
       "...                                 ...               ...               ...   \n",
       "308888                                1                 1                 0   \n",
       "268669                                1                 0                 1   \n",
       "1396789                               1                 1                 0   \n",
       "589327                                1                 1                 0   \n",
       "909549                                1                 0                 1   \n",
       "\n",
       "         is_Manhattan_(pickup_boro)  is_Brooklyn_(pickup_boro)  \\\n",
       "1350369                           1                          0   \n",
       "1350340                           1                          0   \n",
       "1350045                           0                          1   \n",
       "1349810                           0                          0   \n",
       "1349587                           1                          0   \n",
       "...                             ...                        ...   \n",
       "308888                            1                          0   \n",
       "268669                            1                          0   \n",
       "1396789                           0                          0   \n",
       "589327                            1                          0   \n",
       "909549                            1                          0   \n",
       "\n",
       "         is_Queens_(pickup_boro)  is_Bronx_(pickup_boro)  \\\n",
       "1350369                        0                       0   \n",
       "1350340                        0                       0   \n",
       "1350045                        0                       0   \n",
       "1349810                        1                       0   \n",
       "1349587                        0                       0   \n",
       "...                          ...                     ...   \n",
       "308888                         0                       0   \n",
       "268669                         0                       0   \n",
       "1396789                        1                       0   \n",
       "589327                         0                       0   \n",
       "909549                         0                       0   \n",
       "\n",
       "         is_other_(pickup_boro)  is_Staten Island_(pickup_boro)  \\\n",
       "1350369                       0                               0   \n",
       "1350340                       0                               0   \n",
       "1350045                       0                               0   \n",
       "1349810                       0                               0   \n",
       "1349587                       0                               0   \n",
       "...                         ...                             ...   \n",
       "308888                        0                               0   \n",
       "268669                        0                               0   \n",
       "1396789                       0                               0   \n",
       "589327                        0                               0   \n",
       "909549                        0                               0   \n",
       "\n",
       "         is_Manhattan_(dropoff_boro)  is_Brooklyn_(dropoff_boro)  \\\n",
       "1350369                            1                           0   \n",
       "1350340                            1                           0   \n",
       "1350045                            0                           1   \n",
       "1349810                            1                           0   \n",
       "1349587                            1                           0   \n",
       "...                              ...                         ...   \n",
       "308888                             1                           0   \n",
       "268669                             1                           0   \n",
       "1396789                            0                           0   \n",
       "589327                             1                           0   \n",
       "909549                             1                           0   \n",
       "\n",
       "         is_Queens_(dropoff_boro)  is_Bronx_(dropoff_boro)  \\\n",
       "1350369                         0                        0   \n",
       "1350340                         0                        0   \n",
       "1350045                         0                        0   \n",
       "1349810                         0                        0   \n",
       "1349587                         0                        0   \n",
       "...                           ...                      ...   \n",
       "308888                          0                        0   \n",
       "268669                          0                        0   \n",
       "1396789                         1                        0   \n",
       "589327                          0                        0   \n",
       "909549                          0                        0   \n",
       "\n",
       "         is_other_(dropoff_boro)  is_Staten Island_(dropoff_boro)  \n",
       "1350369                        0                                0  \n",
       "1350340                        0                                0  \n",
       "1350045                        0                                0  \n",
       "1349810                        0                                0  \n",
       "1349587                        0                                0  \n",
       "...                          ...                              ...  \n",
       "308888                         0                                0  \n",
       "268669                         0                                0  \n",
       "1396789                        0                                0  \n",
       "589327                         0                                0  \n",
       "909549                         0                                0  \n",
       "\n",
       "[1429538 rows x 43 columns]"
      ]
     },
     "execution_count": 401,
     "metadata": {},
     "output_type": "execute_result"
    }
   ],
   "source": [
    "train"
   ]
  },
  {
   "cell_type": "code",
   "execution_count": 400,
   "metadata": {},
   "outputs": [],
   "source": [
    "csv = train.to_csv('/Users/alexdrozdz/JupyterNotebook/New_York_City_Taxis/train_processed.csv')\n",
    "csv = test.to_csv('/Users/alexdrozdz/JupyterNotebook/New_York_City_Taxis/test_processed.csv')"
   ]
  },
  {
   "cell_type": "code",
   "execution_count": null,
   "metadata": {},
   "outputs": [],
   "source": []
  },
  {
   "cell_type": "code",
   "execution_count": null,
   "metadata": {},
   "outputs": [],
   "source": []
  }
 ],
 "metadata": {
  "kernelspec": {
   "display_name": "Python 3",
   "language": "python",
   "name": "python3"
  },
  "language_info": {
   "codemirror_mode": {
    "name": "ipython",
    "version": 3
   },
   "file_extension": ".py",
   "mimetype": "text/x-python",
   "name": "python",
   "nbconvert_exporter": "python",
   "pygments_lexer": "ipython3",
   "version": "3.8.5"
  },
  "widgets": {
   "application/vnd.jupyter.widget-state+json": {
    "state": {
     "005de82032ff4cce8cdac374b2e2e97c": {
      "model_module": "@jupyter-widgets/base",
      "model_module_version": "1.2.0",
      "model_name": "LayoutModel",
      "state": {}
     },
     "0276d782a27d49c5b16d0f678ab79f78": {
      "model_module": "@jupyter-widgets/base",
      "model_module_version": "1.2.0",
      "model_name": "LayoutModel",
      "state": {}
     },
     "0472a6753d79455ca852da05d6e3b5d3": {
      "model_module": "@jupyter-widgets/controls",
      "model_module_version": "1.5.0",
      "model_name": "HTMLModel",
      "state": {
       "layout": "IPY_MODEL_a60c36cc35284a5baa672135d8bc2b67",
       "style": "IPY_MODEL_836a51e5c12e4832816b9cfc28b357b5",
       "value": " 2054672/2054672 [00:01&lt;00:00, 1257052.24it/s]"
      }
     },
     "04ff853164624f1cae394e3f5675ddef": {
      "model_module": "@jupyter-widgets/base",
      "model_module_version": "1.2.0",
      "model_name": "LayoutModel",
      "state": {}
     },
     "05c59b873d994addbd39283c249685ec": {
      "model_module": "@jupyter-widgets/controls",
      "model_module_version": "1.5.0",
      "model_name": "HTMLModel",
      "state": {
       "layout": "IPY_MODEL_0276d782a27d49c5b16d0f678ab79f78",
       "style": "IPY_MODEL_faeba4112ac24405aee295ef64ef713f",
       "value": " 4/4 [2:01:57&lt;00:00, 1829.36s/it]"
      }
     },
     "071851b3afe6406ebd9b2a7e9f5df1d4": {
      "model_module": "@jupyter-widgets/controls",
      "model_module_version": "1.5.0",
      "model_name": "HBoxModel",
      "state": {
       "children": [
        "IPY_MODEL_e8bd59255f3d478e89d4576304d0db02",
        "IPY_MODEL_9f85d311407e4507b2da3780bf69377e"
       ],
       "layout": "IPY_MODEL_bb5c1d46231a490c8834ea17639037fc"
      }
     },
     "07d3e3b1c8e64e95af8361026142350e": {
      "model_module": "@jupyter-widgets/base",
      "model_module_version": "1.2.0",
      "model_name": "LayoutModel",
      "state": {}
     },
     "07f75920cc8b4cf9ac4a963bbce71ce6": {
      "model_module": "@jupyter-widgets/controls",
      "model_module_version": "1.5.0",
      "model_name": "ProgressStyleModel",
      "state": {
       "description_width": "initial"
      }
     },
     "09784a794721466c8e6ef23c28b8703d": {
      "model_module": "@jupyter-widgets/controls",
      "model_module_version": "1.5.0",
      "model_name": "ProgressStyleModel",
      "state": {
       "description_width": "initial"
      }
     },
     "0a36f41ad2ee4f98a5f148cc1c81653d": {
      "model_module": "@jupyter-widgets/controls",
      "model_module_version": "1.5.0",
      "model_name": "HBoxModel",
      "state": {
       "children": [
        "IPY_MODEL_231870274d9d41ac9925f5e55c4dca98",
        "IPY_MODEL_b3f21ba5b82845fa862a0fd95f7bd96c"
       ],
       "layout": "IPY_MODEL_f520950e378a42839dae863cc562c3b0"
      }
     },
     "0a878bd2b1984493ad4426d8070dd7b0": {
      "model_module": "@jupyter-widgets/controls",
      "model_module_version": "1.5.0",
      "model_name": "ProgressStyleModel",
      "state": {
       "description_width": "initial"
      }
     },
     "0aae0c2d8f7142a1b190812e1f7fe091": {
      "model_module": "@jupyter-widgets/base",
      "model_module_version": "1.2.0",
      "model_name": "LayoutModel",
      "state": {}
     },
     "0b29c988f0b543f789ee65133d8bc63e": {
      "model_module": "@jupyter-widgets/controls",
      "model_module_version": "1.5.0",
      "model_name": "HBoxModel",
      "state": {
       "children": [
        "IPY_MODEL_da815128c61d49e4a53be0fb01b8ce4b",
        "IPY_MODEL_53d88274546a447d9397f4dbb137c1d0"
       ],
       "layout": "IPY_MODEL_7d0f58a40acd40aa87a7ca6b68142387"
      }
     },
     "0c2a47d31e3d4c59995aca1073d17081": {
      "model_module": "@jupyter-widgets/base",
      "model_module_version": "1.2.0",
      "model_name": "LayoutModel",
      "state": {}
     },
     "0c5674a2292f457cac2af3da0d229539": {
      "model_module": "@jupyter-widgets/base",
      "model_module_version": "1.2.0",
      "model_name": "LayoutModel",
      "state": {}
     },
     "0ce4ced0923f45aa81eda4a8cc3d967b": {
      "model_module": "@jupyter-widgets/base",
      "model_module_version": "1.2.0",
      "model_name": "LayoutModel",
      "state": {}
     },
     "0e3ef5e974b74b5a9a5b0b17a2242316": {
      "model_module": "@jupyter-widgets/base",
      "model_module_version": "1.2.0",
      "model_name": "LayoutModel",
      "state": {}
     },
     "0e789906afe34e7e8f8c2081708f2e7f": {
      "model_module": "@jupyter-widgets/controls",
      "model_module_version": "1.5.0",
      "model_name": "HBoxModel",
      "state": {
       "children": [
        "IPY_MODEL_d784fd20bd6640398c64526ece66adc5",
        "IPY_MODEL_3fc1a8668d5347cb919c7b152e74ec08"
       ],
       "layout": "IPY_MODEL_fd174c3fbb7c4bad9c3ed8064805e4ff"
      }
     },
     "1066c035dfe4444d803bc8a554298632": {
      "model_module": "@jupyter-widgets/controls",
      "model_module_version": "1.5.0",
      "model_name": "ProgressStyleModel",
      "state": {
       "description_width": "initial"
      }
     },
     "1067e63fa1244b6ab7cf5147d330fe82": {
      "model_module": "@jupyter-widgets/controls",
      "model_module_version": "1.5.0",
      "model_name": "FloatProgressModel",
      "state": {
       "bar_style": "success",
       "description": "100%",
       "layout": "IPY_MODEL_27b1f8b2c9364d51b547a4eb4d772dc0",
       "max": 2054672,
       "style": "IPY_MODEL_d1af841ef8164158898b03c3d7a6f32e",
       "value": 2054672
      }
     },
     "156d1e95b16043f48f6c1758d480ac30": {
      "model_module": "@jupyter-widgets/controls",
      "model_module_version": "1.5.0",
      "model_name": "HBoxModel",
      "state": {
       "children": [
        "IPY_MODEL_1bc19f4e30ff49629e24720a334cfa37",
        "IPY_MODEL_7bf502987d4345be9fdc5b5a8c38db8d"
       ],
       "layout": "IPY_MODEL_39688f78826b451fb3590bb0251fe57d"
      }
     },
     "169583082fce45358ce63e806d0c692a": {
      "model_module": "@jupyter-widgets/controls",
      "model_module_version": "1.5.0",
      "model_name": "HBoxModel",
      "state": {
       "children": [
        "IPY_MODEL_1067e63fa1244b6ab7cf5147d330fe82",
        "IPY_MODEL_450ebeed122d4dc29247abb130cc6250"
       ],
       "layout": "IPY_MODEL_0c2a47d31e3d4c59995aca1073d17081"
      }
     },
     "16c563744ac445d7966f74d6d6714e0e": {
      "model_module": "@jupyter-widgets/controls",
      "model_module_version": "1.5.0",
      "model_name": "DescriptionStyleModel",
      "state": {
       "description_width": ""
      }
     },
     "17e64b0f91884026a617f325dc1521cf": {
      "model_module": "@jupyter-widgets/controls",
      "model_module_version": "1.5.0",
      "model_name": "ProgressStyleModel",
      "state": {
       "description_width": "initial"
      }
     },
     "191ac9dffbae41748a34f11d5cbee5fd": {
      "model_module": "@jupyter-widgets/controls",
      "model_module_version": "1.5.0",
      "model_name": "HTMLModel",
      "state": {
       "layout": "IPY_MODEL_984667e780e942dd82e702273c5e5f88",
       "style": "IPY_MODEL_91332a2c069a45d591b1b9f19c9b1716",
       "value": " 2054672/2054672 [00:05&lt;00:00, 402289.28it/s]"
      }
     },
     "19f6ab477d664200bd31136b9edc9829": {
      "model_module": "@jupyter-widgets/base",
      "model_module_version": "1.2.0",
      "model_name": "LayoutModel",
      "state": {}
     },
     "1a2d8531d83a416c9bfdfb7012e299bc": {
      "model_module": "@jupyter-widgets/controls",
      "model_module_version": "1.5.0",
      "model_name": "DescriptionStyleModel",
      "state": {
       "description_width": ""
      }
     },
     "1b35f68784094ac5ad714d7d978cc36a": {
      "model_module": "@jupyter-widgets/controls",
      "model_module_version": "1.5.0",
      "model_name": "HTMLModel",
      "state": {
       "layout": "IPY_MODEL_42d9adf5a36f4183860f875805966f6c",
       "style": "IPY_MODEL_57884d823e7d429682d94b8209a9090b",
       "value": " 2054672/2054672 [00:03&lt;00:00, 539397.14it/s]"
      }
     },
     "1bc19f4e30ff49629e24720a334cfa37": {
      "model_module": "@jupyter-widgets/controls",
      "model_module_version": "1.5.0",
      "model_name": "FloatProgressModel",
      "state": {
       "bar_style": "success",
       "description": "100%",
       "layout": "IPY_MODEL_339fb69610494be18156975bf2747fcd",
       "max": 2054672,
       "style": "IPY_MODEL_9a5f924cd110457299bf206e8b86a9ca",
       "value": 2054672
      }
     },
     "1bcf39604eba4a0592e9633df55eb906": {
      "model_module": "@jupyter-widgets/base",
      "model_module_version": "1.2.0",
      "model_name": "LayoutModel",
      "state": {}
     },
     "1d57d1a791dd480db30c69ef7097cf8e": {
      "model_module": "@jupyter-widgets/base",
      "model_module_version": "1.2.0",
      "model_name": "LayoutModel",
      "state": {}
     },
     "1d729f6447e94b258a71658f57026e33": {
      "model_module": "@jupyter-widgets/controls",
      "model_module_version": "1.5.0",
      "model_name": "ProgressStyleModel",
      "state": {
       "description_width": "initial"
      }
     },
     "1e364d1ae8d544308644a833274bb497": {
      "model_module": "@jupyter-widgets/base",
      "model_module_version": "1.2.0",
      "model_name": "LayoutModel",
      "state": {}
     },
     "1e60b7ec6723458287ead60649332048": {
      "model_module": "@jupyter-widgets/controls",
      "model_module_version": "1.5.0",
      "model_name": "FloatProgressModel",
      "state": {
       "bar_style": "success",
       "description": "100%",
       "layout": "IPY_MODEL_1e6802b984c341679edb7dce7c928a90",
       "max": 4,
       "style": "IPY_MODEL_adcf584750444a2197b0891a5bbd4c16",
       "value": 4
      }
     },
     "1e6802b984c341679edb7dce7c928a90": {
      "model_module": "@jupyter-widgets/base",
      "model_module_version": "1.2.0",
      "model_name": "LayoutModel",
      "state": {}
     },
     "1f85b2eedcd7420f9cb58f0a3898203f": {
      "model_module": "@jupyter-widgets/controls",
      "model_module_version": "1.5.0",
      "model_name": "HTMLModel",
      "state": {
       "layout": "IPY_MODEL_3283ce8baa6946c787b526a0205cb37e",
       "style": "IPY_MODEL_ab05e0495b094aca945b195ae86538d0",
       "value": " 2054672/2054672 [00:05&lt;00:00, 388498.01it/s]"
      }
     },
     "200dd543005543118d1253e2d10d55cd": {
      "model_module": "@jupyter-widgets/controls",
      "model_module_version": "1.5.0",
      "model_name": "HBoxModel",
      "state": {
       "children": [
        "IPY_MODEL_a002e605f8f14c73a6d6a8f4effbced7",
        "IPY_MODEL_5c4c8b796e8149eaae9a4f50e28cfc6a"
       ],
       "layout": "IPY_MODEL_2d5965843c1f4514818090e59b1aeb88"
      }
     },
     "20175f9ab70846028ecb5f2e4be10c5e": {
      "model_module": "@jupyter-widgets/base",
      "model_module_version": "1.2.0",
      "model_name": "LayoutModel",
      "state": {}
     },
     "203285295d0e4f3e808cd49f2b2903f4": {
      "model_module": "@jupyter-widgets/base",
      "model_module_version": "1.2.0",
      "model_name": "LayoutModel",
      "state": {}
     },
     "2070b2c677224dafa673b9285b8efbc5": {
      "model_module": "@jupyter-widgets/base",
      "model_module_version": "1.2.0",
      "model_name": "LayoutModel",
      "state": {}
     },
     "231870274d9d41ac9925f5e55c4dca98": {
      "model_module": "@jupyter-widgets/controls",
      "model_module_version": "1.5.0",
      "model_name": "FloatProgressModel",
      "state": {
       "bar_style": "success",
       "description": "100%",
       "layout": "IPY_MODEL_ab87484bece044628de70ef8f7d322fb",
       "max": 2054672,
       "style": "IPY_MODEL_2eae45318dae4c3894a63337a536281e",
       "value": 2054672
      }
     },
     "23409300dece49a4ad18500b84b0a08d": {
      "model_module": "@jupyter-widgets/base",
      "model_module_version": "1.2.0",
      "model_name": "LayoutModel",
      "state": {}
     },
     "2386ff75d85d49bc9ad2bef327e738e2": {
      "model_module": "@jupyter-widgets/base",
      "model_module_version": "1.2.0",
      "model_name": "LayoutModel",
      "state": {}
     },
     "24677333449e4a9c80b1f196bd7ca566": {
      "model_module": "@jupyter-widgets/controls",
      "model_module_version": "1.5.0",
      "model_name": "FloatProgressModel",
      "state": {
       "bar_style": "success",
       "description": "100%",
       "layout": "IPY_MODEL_3e632ad58f674f989ff6c014b6e79fb1",
       "max": 2054672,
       "style": "IPY_MODEL_17e64b0f91884026a617f325dc1521cf",
       "value": 2054672
      }
     },
     "24e7a60f9c8849dd8020b6d1c43456b0": {
      "model_module": "@jupyter-widgets/base",
      "model_module_version": "1.2.0",
      "model_name": "LayoutModel",
      "state": {}
     },
     "261c61f7dfe04927aca8e4ce82aa0920": {
      "model_module": "@jupyter-widgets/controls",
      "model_module_version": "1.5.0",
      "model_name": "HBoxModel",
      "state": {
       "children": [
        "IPY_MODEL_c7826736d55e4726a9c97cdc98ac0250",
        "IPY_MODEL_5b16b6a4997e4f6e8db631e238d6b5a9"
       ],
       "layout": "IPY_MODEL_5e41ae577daa45fc8f3f98b2e77a18e0"
      }
     },
     "27439026c1194ae2b0de458e26be7871": {
      "model_module": "@jupyter-widgets/controls",
      "model_module_version": "1.5.0",
      "model_name": "DescriptionStyleModel",
      "state": {
       "description_width": ""
      }
     },
     "2797ed03c15f4ea09384924ecfd758e7": {
      "model_module": "@jupyter-widgets/controls",
      "model_module_version": "1.5.0",
      "model_name": "HBoxModel",
      "state": {
       "children": [
        "IPY_MODEL_7fd2628ddefd4d618dd8ecae0660c7f6",
        "IPY_MODEL_3bee9ae6756d460489056821a90c1fb1"
       ],
       "layout": "IPY_MODEL_8c224e15d5c04ddbbac660a8e4124fb3"
      }
     },
     "27b1f8b2c9364d51b547a4eb4d772dc0": {
      "model_module": "@jupyter-widgets/base",
      "model_module_version": "1.2.0",
      "model_name": "LayoutModel",
      "state": {}
     },
     "28a074ac9fa54d38b55acba1b346f0eb": {
      "model_module": "@jupyter-widgets/controls",
      "model_module_version": "1.5.0",
      "model_name": "DescriptionStyleModel",
      "state": {
       "description_width": ""
      }
     },
     "2b205c7cd4c04e5db449ae38c4c2246e": {
      "model_module": "@jupyter-widgets/base",
      "model_module_version": "1.2.0",
      "model_name": "LayoutModel",
      "state": {}
     },
     "2ce4861989164814abe36c168ca45809": {
      "model_module": "@jupyter-widgets/controls",
      "model_module_version": "1.5.0",
      "model_name": "FloatProgressModel",
      "state": {
       "bar_style": "success",
       "description": "100%",
       "layout": "IPY_MODEL_56a7a0a02e514ef7939696e70256b969",
       "max": 2054672,
       "style": "IPY_MODEL_885c8a522112431ca84483f5791c067a",
       "value": 2054672
      }
     },
     "2d0d343a5c5a470fa6c10568ad29b7ae": {
      "model_module": "@jupyter-widgets/controls",
      "model_module_version": "1.5.0",
      "model_name": "FloatProgressModel",
      "state": {
       "bar_style": "success",
       "description": "100%",
       "layout": "IPY_MODEL_23409300dece49a4ad18500b84b0a08d",
       "max": 2054672,
       "style": "IPY_MODEL_e7e2cabac7564a2496cf6debe0c69d87",
       "value": 2054672
      }
     },
     "2d50d61938714b01beb94381443c7cf7": {
      "model_module": "@jupyter-widgets/controls",
      "model_module_version": "1.5.0",
      "model_name": "FloatProgressModel",
      "state": {
       "bar_style": "success",
       "description": "100%",
       "layout": "IPY_MODEL_47bc3fc40c3643208dd331d2bc343352",
       "max": 4,
       "style": "IPY_MODEL_fb7015593948488a83cfe6570af9ac05",
       "value": 4
      }
     },
     "2d5965843c1f4514818090e59b1aeb88": {
      "model_module": "@jupyter-widgets/base",
      "model_module_version": "1.2.0",
      "model_name": "LayoutModel",
      "state": {}
     },
     "2d8702379c4c4560a7ae282784d11cda": {
      "model_module": "@jupyter-widgets/base",
      "model_module_version": "1.2.0",
      "model_name": "LayoutModel",
      "state": {}
     },
     "2e425c5516ea4132aa400f239d2a04a4": {
      "model_module": "@jupyter-widgets/controls",
      "model_module_version": "1.5.0",
      "model_name": "DescriptionStyleModel",
      "state": {
       "description_width": ""
      }
     },
     "2eae45318dae4c3894a63337a536281e": {
      "model_module": "@jupyter-widgets/controls",
      "model_module_version": "1.5.0",
      "model_name": "ProgressStyleModel",
      "state": {
       "description_width": "initial"
      }
     },
     "2f4c067d36e94096afb4eb72c9b8a39a": {
      "model_module": "@jupyter-widgets/controls",
      "model_module_version": "1.5.0",
      "model_name": "HTMLModel",
      "state": {
       "layout": "IPY_MODEL_c2b780082e1d4f199e186b3d7a9a3618",
       "style": "IPY_MODEL_1a2d8531d83a416c9bfdfb7012e299bc",
       "value": " 2054672/2054672 [00:10&lt;00:00, 199780.47it/s]"
      }
     },
     "2f6cf6b96595451e85c3c3560c9f94ce": {
      "model_module": "@jupyter-widgets/base",
      "model_module_version": "1.2.0",
      "model_name": "LayoutModel",
      "state": {}
     },
     "2fb874465010425fbcd318b3f3231dd4": {
      "model_module": "@jupyter-widgets/controls",
      "model_module_version": "1.5.0",
      "model_name": "ProgressStyleModel",
      "state": {
       "description_width": "initial"
      }
     },
     "30ebac6bd5a746aeabd8e51df602899d": {
      "model_module": "@jupyter-widgets/base",
      "model_module_version": "1.2.0",
      "model_name": "LayoutModel",
      "state": {}
     },
     "31b0d17b5921443890b61ffe6b9a8aa9": {
      "model_module": "@jupyter-widgets/base",
      "model_module_version": "1.2.0",
      "model_name": "LayoutModel",
      "state": {}
     },
     "31fa255ac0c54046966df9c0d59709c0": {
      "model_module": "@jupyter-widgets/controls",
      "model_module_version": "1.5.0",
      "model_name": "FloatProgressModel",
      "state": {
       "bar_style": "success",
       "description": "100%",
       "layout": "IPY_MODEL_8e38ba89c97d43b88e95a6ab166919d1",
       "max": 2054672,
       "style": "IPY_MODEL_caa981f36d8541bcbf5eb84c402f2555",
       "value": 2054672
      }
     },
     "3283ce8baa6946c787b526a0205cb37e": {
      "model_module": "@jupyter-widgets/base",
      "model_module_version": "1.2.0",
      "model_name": "LayoutModel",
      "state": {}
     },
     "339fb69610494be18156975bf2747fcd": {
      "model_module": "@jupyter-widgets/base",
      "model_module_version": "1.2.0",
      "model_name": "LayoutModel",
      "state": {}
     },
     "34db23bb41e44e5a9c83bc207c12ff25": {
      "model_module": "@jupyter-widgets/base",
      "model_module_version": "1.2.0",
      "model_name": "LayoutModel",
      "state": {}
     },
     "35dd06f1387e4244b2a99b9ee39e8ab5": {
      "model_module": "@jupyter-widgets/controls",
      "model_module_version": "1.5.0",
      "model_name": "FloatProgressModel",
      "state": {
       "bar_style": "success",
       "description": "100%",
       "layout": "IPY_MODEL_e2c2d26e4470435b926a3a4f5f25ff47",
       "max": 2054672,
       "style": "IPY_MODEL_e1e298848ac54a7d96d14196eefacce4",
       "value": 2054672
      }
     },
     "36d0a81073334937b623f2f625dcf5e9": {
      "model_module": "@jupyter-widgets/controls",
      "model_module_version": "1.5.0",
      "model_name": "HTMLModel",
      "state": {
       "layout": "IPY_MODEL_9561668747624066b3ec1e923548412e",
       "style": "IPY_MODEL_f494cded4adf42fc8db7f58e0ebfcddf",
       "value": " 2054672/2054672 [00:03&lt;00:00, 570421.51it/s]"
      }
     },
     "3770da62572944878331b53b276b6f23": {
      "model_module": "@jupyter-widgets/base",
      "model_module_version": "1.2.0",
      "model_name": "LayoutModel",
      "state": {}
     },
     "3837a456dbda41ad851704bf12368dc9": {
      "model_module": "@jupyter-widgets/controls",
      "model_module_version": "1.5.0",
      "model_name": "DescriptionStyleModel",
      "state": {
       "description_width": ""
      }
     },
     "391f6f2d70aa40fea8d235b4e56c1fa2": {
      "model_module": "@jupyter-widgets/controls",
      "model_module_version": "1.5.0",
      "model_name": "FloatProgressModel",
      "state": {
       "bar_style": "success",
       "description": "100%",
       "layout": "IPY_MODEL_73cdea2cb24b4223a7e19537f24bfc3d",
       "max": 2054672,
       "style": "IPY_MODEL_bb82d8f0571b4d6497b0012bf63db3d1",
       "value": 2054672
      }
     },
     "39688f78826b451fb3590bb0251fe57d": {
      "model_module": "@jupyter-widgets/base",
      "model_module_version": "1.2.0",
      "model_name": "LayoutModel",
      "state": {}
     },
     "3982e9bbcd324a66a030f1c65c42e754": {
      "model_module": "@jupyter-widgets/controls",
      "model_module_version": "1.5.0",
      "model_name": "DescriptionStyleModel",
      "state": {
       "description_width": ""
      }
     },
     "3a23102d502045afa95c97484b5d737f": {
      "model_module": "@jupyter-widgets/controls",
      "model_module_version": "1.5.0",
      "model_name": "FloatProgressModel",
      "state": {
       "bar_style": "success",
       "description": "100%",
       "layout": "IPY_MODEL_fe21c51716c542299dd70d68c043c63d",
       "max": 2054672,
       "style": "IPY_MODEL_5f359e9b094e4d338a62ba605120095f",
       "value": 2054672
      }
     },
     "3abdbd9bbade4ab29fbcbd5dd3ca5d5e": {
      "model_module": "@jupyter-widgets/controls",
      "model_module_version": "1.5.0",
      "model_name": "FloatProgressModel",
      "state": {
       "bar_style": "success",
       "description": "100%",
       "layout": "IPY_MODEL_eae415c124d8481aa433fc6cb7b7de8e",
       "max": 2054672,
       "style": "IPY_MODEL_cf4b6ab2531a45aaae4a81bc4419acb3",
       "value": 2054672
      }
     },
     "3b095011fe484952855d8a87d72d281f": {
      "model_module": "@jupyter-widgets/controls",
      "model_module_version": "1.5.0",
      "model_name": "DescriptionStyleModel",
      "state": {
       "description_width": ""
      }
     },
     "3b7bd430dadd46fc971d49d270fd5cc2": {
      "model_module": "@jupyter-widgets/base",
      "model_module_version": "1.2.0",
      "model_name": "LayoutModel",
      "state": {}
     },
     "3bee9ae6756d460489056821a90c1fb1": {
      "model_module": "@jupyter-widgets/controls",
      "model_module_version": "1.5.0",
      "model_name": "HTMLModel",
      "state": {
       "layout": "IPY_MODEL_91e826bb458b4de0961775e5e53dd9bb",
       "style": "IPY_MODEL_2e425c5516ea4132aa400f239d2a04a4",
       "value": " 2054672/2054672 [17:50&lt;00:00, 1919.00it/s]"
      }
     },
     "3bf54f0321a041bf868bccf556949a42": {
      "model_module": "@jupyter-widgets/controls",
      "model_module_version": "1.5.0",
      "model_name": "DescriptionStyleModel",
      "state": {
       "description_width": ""
      }
     },
     "3c708b8fdeed48a3b6cd5141f88fc1ac": {
      "model_module": "@jupyter-widgets/controls",
      "model_module_version": "1.5.0",
      "model_name": "HTMLModel",
      "state": {
       "layout": "IPY_MODEL_d4bd8e4872444c1ab76178910a48ec5f",
       "style": "IPY_MODEL_28a074ac9fa54d38b55acba1b346f0eb",
       "value": " 2054672/2054672 [03:56&lt;00:00, 8673.95it/s]"
      }
     },
     "3c83a7209c2f4104b3f3e420299bf56d": {
      "model_module": "@jupyter-widgets/controls",
      "model_module_version": "1.5.0",
      "model_name": "FloatProgressModel",
      "state": {
       "bar_style": "success",
       "description": "100%",
       "layout": "IPY_MODEL_f64a20878f8340b6b0d706daf53daedc",
       "max": 2054672,
       "style": "IPY_MODEL_2fb874465010425fbcd318b3f3231dd4",
       "value": 2054672
      }
     },
     "3cfcbfb60644482b80589e7d491e703e": {
      "model_module": "@jupyter-widgets/controls",
      "model_module_version": "1.5.0",
      "model_name": "FloatProgressModel",
      "state": {
       "bar_style": "success",
       "description": "100%",
       "layout": "IPY_MODEL_bd074f1f8da74beb84138e15ef403821",
       "max": 4,
       "style": "IPY_MODEL_62f591aef17a4fd3aeff33840349e065",
       "value": 4
      }
     },
     "3cfe77aecda24b65a0156a32751125f4": {
      "model_module": "@jupyter-widgets/controls",
      "model_module_version": "1.5.0",
      "model_name": "DescriptionStyleModel",
      "state": {
       "description_width": ""
      }
     },
     "3e632ad58f674f989ff6c014b6e79fb1": {
      "model_module": "@jupyter-widgets/base",
      "model_module_version": "1.2.0",
      "model_name": "LayoutModel",
      "state": {}
     },
     "3eb264851cbd49d7968f222a50dee81a": {
      "model_module": "@jupyter-widgets/controls",
      "model_module_version": "1.5.0",
      "model_name": "HTMLModel",
      "state": {
       "layout": "IPY_MODEL_2b205c7cd4c04e5db449ae38c4c2246e",
       "style": "IPY_MODEL_5c9c688504e1463599fd61aecf0cf045",
       "value": " 2054672/2054672 [00:02&lt;00:00, 817952.74it/s]"
      }
     },
     "3fa384f7db6c47c8b7ac9a24cf9c789f": {
      "model_module": "@jupyter-widgets/controls",
      "model_module_version": "1.5.0",
      "model_name": "HBoxModel",
      "state": {
       "children": [
        "IPY_MODEL_42e7aae82e164dc3a2bacce699ad3db9",
        "IPY_MODEL_1f85b2eedcd7420f9cb58f0a3898203f"
       ],
       "layout": "IPY_MODEL_0ce4ced0923f45aa81eda4a8cc3d967b"
      }
     },
     "3fc1a8668d5347cb919c7b152e74ec08": {
      "model_module": "@jupyter-widgets/controls",
      "model_module_version": "1.5.0",
      "model_name": "HTMLModel",
      "state": {
       "layout": "IPY_MODEL_0aae0c2d8f7142a1b190812e1f7fe091",
       "style": "IPY_MODEL_3b095011fe484952855d8a87d72d281f",
       "value": " 2054672/2054672 [00:08&lt;00:00, 246758.84it/s]"
      }
     },
     "4178ed35ac3f4546b09ce43087b14b9a": {
      "model_module": "@jupyter-widgets/controls",
      "model_module_version": "1.5.0",
      "model_name": "ProgressStyleModel",
      "state": {
       "description_width": "initial"
      }
     },
     "42d9adf5a36f4183860f875805966f6c": {
      "model_module": "@jupyter-widgets/base",
      "model_module_version": "1.2.0",
      "model_name": "LayoutModel",
      "state": {}
     },
     "42e7aae82e164dc3a2bacce699ad3db9": {
      "model_module": "@jupyter-widgets/controls",
      "model_module_version": "1.5.0",
      "model_name": "FloatProgressModel",
      "state": {
       "bar_style": "success",
       "description": "100%",
       "layout": "IPY_MODEL_5bf60342654a4a64a47784f6945fca07",
       "max": 2054672,
       "style": "IPY_MODEL_76ab0b9f6080459aa15b69cd569f8397",
       "value": 2054672
      }
     },
     "450ebeed122d4dc29247abb130cc6250": {
      "model_module": "@jupyter-widgets/controls",
      "model_module_version": "1.5.0",
      "model_name": "HTMLModel",
      "state": {
       "layout": "IPY_MODEL_3770da62572944878331b53b276b6f23",
       "style": "IPY_MODEL_473fd86ba1c54ff79d29b134897508f0",
       "value": " 2054672/2054672 [00:04&lt;00:00, 439464.90it/s]"
      }
     },
     "47068b515c584190a18ecf7e955aef28": {
      "model_module": "@jupyter-widgets/controls",
      "model_module_version": "1.5.0",
      "model_name": "DescriptionStyleModel",
      "state": {
       "description_width": ""
      }
     },
     "473fd86ba1c54ff79d29b134897508f0": {
      "model_module": "@jupyter-widgets/controls",
      "model_module_version": "1.5.0",
      "model_name": "DescriptionStyleModel",
      "state": {
       "description_width": ""
      }
     },
     "47548e010b334dee978e70ef6f9b0446": {
      "model_module": "@jupyter-widgets/controls",
      "model_module_version": "1.5.0",
      "model_name": "HTMLModel",
      "state": {
       "layout": "IPY_MODEL_9d54383dc4ab4ded93db79e0e0aa8da3",
       "style": "IPY_MODEL_ea31c4d8a5604b1aa81ed668923dac8b",
       "value": " 2054672/2054672 [00:30&lt;00:00, 66682.39it/s]"
      }
     },
     "47bc3fc40c3643208dd331d2bc343352": {
      "model_module": "@jupyter-widgets/base",
      "model_module_version": "1.2.0",
      "model_name": "LayoutModel",
      "state": {}
     },
     "488d839088264435aae6f7bc95b5b134": {
      "model_module": "@jupyter-widgets/base",
      "model_module_version": "1.2.0",
      "model_name": "LayoutModel",
      "state": {}
     },
     "49dbfea956764433adf4484bc32b9923": {
      "model_module": "@jupyter-widgets/base",
      "model_module_version": "1.2.0",
      "model_name": "LayoutModel",
      "state": {}
     },
     "4ae09919069048abb4a9b43fe8fca58e": {
      "model_module": "@jupyter-widgets/base",
      "model_module_version": "1.2.0",
      "model_name": "LayoutModel",
      "state": {}
     },
     "4c4d374b79be4304835176c62e6acfdf": {
      "model_module": "@jupyter-widgets/base",
      "model_module_version": "1.2.0",
      "model_name": "LayoutModel",
      "state": {}
     },
     "4ca30f878a884cd3825e0550acc84d16": {
      "model_module": "@jupyter-widgets/base",
      "model_module_version": "1.2.0",
      "model_name": "LayoutModel",
      "state": {}
     },
     "4ce98ae161fd4a6c8d897df7868b7aca": {
      "model_module": "@jupyter-widgets/controls",
      "model_module_version": "1.5.0",
      "model_name": "DescriptionStyleModel",
      "state": {
       "description_width": ""
      }
     },
     "4d1c705b56d540b9925db8b66fc105c3": {
      "model_module": "@jupyter-widgets/base",
      "model_module_version": "1.2.0",
      "model_name": "LayoutModel",
      "state": {}
     },
     "505439c247e0461895ddaa11a9d19dce": {
      "model_module": "@jupyter-widgets/base",
      "model_module_version": "1.2.0",
      "model_name": "LayoutModel",
      "state": {}
     },
     "516a7aa5bae64e1a94086ef17a75cef7": {
      "model_module": "@jupyter-widgets/controls",
      "model_module_version": "1.5.0",
      "model_name": "ProgressStyleModel",
      "state": {
       "description_width": "initial"
      }
     },
     "5218917a5ae3409883a7747a37d7cf61": {
      "model_module": "@jupyter-widgets/base",
      "model_module_version": "1.2.0",
      "model_name": "LayoutModel",
      "state": {}
     },
     "53d88274546a447d9397f4dbb137c1d0": {
      "model_module": "@jupyter-widgets/controls",
      "model_module_version": "1.5.0",
      "model_name": "HTMLModel",
      "state": {
       "layout": "IPY_MODEL_9adca3b6c38446d58fd447a81338e208",
       "style": "IPY_MODEL_606e570e59d34f2089cc34e955f73b33",
       "value": " 2054672/2054672 [00:04&lt;00:00, 498304.40it/s]"
      }
     },
     "54ffc2b3d6a349c795a3e3219860534a": {
      "model_module": "@jupyter-widgets/controls",
      "model_module_version": "1.5.0",
      "model_name": "FloatProgressModel",
      "state": {
       "bar_style": "success",
       "description": "100%",
       "layout": "IPY_MODEL_d8cfc0157b3940b8aacca07d186e3bbd",
       "max": 2054672,
       "style": "IPY_MODEL_07f75920cc8b4cf9ac4a963bbce71ce6",
       "value": 2054672
      }
     },
     "5514f5e824654b68952923e4d4b013e3": {
      "model_module": "@jupyter-widgets/controls",
      "model_module_version": "1.5.0",
      "model_name": "ProgressStyleModel",
      "state": {
       "description_width": "initial"
      }
     },
     "561bc1f7d7bd4005a4c7f56693cf55f3": {
      "model_module": "@jupyter-widgets/base",
      "model_module_version": "1.2.0",
      "model_name": "LayoutModel",
      "state": {}
     },
     "56a7a0a02e514ef7939696e70256b969": {
      "model_module": "@jupyter-widgets/base",
      "model_module_version": "1.2.0",
      "model_name": "LayoutModel",
      "state": {}
     },
     "577f94bb2b0340108387d954d3012e8d": {
      "model_module": "@jupyter-widgets/controls",
      "model_module_version": "1.5.0",
      "model_name": "HBoxModel",
      "state": {
       "children": [
        "IPY_MODEL_3c83a7209c2f4104b3f3e420299bf56d",
        "IPY_MODEL_3c708b8fdeed48a3b6cd5141f88fc1ac"
       ],
       "layout": "IPY_MODEL_49dbfea956764433adf4484bc32b9923"
      }
     },
     "578399a5cfca4752b981cb98733300fe": {
      "model_module": "@jupyter-widgets/base",
      "model_module_version": "1.2.0",
      "model_name": "LayoutModel",
      "state": {}
     },
     "57884d823e7d429682d94b8209a9090b": {
      "model_module": "@jupyter-widgets/controls",
      "model_module_version": "1.5.0",
      "model_name": "DescriptionStyleModel",
      "state": {
       "description_width": ""
      }
     },
     "58841a74645d4b538f47046e7306e5bd": {
      "model_module": "@jupyter-widgets/controls",
      "model_module_version": "1.5.0",
      "model_name": "HBoxModel",
      "state": {
       "children": [
        "IPY_MODEL_ef5ab346b6c14edb944e4a09da635b46",
        "IPY_MODEL_1b35f68784094ac5ad714d7d978cc36a"
       ],
       "layout": "IPY_MODEL_31b0d17b5921443890b61ffe6b9a8aa9"
      }
     },
     "59321395d2124fcfb541a0970d9313c0": {
      "model_module": "@jupyter-widgets/controls",
      "model_module_version": "1.5.0",
      "model_name": "HBoxModel",
      "state": {
       "children": [
        "IPY_MODEL_76a4e0572aad483298b67e29344ba91c",
        "IPY_MODEL_36d0a81073334937b623f2f625dcf5e9"
       ],
       "layout": "IPY_MODEL_b15fa55b6bff4f33a9cf1a3c6d64a079"
      }
     },
     "599e1294c2344a87b331e87b459b5e26": {
      "model_module": "@jupyter-widgets/controls",
      "model_module_version": "1.5.0",
      "model_name": "ProgressStyleModel",
      "state": {
       "description_width": "initial"
      }
     },
     "5a7d730e75a742acb921db822b076d73": {
      "model_module": "@jupyter-widgets/base",
      "model_module_version": "1.2.0",
      "model_name": "LayoutModel",
      "state": {}
     },
     "5b16b6a4997e4f6e8db631e238d6b5a9": {
      "model_module": "@jupyter-widgets/controls",
      "model_module_version": "1.5.0",
      "model_name": "HTMLModel",
      "state": {
       "layout": "IPY_MODEL_2d8702379c4c4560a7ae282784d11cda",
       "style": "IPY_MODEL_bad01e94ef75444790235ef3e4abcb29",
       "value": " 2054672/2054672 [00:02&lt;00:00, 726904.27it/s]"
      }
     },
     "5bf60342654a4a64a47784f6945fca07": {
      "model_module": "@jupyter-widgets/base",
      "model_module_version": "1.2.0",
      "model_name": "LayoutModel",
      "state": {}
     },
     "5c4c8b796e8149eaae9a4f50e28cfc6a": {
      "model_module": "@jupyter-widgets/controls",
      "model_module_version": "1.5.0",
      "model_name": "HTMLModel",
      "state": {
       "layout": "IPY_MODEL_bd0daaa6ab254602a75693fa2c2c7f04",
       "style": "IPY_MODEL_7d45a08367714b6eb15f2ad41a851801",
       "value": " 2054672/2054672 [00:05&lt;00:00, 370806.42it/s]"
      }
     },
     "5c5833dbf7b742bf8370eeff63c72c9e": {
      "model_module": "@jupyter-widgets/controls",
      "model_module_version": "1.5.0",
      "model_name": "DescriptionStyleModel",
      "state": {
       "description_width": ""
      }
     },
     "5c9c688504e1463599fd61aecf0cf045": {
      "model_module": "@jupyter-widgets/controls",
      "model_module_version": "1.5.0",
      "model_name": "DescriptionStyleModel",
      "state": {
       "description_width": ""
      }
     },
     "5cb5775a9253463ab085feca26f8241f": {
      "model_module": "@jupyter-widgets/controls",
      "model_module_version": "1.5.0",
      "model_name": "HTMLModel",
      "state": {
       "layout": "IPY_MODEL_c3d8602c015a49b3ab1ef2f2f1d301ab",
       "style": "IPY_MODEL_16c563744ac445d7966f74d6d6714e0e",
       "value": " 2054672/2054672 [00:05&lt;00:00, 349793.14it/s]"
      }
     },
     "5d7f16e9bd5141f4bae406cc38ec12af": {
      "model_module": "@jupyter-widgets/base",
      "model_module_version": "1.2.0",
      "model_name": "LayoutModel",
      "state": {}
     },
     "5e41ae577daa45fc8f3f98b2e77a18e0": {
      "model_module": "@jupyter-widgets/base",
      "model_module_version": "1.2.0",
      "model_name": "LayoutModel",
      "state": {}
     },
     "5ebc926590a24bb48de68d74433a5037": {
      "model_module": "@jupyter-widgets/controls",
      "model_module_version": "1.5.0",
      "model_name": "HBoxModel",
      "state": {
       "children": [
        "IPY_MODEL_2d0d343a5c5a470fa6c10568ad29b7ae",
        "IPY_MODEL_5fcf1af9a1b246e8bc162f89cee67622"
       ],
       "layout": "IPY_MODEL_505439c247e0461895ddaa11a9d19dce"
      }
     },
     "5ec62292655c496188cc3008baafb960": {
      "model_module": "@jupyter-widgets/base",
      "model_module_version": "1.2.0",
      "model_name": "LayoutModel",
      "state": {}
     },
     "5f11b87b7179430b99e9e7bc196013e3": {
      "model_module": "@jupyter-widgets/base",
      "model_module_version": "1.2.0",
      "model_name": "LayoutModel",
      "state": {}
     },
     "5f359e9b094e4d338a62ba605120095f": {
      "model_module": "@jupyter-widgets/controls",
      "model_module_version": "1.5.0",
      "model_name": "ProgressStyleModel",
      "state": {
       "description_width": "initial"
      }
     },
     "5f93b30e61ce4e889b5388380900f62f": {
      "model_module": "@jupyter-widgets/controls",
      "model_module_version": "1.5.0",
      "model_name": "HBoxModel",
      "state": {
       "children": [
        "IPY_MODEL_3abdbd9bbade4ab29fbcbd5dd3ca5d5e",
        "IPY_MODEL_a9b3ec5616834a6f8aa358f3f2ca3078"
       ],
       "layout": "IPY_MODEL_0e3ef5e974b74b5a9a5b0b17a2242316"
      }
     },
     "5f9f6e18e4534d5584ee3f2283a5b203": {
      "model_module": "@jupyter-widgets/controls",
      "model_module_version": "1.5.0",
      "model_name": "DescriptionStyleModel",
      "state": {
       "description_width": ""
      }
     },
     "5fcf1af9a1b246e8bc162f89cee67622": {
      "model_module": "@jupyter-widgets/controls",
      "model_module_version": "1.5.0",
      "model_name": "HTMLModel",
      "state": {
       "layout": "IPY_MODEL_d380bd5c1dde4e318e7026e43f563d4d",
       "style": "IPY_MODEL_fa9d29226fa248438e5af76152b1efa4",
       "value": " 2054672/2054672 [00:05&lt;00:00, 372008.35it/s]"
      }
     },
     "5ff06875d1214f9989b47fe0eecbe0c3": {
      "model_module": "@jupyter-widgets/controls",
      "model_module_version": "1.5.0",
      "model_name": "HBoxModel",
      "state": {
       "children": [
        "IPY_MODEL_8db1554c9d01420b94c87150fffd19c3",
        "IPY_MODEL_0472a6753d79455ca852da05d6e3b5d3"
       ],
       "layout": "IPY_MODEL_7c4de7c7532744a1be9db198acc59b82"
      }
     },
     "606e570e59d34f2089cc34e955f73b33": {
      "model_module": "@jupyter-widgets/controls",
      "model_module_version": "1.5.0",
      "model_name": "DescriptionStyleModel",
      "state": {
       "description_width": ""
      }
     },
     "609c66e9edfd42c3b34703456e861838": {
      "model_module": "@jupyter-widgets/controls",
      "model_module_version": "1.5.0",
      "model_name": "ProgressStyleModel",
      "state": {
       "description_width": "initial"
      }
     },
     "62f591aef17a4fd3aeff33840349e065": {
      "model_module": "@jupyter-widgets/controls",
      "model_module_version": "1.5.0",
      "model_name": "ProgressStyleModel",
      "state": {
       "description_width": "initial"
      }
     },
     "651aa87c3b3849598ed5e732261d98a6": {
      "model_module": "@jupyter-widgets/base",
      "model_module_version": "1.2.0",
      "model_name": "LayoutModel",
      "state": {}
     },
     "68112ca29c3e424188506e895bbe84fa": {
      "model_module": "@jupyter-widgets/controls",
      "model_module_version": "1.5.0",
      "model_name": "HTMLModel",
      "state": {
       "layout": "IPY_MODEL_f60e263a225d4e278920da4a8faa9b78",
       "style": "IPY_MODEL_72a604beed224cedba0ff7092f07c4cf",
       "value": " 2054672/2054672 [00:01&lt;00:00, 1445093.96it/s]"
      }
     },
     "68a05a5671be477daca573d9caa70d56": {
      "model_module": "@jupyter-widgets/controls",
      "model_module_version": "1.5.0",
      "model_name": "FloatProgressModel",
      "state": {
       "bar_style": "success",
       "description": "100%",
       "layout": "IPY_MODEL_a395a852c01f4b699fb5ab07b2240fe5",
       "max": 2054672,
       "style": "IPY_MODEL_9a1fce35bc8d48cda45a713d4f7d131d",
       "value": 2054672
      }
     },
     "6b3b4616076a43a587618e130e17fb47": {
      "model_module": "@jupyter-widgets/controls",
      "model_module_version": "1.5.0",
      "model_name": "DescriptionStyleModel",
      "state": {
       "description_width": ""
      }
     },
     "6c64b69e1d2c48c49c37faeb09226ea6": {
      "model_module": "@jupyter-widgets/base",
      "model_module_version": "1.2.0",
      "model_name": "LayoutModel",
      "state": {}
     },
     "72a604beed224cedba0ff7092f07c4cf": {
      "model_module": "@jupyter-widgets/controls",
      "model_module_version": "1.5.0",
      "model_name": "DescriptionStyleModel",
      "state": {
       "description_width": ""
      }
     },
     "73cdea2cb24b4223a7e19537f24bfc3d": {
      "model_module": "@jupyter-widgets/base",
      "model_module_version": "1.2.0",
      "model_name": "LayoutModel",
      "state": {}
     },
     "761cf670acbc4c779feb76a7c2dc868c": {
      "model_module": "@jupyter-widgets/base",
      "model_module_version": "1.2.0",
      "model_name": "LayoutModel",
      "state": {}
     },
     "76803d71342e4d1a8002ebf8ac44decb": {
      "model_module": "@jupyter-widgets/controls",
      "model_module_version": "1.5.0",
      "model_name": "FloatProgressModel",
      "state": {
       "bar_style": "success",
       "description": "100%",
       "layout": "IPY_MODEL_abb71d81c7204f30b91ba77a4774faba",
       "max": 2054672,
       "style": "IPY_MODEL_c920156648f54b2ea7ce4d7b104fe589",
       "value": 2054672
      }
     },
     "76a4e0572aad483298b67e29344ba91c": {
      "model_module": "@jupyter-widgets/controls",
      "model_module_version": "1.5.0",
      "model_name": "FloatProgressModel",
      "state": {
       "bar_style": "success",
       "description": "100%",
       "layout": "IPY_MODEL_488d839088264435aae6f7bc95b5b134",
       "max": 2054672,
       "style": "IPY_MODEL_1d729f6447e94b258a71658f57026e33",
       "value": 2054672
      }
     },
     "76ab0b9f6080459aa15b69cd569f8397": {
      "model_module": "@jupyter-widgets/controls",
      "model_module_version": "1.5.0",
      "model_name": "ProgressStyleModel",
      "state": {
       "description_width": "initial"
      }
     },
     "775da7fddc494715bad9e0f56bc2344c": {
      "model_module": "@jupyter-widgets/controls",
      "model_module_version": "1.5.0",
      "model_name": "DescriptionStyleModel",
      "state": {
       "description_width": ""
      }
     },
     "79d5d70a33254b33bbaa4afc79e3546b": {
      "model_module": "@jupyter-widgets/controls",
      "model_module_version": "1.5.0",
      "model_name": "HTMLModel",
      "state": {
       "layout": "IPY_MODEL_7f2e0a7c2f9a4d088177679752bb2ef8",
       "style": "IPY_MODEL_fa26919ed4a84f2eaeb859dff98c3703",
       "value": " 2054672/2054672 [07:47&lt;00:00, 4395.07it/s]"
      }
     },
     "79f3bea2b41049c987461aab42d465e0": {
      "model_module": "@jupyter-widgets/controls",
      "model_module_version": "1.5.0",
      "model_name": "HBoxModel",
      "state": {
       "children": [
        "IPY_MODEL_ecf8c5d579c944c4870ffc40722073d0",
        "IPY_MODEL_3eb264851cbd49d7968f222a50dee81a"
       ],
       "layout": "IPY_MODEL_1d57d1a791dd480db30c69ef7097cf8e"
      }
     },
     "79fd61336c9f4d9692d75fee9c99ddef": {
      "model_module": "@jupyter-widgets/base",
      "model_module_version": "1.2.0",
      "model_name": "LayoutModel",
      "state": {}
     },
     "7bf502987d4345be9fdc5b5a8c38db8d": {
      "model_module": "@jupyter-widgets/controls",
      "model_module_version": "1.5.0",
      "model_name": "HTMLModel",
      "state": {
       "layout": "IPY_MODEL_e12fc11aa0f943cda9c0e5ca652269f3",
       "style": "IPY_MODEL_5c5833dbf7b742bf8370eeff63c72c9e",
       "value": " 2054672/2054672 [00:02&lt;00:00, 804055.19it/s]"
      }
     },
     "7c4de7c7532744a1be9db198acc59b82": {
      "model_module": "@jupyter-widgets/base",
      "model_module_version": "1.2.0",
      "model_name": "LayoutModel",
      "state": {}
     },
     "7d0f58a40acd40aa87a7ca6b68142387": {
      "model_module": "@jupyter-widgets/base",
      "model_module_version": "1.2.0",
      "model_name": "LayoutModel",
      "state": {}
     },
     "7d45a08367714b6eb15f2ad41a851801": {
      "model_module": "@jupyter-widgets/controls",
      "model_module_version": "1.5.0",
      "model_name": "DescriptionStyleModel",
      "state": {
       "description_width": ""
      }
     },
     "7efaca636b6c42099b81673f886df766": {
      "model_module": "@jupyter-widgets/controls",
      "model_module_version": "1.5.0",
      "model_name": "HTMLModel",
      "state": {
       "layout": "IPY_MODEL_d22c4104c23a4bb781eb20d4fe601a95",
       "style": "IPY_MODEL_c54f0d28cc084535a27bdbdd173850e0",
       "value": " 2054672/2054672 [18:01&lt;00:00, 1900.30it/s]"
      }
     },
     "7f2e0a7c2f9a4d088177679752bb2ef8": {
      "model_module": "@jupyter-widgets/base",
      "model_module_version": "1.2.0",
      "model_name": "LayoutModel",
      "state": {}
     },
     "7f89ff7c14804fe4b7a279a69d4bf4ed": {
      "model_module": "@jupyter-widgets/base",
      "model_module_version": "1.2.0",
      "model_name": "LayoutModel",
      "state": {}
     },
     "7fd2628ddefd4d618dd8ecae0660c7f6": {
      "model_module": "@jupyter-widgets/controls",
      "model_module_version": "1.5.0",
      "model_name": "FloatProgressModel",
      "state": {
       "bar_style": "success",
       "description": "100%",
       "layout": "IPY_MODEL_a0a0a4c8f0d04c80a411b44aec08f45d",
       "max": 2054672,
       "style": "IPY_MODEL_0a878bd2b1984493ad4426d8070dd7b0",
       "value": 2054672
      }
     },
     "8096e44c41864cda96f5757972b97a56": {
      "model_module": "@jupyter-widgets/controls",
      "model_module_version": "1.5.0",
      "model_name": "HBoxModel",
      "state": {
       "children": [
        "IPY_MODEL_3cfcbfb60644482b80589e7d491e703e",
        "IPY_MODEL_9738cc439a92495fa1e8e6aae4c47ce1"
       ],
       "layout": "IPY_MODEL_7f89ff7c14804fe4b7a279a69d4bf4ed"
      }
     },
     "812668ee8f00481390fcc2eb0c6180b5": {
      "model_module": "@jupyter-widgets/controls",
      "model_module_version": "1.5.0",
      "model_name": "DescriptionStyleModel",
      "state": {
       "description_width": ""
      }
     },
     "82b710eb2c7f451384a5c46fc33699db": {
      "model_module": "@jupyter-widgets/base",
      "model_module_version": "1.2.0",
      "model_name": "LayoutModel",
      "state": {}
     },
     "82f51b448cc14fc084792b4f5aef45c1": {
      "model_module": "@jupyter-widgets/controls",
      "model_module_version": "1.5.0",
      "model_name": "ProgressStyleModel",
      "state": {
       "description_width": "initial"
      }
     },
     "836a51e5c12e4832816b9cfc28b357b5": {
      "model_module": "@jupyter-widgets/controls",
      "model_module_version": "1.5.0",
      "model_name": "DescriptionStyleModel",
      "state": {
       "description_width": ""
      }
     },
     "85700694d7f74ebab5e70637ef02435f": {
      "model_module": "@jupyter-widgets/controls",
      "model_module_version": "1.5.0",
      "model_name": "FloatProgressModel",
      "state": {
       "bar_style": "success",
       "description": "100%",
       "layout": "IPY_MODEL_4d1c705b56d540b9925db8b66fc105c3",
       "max": 2054672,
       "style": "IPY_MODEL_c4145836420c49ab8b5918e0e179e207",
       "value": 2054672
      }
     },
     "85f5617d240b4d528b850f08094d6bb8": {
      "model_module": "@jupyter-widgets/controls",
      "model_module_version": "1.5.0",
      "model_name": "HTMLModel",
      "state": {
       "layout": "IPY_MODEL_3b7bd430dadd46fc971d49d270fd5cc2",
       "style": "IPY_MODEL_812668ee8f00481390fcc2eb0c6180b5",
       "value": " 2054672/2054672 [00:04&lt;00:00, 455542.58it/s]"
      }
     },
     "8845ef3696954e6cbaedcbe39704ac56": {
      "model_module": "@jupyter-widgets/controls",
      "model_module_version": "1.5.0",
      "model_name": "HBoxModel",
      "state": {
       "children": [
        "IPY_MODEL_f2c04dea08f94768b07198a46893cef6",
        "IPY_MODEL_b55cccccf3a84fa081c16028e17dccea"
       ],
       "layout": "IPY_MODEL_ce378bcef21e4d61a2f1494eaafe5e39"
      }
     },
     "885c8a522112431ca84483f5791c067a": {
      "model_module": "@jupyter-widgets/controls",
      "model_module_version": "1.5.0",
      "model_name": "ProgressStyleModel",
      "state": {
       "description_width": "initial"
      }
     },
     "8897ab389b6b47c4ac99fbf3801c594f": {
      "model_module": "@jupyter-widgets/base",
      "model_module_version": "1.2.0",
      "model_name": "LayoutModel",
      "state": {}
     },
     "896f26886aa044f0a99d805947f80fd4": {
      "model_module": "@jupyter-widgets/controls",
      "model_module_version": "1.5.0",
      "model_name": "HBoxModel",
      "state": {
       "children": [
        "IPY_MODEL_31fa255ac0c54046966df9c0d59709c0",
        "IPY_MODEL_8a759ef87c704a909f2cd9f1e863be33"
       ],
       "layout": "IPY_MODEL_5ec62292655c496188cc3008baafb960"
      }
     },
     "8a759ef87c704a909f2cd9f1e863be33": {
      "model_module": "@jupyter-widgets/controls",
      "model_module_version": "1.5.0",
      "model_name": "HTMLModel",
      "state": {
       "layout": "IPY_MODEL_a6fa57773b2a4c09bd7d9061dac73814",
       "style": "IPY_MODEL_3837a456dbda41ad851704bf12368dc9",
       "value": " 2054672/2054672 [07:41&lt;00:00, 4448.43it/s]"
      }
     },
     "8abc04538620424f81ca4d62b9d0bbd3": {
      "model_module": "@jupyter-widgets/controls",
      "model_module_version": "1.5.0",
      "model_name": "HTMLModel",
      "state": {
       "layout": "IPY_MODEL_d0fd851a2a1646b8b186450529225d3b",
       "style": "IPY_MODEL_3bf54f0321a041bf868bccf556949a42",
       "value": " 2054672/2054672 [00:05&lt;00:00, 391533.52it/s]"
      }
     },
     "8b7a9845ab494c81b1a1ea49fecff112": {
      "model_module": "@jupyter-widgets/controls",
      "model_module_version": "1.5.0",
      "model_name": "HBoxModel",
      "state": {
       "children": [
        "IPY_MODEL_24677333449e4a9c80b1f196bd7ca566",
        "IPY_MODEL_f3cf96aef17a48fdb40c7fccaac1a545"
       ],
       "layout": "IPY_MODEL_4ca30f878a884cd3825e0550acc84d16"
      }
     },
     "8bf6659d150544158c169dc08b005ff7": {
      "model_module": "@jupyter-widgets/controls",
      "model_module_version": "1.5.0",
      "model_name": "FloatProgressModel",
      "state": {
       "bar_style": "success",
       "description": "100%",
       "layout": "IPY_MODEL_20175f9ab70846028ecb5f2e4be10c5e",
       "max": 2054672,
       "style": "IPY_MODEL_cd2f004918ef42f88af5c9bb5755cd30",
       "value": 2054672
      }
     },
     "8c224e15d5c04ddbbac660a8e4124fb3": {
      "model_module": "@jupyter-widgets/base",
      "model_module_version": "1.2.0",
      "model_name": "LayoutModel",
      "state": {}
     },
     "8cf99565273b44eda093f2a4b5006b7f": {
      "model_module": "@jupyter-widgets/base",
      "model_module_version": "1.2.0",
      "model_name": "LayoutModel",
      "state": {}
     },
     "8d7465e4992c405697bda0aba9ddff9d": {
      "model_module": "@jupyter-widgets/controls",
      "model_module_version": "1.5.0",
      "model_name": "HBoxModel",
      "state": {
       "children": [
        "IPY_MODEL_35dd06f1387e4244b2a99b9ee39e8ab5",
        "IPY_MODEL_ca5179fbcaea40e48877c29597e8a74f"
       ],
       "layout": "IPY_MODEL_19f6ab477d664200bd31136b9edc9829"
      }
     },
     "8db1554c9d01420b94c87150fffd19c3": {
      "model_module": "@jupyter-widgets/controls",
      "model_module_version": "1.5.0",
      "model_name": "FloatProgressModel",
      "state": {
       "bar_style": "success",
       "description": "100%",
       "layout": "IPY_MODEL_4c4d374b79be4304835176c62e6acfdf",
       "max": 2054672,
       "style": "IPY_MODEL_aea3acbf0a494eb6a3728595361f1fea",
       "value": 2054672
      }
     },
     "8e15d60a68264c4dbb24b9655a8e520e": {
      "model_module": "@jupyter-widgets/controls",
      "model_module_version": "1.5.0",
      "model_name": "ProgressStyleModel",
      "state": {
       "description_width": "initial"
      }
     },
     "8e38ba89c97d43b88e95a6ab166919d1": {
      "model_module": "@jupyter-widgets/base",
      "model_module_version": "1.2.0",
      "model_name": "LayoutModel",
      "state": {}
     },
     "8f18781217584fd7a45543e095edeae8": {
      "model_module": "@jupyter-widgets/controls",
      "model_module_version": "1.5.0",
      "model_name": "HTMLModel",
      "state": {
       "layout": "IPY_MODEL_1bcf39604eba4a0592e9633df55eb906",
       "style": "IPY_MODEL_9b47719f81f24783a0a614a7e2b7da3d",
       "value": " 2054672/2054672 [00:12&lt;00:00, 165363.92it/s]"
      }
     },
     "91332a2c069a45d591b1b9f19c9b1716": {
      "model_module": "@jupyter-widgets/controls",
      "model_module_version": "1.5.0",
      "model_name": "DescriptionStyleModel",
      "state": {
       "description_width": ""
      }
     },
     "91e826bb458b4de0961775e5e53dd9bb": {
      "model_module": "@jupyter-widgets/base",
      "model_module_version": "1.2.0",
      "model_name": "LayoutModel",
      "state": {}
     },
     "9452c267fa3645089d2fb1dd664772d0": {
      "model_module": "@jupyter-widgets/base",
      "model_module_version": "1.2.0",
      "model_name": "LayoutModel",
      "state": {}
     },
     "9561668747624066b3ec1e923548412e": {
      "model_module": "@jupyter-widgets/base",
      "model_module_version": "1.2.0",
      "model_name": "LayoutModel",
      "state": {}
     },
     "95660f21c71d4e7c9544bea0022efab0": {
      "model_module": "@jupyter-widgets/base",
      "model_module_version": "1.2.0",
      "model_name": "LayoutModel",
      "state": {}
     },
     "9738cc439a92495fa1e8e6aae4c47ce1": {
      "model_module": "@jupyter-widgets/controls",
      "model_module_version": "1.5.0",
      "model_name": "HTMLModel",
      "state": {
       "layout": "IPY_MODEL_c2810a7010184102a79891a3fa4230b6",
       "style": "IPY_MODEL_775da7fddc494715bad9e0f56bc2344c",
       "value": " 4/4 [00:25&lt;00:00,  6.48s/it]"
      }
     },
     "982c72737b6e49a0bffdc0b3cde36d8a": {
      "model_module": "@jupyter-widgets/controls",
      "model_module_version": "1.5.0",
      "model_name": "HTMLModel",
      "state": {
       "layout": "IPY_MODEL_c5c0d9d5fb8e43bfa9fbd5a4c4042a84",
       "style": "IPY_MODEL_3cfe77aecda24b65a0156a32751125f4",
       "value": " 2054672/2054672 [00:03&lt;00:00, 684744.12it/s]"
      }
     },
     "9833054616414d5eba19082cb96b6eaf": {
      "model_module": "@jupyter-widgets/controls",
      "model_module_version": "1.5.0",
      "model_name": "HTMLModel",
      "state": {
       "layout": "IPY_MODEL_d4884db4dd694f66b281626d45c61f42",
       "style": "IPY_MODEL_d652fc1342384ddd9b32acb6b1ad62e7",
       "value": " 2054672/2054672 [34:28&lt;00:00, 993.08it/s]"
      }
     },
     "984667e780e942dd82e702273c5e5f88": {
      "model_module": "@jupyter-widgets/base",
      "model_module_version": "1.2.0",
      "model_name": "LayoutModel",
      "state": {}
     },
     "98549b2ebb2f4ca1a586d29ec808d23f": {
      "model_module": "@jupyter-widgets/base",
      "model_module_version": "1.2.0",
      "model_name": "LayoutModel",
      "state": {}
     },
     "9a1fce35bc8d48cda45a713d4f7d131d": {
      "model_module": "@jupyter-widgets/controls",
      "model_module_version": "1.5.0",
      "model_name": "ProgressStyleModel",
      "state": {
       "description_width": "initial"
      }
     },
     "9a5f924cd110457299bf206e8b86a9ca": {
      "model_module": "@jupyter-widgets/controls",
      "model_module_version": "1.5.0",
      "model_name": "ProgressStyleModel",
      "state": {
       "description_width": "initial"
      }
     },
     "9adca3b6c38446d58fd447a81338e208": {
      "model_module": "@jupyter-widgets/base",
      "model_module_version": "1.2.0",
      "model_name": "LayoutModel",
      "state": {}
     },
     "9b47719f81f24783a0a614a7e2b7da3d": {
      "model_module": "@jupyter-widgets/controls",
      "model_module_version": "1.5.0",
      "model_name": "DescriptionStyleModel",
      "state": {
       "description_width": ""
      }
     },
     "9d54383dc4ab4ded93db79e0e0aa8da3": {
      "model_module": "@jupyter-widgets/base",
      "model_module_version": "1.2.0",
      "model_name": "LayoutModel",
      "state": {}
     },
     "9de13e7628eb4179ab650de426d5eca3": {
      "model_module": "@jupyter-widgets/controls",
      "model_module_version": "1.5.0",
      "model_name": "HBoxModel",
      "state": {
       "children": [
        "IPY_MODEL_daa4553ea2cf474cb1cd1f77e5d76d28",
        "IPY_MODEL_191ac9dffbae41748a34f11d5cbee5fd"
       ],
       "layout": "IPY_MODEL_04ff853164624f1cae394e3f5675ddef"
      }
     },
     "9efa5ef222314162bc5d052b3ba29306": {
      "model_module": "@jupyter-widgets/controls",
      "model_module_version": "1.5.0",
      "model_name": "ProgressStyleModel",
      "state": {
       "description_width": "initial"
      }
     },
     "9f58088a3aa8416e9331861e5f972458": {
      "model_module": "@jupyter-widgets/controls",
      "model_module_version": "1.5.0",
      "model_name": "HBoxModel",
      "state": {
       "children": [
        "IPY_MODEL_391f6f2d70aa40fea8d235b4e56c1fa2",
        "IPY_MODEL_fe922855175e4f2ebc3afb89254717a6"
       ],
       "layout": "IPY_MODEL_98549b2ebb2f4ca1a586d29ec808d23f"
      }
     },
     "9f85d311407e4507b2da3780bf69377e": {
      "model_module": "@jupyter-widgets/controls",
      "model_module_version": "1.5.0",
      "model_name": "HTMLModel",
      "state": {
       "layout": "IPY_MODEL_2f6cf6b96595451e85c3c3560c9f94ce",
       "style": "IPY_MODEL_e83571eff6244acbbae7cd68efa6914e",
       "value": " 2054672/2054672 [00:04&lt;00:00, 453055.01it/s]"
      }
     },
     "a002e605f8f14c73a6d6a8f4effbced7": {
      "model_module": "@jupyter-widgets/controls",
      "model_module_version": "1.5.0",
      "model_name": "FloatProgressModel",
      "state": {
       "bar_style": "success",
       "description": "100%",
       "layout": "IPY_MODEL_79fd61336c9f4d9692d75fee9c99ddef",
       "max": 2054672,
       "style": "IPY_MODEL_f504158e99204d7aa83e226da102a180",
       "value": 2054672
      }
     },
     "a0a0a4c8f0d04c80a411b44aec08f45d": {
      "model_module": "@jupyter-widgets/base",
      "model_module_version": "1.2.0",
      "model_name": "LayoutModel",
      "state": {}
     },
     "a2df00b4dab845fb9b91255eaeee970b": {
      "model_module": "@jupyter-widgets/base",
      "model_module_version": "1.2.0",
      "model_name": "LayoutModel",
      "state": {}
     },
     "a395a852c01f4b699fb5ab07b2240fe5": {
      "model_module": "@jupyter-widgets/base",
      "model_module_version": "1.2.0",
      "model_name": "LayoutModel",
      "state": {}
     },
     "a4cadaf9492f4d7db3865468dc551ce0": {
      "model_module": "@jupyter-widgets/controls",
      "model_module_version": "1.5.0",
      "model_name": "FloatProgressModel",
      "state": {
       "bar_style": "success",
       "description": "100%",
       "layout": "IPY_MODEL_aa05c72543a8499a8f46cd0529f7c8df",
       "max": 2054672,
       "style": "IPY_MODEL_609c66e9edfd42c3b34703456e861838",
       "value": 2054672
      }
     },
     "a5860141cc974f09aedde0121d514ce3": {
      "model_module": "@jupyter-widgets/base",
      "model_module_version": "1.2.0",
      "model_name": "LayoutModel",
      "state": {}
     },
     "a60c36cc35284a5baa672135d8bc2b67": {
      "model_module": "@jupyter-widgets/base",
      "model_module_version": "1.2.0",
      "model_name": "LayoutModel",
      "state": {}
     },
     "a6fa57773b2a4c09bd7d9061dac73814": {
      "model_module": "@jupyter-widgets/base",
      "model_module_version": "1.2.0",
      "model_name": "LayoutModel",
      "state": {}
     },
     "a809ac1b8c5042a3a08645ec296ab624": {
      "model_module": "@jupyter-widgets/controls",
      "model_module_version": "1.5.0",
      "model_name": "DescriptionStyleModel",
      "state": {
       "description_width": ""
      }
     },
     "a98baa5b1e494257816cf52bf2a1cee9": {
      "model_module": "@jupyter-widgets/base",
      "model_module_version": "1.2.0",
      "model_name": "LayoutModel",
      "state": {}
     },
     "a9b3ec5616834a6f8aa358f3f2ca3078": {
      "model_module": "@jupyter-widgets/controls",
      "model_module_version": "1.5.0",
      "model_name": "HTMLModel",
      "state": {
       "layout": "IPY_MODEL_a5860141cc974f09aedde0121d514ce3",
       "style": "IPY_MODEL_4ce98ae161fd4a6c8d897df7868b7aca",
       "value": " 2054672/2054672 [07:38&lt;00:00, 4484.82it/s]"
      }
     },
     "aa05c72543a8499a8f46cd0529f7c8df": {
      "model_module": "@jupyter-widgets/base",
      "model_module_version": "1.2.0",
      "model_name": "LayoutModel",
      "state": {}
     },
     "ab05960a65fb4a3a9ed1eba95c3dcfba": {
      "model_module": "@jupyter-widgets/controls",
      "model_module_version": "1.5.0",
      "model_name": "HBoxModel",
      "state": {
       "children": [
        "IPY_MODEL_2ce4861989164814abe36c168ca45809",
        "IPY_MODEL_8f18781217584fd7a45543e095edeae8"
       ],
       "layout": "IPY_MODEL_fe6421a9996e49b6ba278a1e6745d6b2"
      }
     },
     "ab05e0495b094aca945b195ae86538d0": {
      "model_module": "@jupyter-widgets/controls",
      "model_module_version": "1.5.0",
      "model_name": "DescriptionStyleModel",
      "state": {
       "description_width": ""
      }
     },
     "ab4d6b04229b4a88b9074d23d105e52a": {
      "model_module": "@jupyter-widgets/controls",
      "model_module_version": "1.5.0",
      "model_name": "FloatProgressModel",
      "state": {
       "bar_style": "success",
       "description": "100%",
       "layout": "IPY_MODEL_9452c267fa3645089d2fb1dd664772d0",
       "max": 2054672,
       "style": "IPY_MODEL_8e15d60a68264c4dbb24b9655a8e520e",
       "value": 2054672
      }
     },
     "ab87484bece044628de70ef8f7d322fb": {
      "model_module": "@jupyter-widgets/base",
      "model_module_version": "1.2.0",
      "model_name": "LayoutModel",
      "state": {}
     },
     "abb71d81c7204f30b91ba77a4774faba": {
      "model_module": "@jupyter-widgets/base",
      "model_module_version": "1.2.0",
      "model_name": "LayoutModel",
      "state": {}
     },
     "abc77cbab81342ffb130bf8662606886": {
      "model_module": "@jupyter-widgets/controls",
      "model_module_version": "1.5.0",
      "model_name": "HBoxModel",
      "state": {
       "children": [
        "IPY_MODEL_54ffc2b3d6a349c795a3e3219860534a",
        "IPY_MODEL_79d5d70a33254b33bbaa4afc79e3546b"
       ],
       "layout": "IPY_MODEL_8897ab389b6b47c4ac99fbf3801c594f"
      }
     },
     "ad61a12e250a4ebe8c68891cdf75e058": {
      "model_module": "@jupyter-widgets/base",
      "model_module_version": "1.2.0",
      "model_name": "LayoutModel",
      "state": {}
     },
     "adcf584750444a2197b0891a5bbd4c16": {
      "model_module": "@jupyter-widgets/controls",
      "model_module_version": "1.5.0",
      "model_name": "ProgressStyleModel",
      "state": {
       "description_width": "initial"
      }
     },
     "ae522d07b9be49f99c173fbeb77b4320": {
      "model_module": "@jupyter-widgets/controls",
      "model_module_version": "1.5.0",
      "model_name": "HBoxModel",
      "state": {
       "children": [
        "IPY_MODEL_1e60b7ec6723458287ead60649332048",
        "IPY_MODEL_c8a5f23503e9432691887f0738a96284"
       ],
       "layout": "IPY_MODEL_578399a5cfca4752b981cb98733300fe"
      }
     },
     "aea3acbf0a494eb6a3728595361f1fea": {
      "model_module": "@jupyter-widgets/controls",
      "model_module_version": "1.5.0",
      "model_name": "ProgressStyleModel",
      "state": {
       "description_width": "initial"
      }
     },
     "af7a2041493c4bfa9cdf3341577c8889": {
      "model_module": "@jupyter-widgets/controls",
      "model_module_version": "1.5.0",
      "model_name": "HBoxModel",
      "state": {
       "children": [
        "IPY_MODEL_85700694d7f74ebab5e70637ef02435f",
        "IPY_MODEL_7efaca636b6c42099b81673f886df766"
       ],
       "layout": "IPY_MODEL_a2df00b4dab845fb9b91255eaeee970b"
      }
     },
     "afd373840c7b4e25a0a0461665b01ef7": {
      "model_module": "@jupyter-widgets/base",
      "model_module_version": "1.2.0",
      "model_name": "LayoutModel",
      "state": {}
     },
     "b0288252108d41748a46db772e74e1ce": {
      "model_module": "@jupyter-widgets/controls",
      "model_module_version": "1.5.0",
      "model_name": "HTMLModel",
      "state": {
       "layout": "IPY_MODEL_5218917a5ae3409883a7747a37d7cf61",
       "style": "IPY_MODEL_5f9f6e18e4534d5584ee3f2283a5b203",
       "value": " 2054672/2054672 [00:03&lt;00:00, 618800.15it/s]"
      }
     },
     "b15fa55b6bff4f33a9cf1a3c6d64a079": {
      "model_module": "@jupyter-widgets/base",
      "model_module_version": "1.2.0",
      "model_name": "LayoutModel",
      "state": {}
     },
     "b20ecb00d416423dba545db87694ec69": {
      "model_module": "@jupyter-widgets/controls",
      "model_module_version": "1.5.0",
      "model_name": "HBoxModel",
      "state": {
       "children": [
        "IPY_MODEL_a4cadaf9492f4d7db3865468dc551ce0",
        "IPY_MODEL_b0288252108d41748a46db772e74e1ce"
       ],
       "layout": "IPY_MODEL_dcb7b296b5d24d0d9683d97335bd583f"
      }
     },
     "b36a3b7bc8ec48a3903660c89abc20d5": {
      "model_module": "@jupyter-widgets/base",
      "model_module_version": "1.2.0",
      "model_name": "LayoutModel",
      "state": {}
     },
     "b3f21ba5b82845fa862a0fd95f7bd96c": {
      "model_module": "@jupyter-widgets/controls",
      "model_module_version": "1.5.0",
      "model_name": "HTMLModel",
      "state": {
       "layout": "IPY_MODEL_651aa87c3b3849598ed5e732261d98a6",
       "style": "IPY_MODEL_a809ac1b8c5042a3a08645ec296ab624",
       "value": " 2054672/2054672 [17:36&lt;00:00, 1944.35it/s]"
      }
     },
     "b55cccccf3a84fa081c16028e17dccea": {
      "model_module": "@jupyter-widgets/controls",
      "model_module_version": "1.5.0",
      "model_name": "HTMLModel",
      "state": {
       "layout": "IPY_MODEL_8cf99565273b44eda093f2a4b5006b7f",
       "style": "IPY_MODEL_47068b515c584190a18ecf7e955aef28",
       "value": " 2054672/2054672 [2:02:01&lt;00:00, 280.62it/s]"
      }
     },
     "b8adde87900b432fa04180f8377d6c98": {
      "model_module": "@jupyter-widgets/controls",
      "model_module_version": "1.5.0",
      "model_name": "FloatProgressModel",
      "state": {
       "bar_style": "success",
       "description": "100%",
       "layout": "IPY_MODEL_e555b744092340eaaf44c6e3567d6d9b",
       "max": 2054672,
       "style": "IPY_MODEL_599e1294c2344a87b331e87b459b5e26",
       "value": 2054672
      }
     },
     "ba2b1ea7c8fd4103aff00dc0381473dd": {
      "model_module": "@jupyter-widgets/base",
      "model_module_version": "1.2.0",
      "model_name": "LayoutModel",
      "state": {}
     },
     "bad01e94ef75444790235ef3e4abcb29": {
      "model_module": "@jupyter-widgets/controls",
      "model_module_version": "1.5.0",
      "model_name": "DescriptionStyleModel",
      "state": {
       "description_width": ""
      }
     },
     "bb5c1d46231a490c8834ea17639037fc": {
      "model_module": "@jupyter-widgets/base",
      "model_module_version": "1.2.0",
      "model_name": "LayoutModel",
      "state": {}
     },
     "bb82d8f0571b4d6497b0012bf63db3d1": {
      "model_module": "@jupyter-widgets/controls",
      "model_module_version": "1.5.0",
      "model_name": "ProgressStyleModel",
      "state": {
       "description_width": "initial"
      }
     },
     "bd074f1f8da74beb84138e15ef403821": {
      "model_module": "@jupyter-widgets/base",
      "model_module_version": "1.2.0",
      "model_name": "LayoutModel",
      "state": {}
     },
     "bd0daaa6ab254602a75693fa2c2c7f04": {
      "model_module": "@jupyter-widgets/base",
      "model_module_version": "1.2.0",
      "model_name": "LayoutModel",
      "state": {}
     },
     "bfb101cfca9a48aabfe6c7d8c714999b": {
      "model_module": "@jupyter-widgets/controls",
      "model_module_version": "1.5.0",
      "model_name": "ProgressStyleModel",
      "state": {
       "description_width": "initial"
      }
     },
     "c22217e49b40404e93237230da862c7c": {
      "model_module": "@jupyter-widgets/controls",
      "model_module_version": "1.5.0",
      "model_name": "HBoxModel",
      "state": {
       "children": [
        "IPY_MODEL_b8adde87900b432fa04180f8377d6c98",
        "IPY_MODEL_9833054616414d5eba19082cb96b6eaf"
       ],
       "layout": "IPY_MODEL_95660f21c71d4e7c9544bea0022efab0"
      }
     },
     "c2810a7010184102a79891a3fa4230b6": {
      "model_module": "@jupyter-widgets/base",
      "model_module_version": "1.2.0",
      "model_name": "LayoutModel",
      "state": {}
     },
     "c2b780082e1d4f199e186b3d7a9a3618": {
      "model_module": "@jupyter-widgets/base",
      "model_module_version": "1.2.0",
      "model_name": "LayoutModel",
      "state": {}
     },
     "c3d8602c015a49b3ab1ef2f2f1d301ab": {
      "model_module": "@jupyter-widgets/base",
      "model_module_version": "1.2.0",
      "model_name": "LayoutModel",
      "state": {}
     },
     "c4145836420c49ab8b5918e0e179e207": {
      "model_module": "@jupyter-widgets/controls",
      "model_module_version": "1.5.0",
      "model_name": "ProgressStyleModel",
      "state": {
       "description_width": "initial"
      }
     },
     "c54f0d28cc084535a27bdbdd173850e0": {
      "model_module": "@jupyter-widgets/controls",
      "model_module_version": "1.5.0",
      "model_name": "DescriptionStyleModel",
      "state": {
       "description_width": ""
      }
     },
     "c5c0d9d5fb8e43bfa9fbd5a4c4042a84": {
      "model_module": "@jupyter-widgets/base",
      "model_module_version": "1.2.0",
      "model_name": "LayoutModel",
      "state": {}
     },
     "c641f0886c2e408ca483ad66a49ea948": {
      "model_module": "@jupyter-widgets/controls",
      "model_module_version": "1.5.0",
      "model_name": "ProgressStyleModel",
      "state": {
       "description_width": "initial"
      }
     },
     "c64db5d0d8f943139089cd1b074a83a9": {
      "model_module": "@jupyter-widgets/controls",
      "model_module_version": "1.5.0",
      "model_name": "HBoxModel",
      "state": {
       "children": [
        "IPY_MODEL_edb0426c118f4809a81a87e3d841ca62",
        "IPY_MODEL_85f5617d240b4d528b850f08094d6bb8"
       ],
       "layout": "IPY_MODEL_1e364d1ae8d544308644a833274bb497"
      }
     },
     "c7826736d55e4726a9c97cdc98ac0250": {
      "model_module": "@jupyter-widgets/controls",
      "model_module_version": "1.5.0",
      "model_name": "FloatProgressModel",
      "state": {
       "bar_style": "success",
       "description": "100%",
       "layout": "IPY_MODEL_b36a3b7bc8ec48a3903660c89abc20d5",
       "max": 2054672,
       "style": "IPY_MODEL_9efa5ef222314162bc5d052b3ba29306",
       "value": 2054672
      }
     },
     "c8a5f23503e9432691887f0738a96284": {
      "model_module": "@jupyter-widgets/controls",
      "model_module_version": "1.5.0",
      "model_name": "HTMLModel",
      "state": {
       "layout": "IPY_MODEL_6c64b69e1d2c48c49c37faeb09226ea6",
       "style": "IPY_MODEL_d6e14af2fb914fad848fd2c43af944d3",
       "value": " 4/4 [00:47&lt;00:00, 11.90s/it]"
      }
     },
     "c920156648f54b2ea7ce4d7b104fe589": {
      "model_module": "@jupyter-widgets/controls",
      "model_module_version": "1.5.0",
      "model_name": "ProgressStyleModel",
      "state": {
       "description_width": "initial"
      }
     },
     "ca15df9eb4d74e52994604bec7201cb4": {
      "model_module": "@jupyter-widgets/controls",
      "model_module_version": "1.5.0",
      "model_name": "FloatProgressModel",
      "state": {
       "bar_style": "success",
       "description": "100%",
       "layout": "IPY_MODEL_203285295d0e4f3e808cd49f2b2903f4",
       "max": 2054672,
       "style": "IPY_MODEL_c641f0886c2e408ca483ad66a49ea948",
       "value": 2054672
      }
     },
     "ca5179fbcaea40e48877c29597e8a74f": {
      "model_module": "@jupyter-widgets/controls",
      "model_module_version": "1.5.0",
      "model_name": "HTMLModel",
      "state": {
       "layout": "IPY_MODEL_5d7f16e9bd5141f4bae406cc38ec12af",
       "style": "IPY_MODEL_3982e9bbcd324a66a030f1c65c42e754",
       "value": " 2054672/2054672 [00:02&lt;00:00, 910894.10it/s]"
      }
     },
     "ca827ff2e9a74d4bb3d97eaf169386cb": {
      "model_module": "@jupyter-widgets/controls",
      "model_module_version": "1.5.0",
      "model_name": "HBoxModel",
      "state": {
       "children": [
        "IPY_MODEL_68a05a5671be477daca573d9caa70d56",
        "IPY_MODEL_2f4c067d36e94096afb4eb72c9b8a39a"
       ],
       "layout": "IPY_MODEL_82b710eb2c7f451384a5c46fc33699db"
      }
     },
     "caa8e248ccba4c17bf65c68793bff817": {
      "model_module": "@jupyter-widgets/controls",
      "model_module_version": "1.5.0",
      "model_name": "HBoxModel",
      "state": {
       "children": [
        "IPY_MODEL_3a23102d502045afa95c97484b5d737f",
        "IPY_MODEL_5cb5775a9253463ab085feca26f8241f"
       ],
       "layout": "IPY_MODEL_4ae09919069048abb4a9b43fe8fca58e"
      }
     },
     "caa981f36d8541bcbf5eb84c402f2555": {
      "model_module": "@jupyter-widgets/controls",
      "model_module_version": "1.5.0",
      "model_name": "ProgressStyleModel",
      "state": {
       "description_width": "initial"
      }
     },
     "cd2f004918ef42f88af5c9bb5755cd30": {
      "model_module": "@jupyter-widgets/controls",
      "model_module_version": "1.5.0",
      "model_name": "ProgressStyleModel",
      "state": {
       "description_width": "initial"
      }
     },
     "ce378bcef21e4d61a2f1494eaafe5e39": {
      "model_module": "@jupyter-widgets/base",
      "model_module_version": "1.2.0",
      "model_name": "LayoutModel",
      "state": {}
     },
     "cf4b6ab2531a45aaae4a81bc4419acb3": {
      "model_module": "@jupyter-widgets/controls",
      "model_module_version": "1.5.0",
      "model_name": "ProgressStyleModel",
      "state": {
       "description_width": "initial"
      }
     },
     "d0501395b52e4f22b07e2e973d977b8f": {
      "model_module": "@jupyter-widgets/controls",
      "model_module_version": "1.5.0",
      "model_name": "HBoxModel",
      "state": {
       "children": [
        "IPY_MODEL_8bf6659d150544158c169dc08b005ff7",
        "IPY_MODEL_47548e010b334dee978e70ef6f9b0446"
       ],
       "layout": "IPY_MODEL_2070b2c677224dafa673b9285b8efbc5"
      }
     },
     "d0fd851a2a1646b8b186450529225d3b": {
      "model_module": "@jupyter-widgets/base",
      "model_module_version": "1.2.0",
      "model_name": "LayoutModel",
      "state": {}
     },
     "d1af841ef8164158898b03c3d7a6f32e": {
      "model_module": "@jupyter-widgets/controls",
      "model_module_version": "1.5.0",
      "model_name": "ProgressStyleModel",
      "state": {
       "description_width": "initial"
      }
     },
     "d20bdcfc14d948faab137aef72d05dc9": {
      "model_module": "@jupyter-widgets/controls",
      "model_module_version": "1.5.0",
      "model_name": "ProgressStyleModel",
      "state": {
       "description_width": "initial"
      }
     },
     "d22c4104c23a4bb781eb20d4fe601a95": {
      "model_module": "@jupyter-widgets/base",
      "model_module_version": "1.2.0",
      "model_name": "LayoutModel",
      "state": {}
     },
     "d380bd5c1dde4e318e7026e43f563d4d": {
      "model_module": "@jupyter-widgets/base",
      "model_module_version": "1.2.0",
      "model_name": "LayoutModel",
      "state": {}
     },
     "d4884db4dd694f66b281626d45c61f42": {
      "model_module": "@jupyter-widgets/base",
      "model_module_version": "1.2.0",
      "model_name": "LayoutModel",
      "state": {}
     },
     "d4bd8e4872444c1ab76178910a48ec5f": {
      "model_module": "@jupyter-widgets/base",
      "model_module_version": "1.2.0",
      "model_name": "LayoutModel",
      "state": {}
     },
     "d652fc1342384ddd9b32acb6b1ad62e7": {
      "model_module": "@jupyter-widgets/controls",
      "model_module_version": "1.5.0",
      "model_name": "DescriptionStyleModel",
      "state": {
       "description_width": ""
      }
     },
     "d6e14af2fb914fad848fd2c43af944d3": {
      "model_module": "@jupyter-widgets/controls",
      "model_module_version": "1.5.0",
      "model_name": "DescriptionStyleModel",
      "state": {
       "description_width": ""
      }
     },
     "d784fd20bd6640398c64526ece66adc5": {
      "model_module": "@jupyter-widgets/controls",
      "model_module_version": "1.5.0",
      "model_name": "FloatProgressModel",
      "state": {
       "bar_style": "success",
       "description": "100%",
       "layout": "IPY_MODEL_24e7a60f9c8849dd8020b6d1c43456b0",
       "max": 2054672,
       "style": "IPY_MODEL_82f51b448cc14fc084792b4f5aef45c1",
       "value": 2054672
      }
     },
     "d8cfc0157b3940b8aacca07d186e3bbd": {
      "model_module": "@jupyter-widgets/base",
      "model_module_version": "1.2.0",
      "model_name": "LayoutModel",
      "state": {}
     },
     "da815128c61d49e4a53be0fb01b8ce4b": {
      "model_module": "@jupyter-widgets/controls",
      "model_module_version": "1.5.0",
      "model_name": "FloatProgressModel",
      "state": {
       "bar_style": "success",
       "description": "100%",
       "layout": "IPY_MODEL_005de82032ff4cce8cdac374b2e2e97c",
       "max": 2054672,
       "style": "IPY_MODEL_1066c035dfe4444d803bc8a554298632",
       "value": 2054672
      }
     },
     "daa4553ea2cf474cb1cd1f77e5d76d28": {
      "model_module": "@jupyter-widgets/controls",
      "model_module_version": "1.5.0",
      "model_name": "FloatProgressModel",
      "state": {
       "bar_style": "success",
       "description": "100%",
       "layout": "IPY_MODEL_eccc18938d5d4b6cad0c43dfdda81e17",
       "max": 2054672,
       "style": "IPY_MODEL_d20bdcfc14d948faab137aef72d05dc9",
       "value": 2054672
      }
     },
     "dacbe8c104a74e04bb709be2a766eac1": {
      "model_module": "@jupyter-widgets/controls",
      "model_module_version": "1.5.0",
      "model_name": "ProgressStyleModel",
      "state": {
       "description_width": "initial"
      }
     },
     "dcb7b296b5d24d0d9683d97335bd583f": {
      "model_module": "@jupyter-widgets/base",
      "model_module_version": "1.2.0",
      "model_name": "LayoutModel",
      "state": {}
     },
     "e12fc11aa0f943cda9c0e5ca652269f3": {
      "model_module": "@jupyter-widgets/base",
      "model_module_version": "1.2.0",
      "model_name": "LayoutModel",
      "state": {}
     },
     "e1e298848ac54a7d96d14196eefacce4": {
      "model_module": "@jupyter-widgets/controls",
      "model_module_version": "1.5.0",
      "model_name": "ProgressStyleModel",
      "state": {
       "description_width": "initial"
      }
     },
     "e2c2d26e4470435b926a3a4f5f25ff47": {
      "model_module": "@jupyter-widgets/base",
      "model_module_version": "1.2.0",
      "model_name": "LayoutModel",
      "state": {}
     },
     "e555b744092340eaaf44c6e3567d6d9b": {
      "model_module": "@jupyter-widgets/base",
      "model_module_version": "1.2.0",
      "model_name": "LayoutModel",
      "state": {}
     },
     "e7e2cabac7564a2496cf6debe0c69d87": {
      "model_module": "@jupyter-widgets/controls",
      "model_module_version": "1.5.0",
      "model_name": "ProgressStyleModel",
      "state": {
       "description_width": "initial"
      }
     },
     "e83571eff6244acbbae7cd68efa6914e": {
      "model_module": "@jupyter-widgets/controls",
      "model_module_version": "1.5.0",
      "model_name": "DescriptionStyleModel",
      "state": {
       "description_width": ""
      }
     },
     "e8bd59255f3d478e89d4576304d0db02": {
      "model_module": "@jupyter-widgets/controls",
      "model_module_version": "1.5.0",
      "model_name": "FloatProgressModel",
      "state": {
       "bar_style": "success",
       "description": "100%",
       "layout": "IPY_MODEL_2386ff75d85d49bc9ad2bef327e738e2",
       "max": 2054672,
       "style": "IPY_MODEL_09784a794721466c8e6ef23c28b8703d",
       "value": 2054672
      }
     },
     "ea31c4d8a5604b1aa81ed668923dac8b": {
      "model_module": "@jupyter-widgets/controls",
      "model_module_version": "1.5.0",
      "model_name": "DescriptionStyleModel",
      "state": {
       "description_width": ""
      }
     },
     "eae415c124d8481aa433fc6cb7b7de8e": {
      "model_module": "@jupyter-widgets/base",
      "model_module_version": "1.2.0",
      "model_name": "LayoutModel",
      "state": {}
     },
     "eb110bcbab7946debee94c4b03e1a487": {
      "model_module": "@jupyter-widgets/controls",
      "model_module_version": "1.5.0",
      "model_name": "HBoxModel",
      "state": {
       "children": [
        "IPY_MODEL_2d50d61938714b01beb94381443c7cf7",
        "IPY_MODEL_05c59b873d994addbd39283c249685ec"
       ],
       "layout": "IPY_MODEL_ede00ac97fad44778ecd7f17d65ce98d"
      }
     },
     "ec60d2b261134a93bd1c8f8988a7dbf7": {
      "model_module": "@jupyter-widgets/controls",
      "model_module_version": "1.5.0",
      "model_name": "HBoxModel",
      "state": {
       "children": [
        "IPY_MODEL_ca15df9eb4d74e52994604bec7201cb4",
        "IPY_MODEL_68112ca29c3e424188506e895bbe84fa"
       ],
       "layout": "IPY_MODEL_561bc1f7d7bd4005a4c7f56693cf55f3"
      }
     },
     "eccc18938d5d4b6cad0c43dfdda81e17": {
      "model_module": "@jupyter-widgets/base",
      "model_module_version": "1.2.0",
      "model_name": "LayoutModel",
      "state": {}
     },
     "ecf8c5d579c944c4870ffc40722073d0": {
      "model_module": "@jupyter-widgets/controls",
      "model_module_version": "1.5.0",
      "model_name": "FloatProgressModel",
      "state": {
       "bar_style": "success",
       "description": "100%",
       "layout": "IPY_MODEL_5a7d730e75a742acb921db822b076d73",
       "max": 2054672,
       "style": "IPY_MODEL_dacbe8c104a74e04bb709be2a766eac1",
       "value": 2054672
      }
     },
     "edb0426c118f4809a81a87e3d841ca62": {
      "model_module": "@jupyter-widgets/controls",
      "model_module_version": "1.5.0",
      "model_name": "FloatProgressModel",
      "state": {
       "bar_style": "success",
       "description": "100%",
       "layout": "IPY_MODEL_ba2b1ea7c8fd4103aff00dc0381473dd",
       "max": 2054672,
       "style": "IPY_MODEL_516a7aa5bae64e1a94086ef17a75cef7",
       "value": 2054672
      }
     },
     "ede00ac97fad44778ecd7f17d65ce98d": {
      "model_module": "@jupyter-widgets/base",
      "model_module_version": "1.2.0",
      "model_name": "LayoutModel",
      "state": {}
     },
     "ef5ab346b6c14edb944e4a09da635b46": {
      "model_module": "@jupyter-widgets/controls",
      "model_module_version": "1.5.0",
      "model_name": "FloatProgressModel",
      "state": {
       "bar_style": "success",
       "description": "100%",
       "layout": "IPY_MODEL_0c5674a2292f457cac2af3da0d229539",
       "max": 2054672,
       "style": "IPY_MODEL_5514f5e824654b68952923e4d4b013e3",
       "value": 2054672
      }
     },
     "f0e0d2949ca44653ade66088b9fae439": {
      "model_module": "@jupyter-widgets/controls",
      "model_module_version": "1.5.0",
      "model_name": "DescriptionStyleModel",
      "state": {
       "description_width": ""
      }
     },
     "f160003ff32f430080a7bf2b3ec6cbe3": {
      "model_module": "@jupyter-widgets/controls",
      "model_module_version": "1.5.0",
      "model_name": "HBoxModel",
      "state": {
       "children": [
        "IPY_MODEL_76803d71342e4d1a8002ebf8ac44decb",
        "IPY_MODEL_8abc04538620424f81ca4d62b9d0bbd3"
       ],
       "layout": "IPY_MODEL_761cf670acbc4c779feb76a7c2dc868c"
      }
     },
     "f2c04dea08f94768b07198a46893cef6": {
      "model_module": "@jupyter-widgets/controls",
      "model_module_version": "1.5.0",
      "model_name": "FloatProgressModel",
      "state": {
       "bar_style": "success",
       "description": "100%",
       "layout": "IPY_MODEL_a98baa5b1e494257816cf52bf2a1cee9",
       "max": 2054672,
       "style": "IPY_MODEL_bfb101cfca9a48aabfe6c7d8c714999b",
       "value": 2054672
      }
     },
     "f2f38e276e8d4b79bf7574a56d39bd57": {
      "model_module": "@jupyter-widgets/controls",
      "model_module_version": "1.5.0",
      "model_name": "HBoxModel",
      "state": {
       "children": [
        "IPY_MODEL_fecf134cb65d46b5ad8833823acad871",
        "IPY_MODEL_f3fb2072c12243068fe216a28c0a1a58"
       ],
       "layout": "IPY_MODEL_ad61a12e250a4ebe8c68891cdf75e058"
      }
     },
     "f3cf96aef17a48fdb40c7fccaac1a545": {
      "model_module": "@jupyter-widgets/controls",
      "model_module_version": "1.5.0",
      "model_name": "HTMLModel",
      "state": {
       "layout": "IPY_MODEL_34db23bb41e44e5a9c83bc207c12ff25",
       "style": "IPY_MODEL_27439026c1194ae2b0de458e26be7871",
       "value": " 2054672/2054672 [00:03&lt;00:00, 561206.39it/s]"
      }
     },
     "f3fb2072c12243068fe216a28c0a1a58": {
      "model_module": "@jupyter-widgets/controls",
      "model_module_version": "1.5.0",
      "model_name": "HTMLModel",
      "state": {
       "layout": "IPY_MODEL_5f11b87b7179430b99e9e7bc196013e3",
       "style": "IPY_MODEL_6b3b4616076a43a587618e130e17fb47",
       "value": " 2054672/2054672 [00:02&lt;00:00, 788888.79it/s]"
      }
     },
     "f494cded4adf42fc8db7f58e0ebfcddf": {
      "model_module": "@jupyter-widgets/controls",
      "model_module_version": "1.5.0",
      "model_name": "DescriptionStyleModel",
      "state": {
       "description_width": ""
      }
     },
     "f504158e99204d7aa83e226da102a180": {
      "model_module": "@jupyter-widgets/controls",
      "model_module_version": "1.5.0",
      "model_name": "ProgressStyleModel",
      "state": {
       "description_width": "initial"
      }
     },
     "f520950e378a42839dae863cc562c3b0": {
      "model_module": "@jupyter-widgets/base",
      "model_module_version": "1.2.0",
      "model_name": "LayoutModel",
      "state": {}
     },
     "f538ced40abb4b7783aab04bb2bc8c9d": {
      "model_module": "@jupyter-widgets/controls",
      "model_module_version": "1.5.0",
      "model_name": "HBoxModel",
      "state": {
       "children": [
        "IPY_MODEL_ab4d6b04229b4a88b9074d23d105e52a",
        "IPY_MODEL_982c72737b6e49a0bffdc0b3cde36d8a"
       ],
       "layout": "IPY_MODEL_afd373840c7b4e25a0a0461665b01ef7"
      }
     },
     "f60e263a225d4e278920da4a8faa9b78": {
      "model_module": "@jupyter-widgets/base",
      "model_module_version": "1.2.0",
      "model_name": "LayoutModel",
      "state": {}
     },
     "f64a20878f8340b6b0d706daf53daedc": {
      "model_module": "@jupyter-widgets/base",
      "model_module_version": "1.2.0",
      "model_name": "LayoutModel",
      "state": {}
     },
     "fa26919ed4a84f2eaeb859dff98c3703": {
      "model_module": "@jupyter-widgets/controls",
      "model_module_version": "1.5.0",
      "model_name": "DescriptionStyleModel",
      "state": {
       "description_width": ""
      }
     },
     "fa9d29226fa248438e5af76152b1efa4": {
      "model_module": "@jupyter-widgets/controls",
      "model_module_version": "1.5.0",
      "model_name": "DescriptionStyleModel",
      "state": {
       "description_width": ""
      }
     },
     "faeba4112ac24405aee295ef64ef713f": {
      "model_module": "@jupyter-widgets/controls",
      "model_module_version": "1.5.0",
      "model_name": "DescriptionStyleModel",
      "state": {
       "description_width": ""
      }
     },
     "fb7015593948488a83cfe6570af9ac05": {
      "model_module": "@jupyter-widgets/controls",
      "model_module_version": "1.5.0",
      "model_name": "ProgressStyleModel",
      "state": {
       "description_width": "initial"
      }
     },
     "fd174c3fbb7c4bad9c3ed8064805e4ff": {
      "model_module": "@jupyter-widgets/base",
      "model_module_version": "1.2.0",
      "model_name": "LayoutModel",
      "state": {}
     },
     "fe21c51716c542299dd70d68c043c63d": {
      "model_module": "@jupyter-widgets/base",
      "model_module_version": "1.2.0",
      "model_name": "LayoutModel",
      "state": {}
     },
     "fe6421a9996e49b6ba278a1e6745d6b2": {
      "model_module": "@jupyter-widgets/base",
      "model_module_version": "1.2.0",
      "model_name": "LayoutModel",
      "state": {}
     },
     "fe922855175e4f2ebc3afb89254717a6": {
      "model_module": "@jupyter-widgets/controls",
      "model_module_version": "1.5.0",
      "model_name": "HTMLModel",
      "state": {
       "layout": "IPY_MODEL_30ebac6bd5a746aeabd8e51df602899d",
       "style": "IPY_MODEL_f0e0d2949ca44653ade66088b9fae439",
       "value": " 2054672/2054672 [00:03&lt;00:00, 567135.70it/s]"
      }
     },
     "fecf134cb65d46b5ad8833823acad871": {
      "model_module": "@jupyter-widgets/controls",
      "model_module_version": "1.5.0",
      "model_name": "FloatProgressModel",
      "state": {
       "bar_style": "success",
       "description": "100%",
       "layout": "IPY_MODEL_07d3e3b1c8e64e95af8361026142350e",
       "max": 2054672,
       "style": "IPY_MODEL_4178ed35ac3f4546b09ce43087b14b9a",
       "value": 2054672
      }
     }
    },
    "version_major": 2,
    "version_minor": 0
   }
  }
 },
 "nbformat": 4,
 "nbformat_minor": 4
}
